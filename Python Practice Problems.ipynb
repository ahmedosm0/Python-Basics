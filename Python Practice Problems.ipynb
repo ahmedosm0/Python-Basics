{
 "cells": [
  {
   "cell_type": "markdown",
   "id": "22bcd10e",
   "metadata": {},
   "source": [
    "# 1. Basics"
   ]
  },
  {
   "cell_type": "markdown",
   "id": "56a764da",
   "metadata": {},
   "source": [
    "### user input 3 ages, find oldest one."
   ]
  },
  {
   "cell_type": "code",
   "execution_count": 13,
   "id": "fd7ff505",
   "metadata": {},
   "outputs": [
    {
     "name": "stdout",
     "output_type": "stream",
     "text": [
      "enter 1st age: 1\n",
      "enter 2nd age: 4\n",
      "enter 3rd age: 2\n"
     ]
    },
    {
     "data": {
      "text/plain": [
       "'4'"
      ]
     },
     "execution_count": 13,
     "metadata": {},
     "output_type": "execute_result"
    }
   ],
   "source": [
    "def age(a,b,c):\n",
    "    if a >b>c:\n",
    "        return a\n",
    "    elif a<b>c:\n",
    "        return b\n",
    "    else:\n",
    "        return c\n",
    "    \n",
    "a = input(\"enter 1st age: \")\n",
    "b = input(\"enter 2nd age: \")\n",
    "c = input(\"enter 3rd age: \")\n",
    "age(a,b,c)\n",
    "    "
   ]
  },
  {
   "cell_type": "markdown",
   "id": "2a674237",
   "metadata": {},
   "source": [
    "### swap the numbers, without using third variable."
   ]
  },
  {
   "cell_type": "code",
   "execution_count": 14,
   "id": "92c4284a",
   "metadata": {},
   "outputs": [
    {
     "name": "stdout",
     "output_type": "stream",
     "text": [
      "first number: 2\n",
      "second number: 4\n",
      "orignal :  2 4\n",
      "swaped :  4 2\n"
     ]
    }
   ],
   "source": [
    "a = int(input(\"first number: \"))\n",
    "b = int(input(\"second number: \"))\n",
    "print(\"orignal : \", a,b)\n",
    "\n",
    "b = a + b\n",
    "a = b - a\n",
    "b = b - a\n",
    "print(\"swaped : \", a,b)\n"
   ]
  },
  {
   "cell_type": "markdown",
   "id": "7e4a1f6f",
   "metadata": {},
   "source": [
    "### sum of 3 digits."
   ]
  },
  {
   "cell_type": "code",
   "execution_count": 11,
   "id": "d3ec3d7b",
   "metadata": {},
   "outputs": [
    {
     "name": "stdout",
     "output_type": "stream",
     "text": [
      "enter 3 digit number: 999\n",
      "27\n"
     ]
    }
   ],
   "source": [
    "x = int(input(\"enter 3 digit number: \"))\n",
    "third = x % 10   # it gives us last digit in reminder.\n",
    "num = x // 10    # it gives us first, second digits in quotient.\n",
    "second = num % 10   # it gives us second digit in reminder.\n",
    "first = num // 10   # it gives us first digit in quotient.\n",
    "\n",
    "print(first + second + third)\n"
   ]
  },
  {
   "cell_type": "markdown",
   "id": "8b866a0b",
   "metadata": {},
   "source": [
    "### reverse a four digit number, with separating space."
   ]
  },
  {
   "cell_type": "code",
   "execution_count": 6,
   "id": "4ba41bb4",
   "metadata": {},
   "outputs": [
    {
     "name": "stdout",
     "output_type": "stream",
     "text": [
      "enter 4 digits number: 1234\n",
      "4 3 2 1\n"
     ]
    }
   ],
   "source": [
    "x = input(\"enter 4 digits number: \")\n",
    "b = x[::-1]    # it reverse the input.\n",
    "c = \" \". join(b)   # it joins input with space.\n",
    "print(c)"
   ]
  },
  {
   "cell_type": "markdown",
   "id": "8c8340f1",
   "metadata": {},
   "source": [
    "### reverse four digit number, check it's reverse is true or not."
   ]
  },
  {
   "cell_type": "code",
   "execution_count": 23,
   "id": "966a1c37",
   "metadata": {},
   "outputs": [
    {
     "name": "stdout",
     "output_type": "stream",
     "text": [
      "enter four digits number: 1234\n",
      "4321\n",
      "False\n"
     ]
    }
   ],
   "source": [
    "# method 1.\n",
    "x = input(\"enter four digits number: \")\n",
    "a = x[::-1]\n",
    "print(a)\n",
    "if x == a:\n",
    "    print(True)\n",
    "else:\n",
    "    print(False)"
   ]
  },
  {
   "cell_type": "code",
   "execution_count": 38,
   "id": "4cc13eca",
   "metadata": {},
   "outputs": [
    {
     "name": "stdout",
     "output_type": "stream",
     "text": [
      "enter a four digit number: 4567\n",
      "7654\n",
      "False\n"
     ]
    }
   ],
   "source": [
    "# method 2.\n",
    "x = int(input(\"enter a four digit number: \"))\n",
    "\n",
    "fourth = x % 10        # fourth digit.\n",
    "quot_1 = x // 10    # first 3 digits.\n",
    "\n",
    "third = quot_1 % 10    # third digit.\n",
    "quot_2 = quot_1 // 10     # first 2 digits.\n",
    "\n",
    "second = quot_2 % 10   # second digit.\n",
    "\n",
    "first = quot_2 // 10   # first digit.\n",
    "\n",
    "rev_formula = (fourth * 1000 + third * 100 + second * 10 + first )\n",
    "print(rev_formula)\n",
    "\n",
    "# check reverse:\n",
    "if rev_formula == x:\n",
    "    print(True)\n",
    "else:\n",
    "    print(False)"
   ]
  },
  {
   "cell_type": "markdown",
   "id": "0b724882",
   "metadata": {},
   "source": [
    "### check given number is divisable by both 3 and 6"
   ]
  },
  {
   "cell_type": "code",
   "execution_count": 49,
   "id": "b02bd4e6",
   "metadata": {},
   "outputs": [
    {
     "name": "stdout",
     "output_type": "stream",
     "text": [
      "enter a number: 12\n",
      "number is divisable by 3 and 6.\n"
     ]
    }
   ],
   "source": [
    "user_input = int(input(\"enter a number: \"))\n",
    "\n",
    "if user_input % 3 == 0 and user_input % 6 == 0:\n",
    "    print(\"number is divisable by 3 and 6.\")\n",
    "else:\n",
    "    print(\"number is not divisable by 3 and 6.\")"
   ]
  },
  {
   "cell_type": "markdown",
   "id": "8c3bb43b",
   "metadata": {},
   "source": [
    "### input 3 digits from user and add square of each digit."
   ]
  },
  {
   "cell_type": "code",
   "execution_count": 58,
   "id": "1e425873",
   "metadata": {},
   "outputs": [
    {
     "name": "stdout",
     "output_type": "stream",
     "text": [
      "enter three digits number : 123\n",
      "14\n"
     ]
    }
   ],
   "source": [
    "x = int(input(\"enter three digits number : \"))\n",
    "\n",
    "r_3 = x % 10 \n",
    "q_1 = x // 10\n",
    "r_2 = q_1 % 10\n",
    "q_2 = q_1 // 10\n",
    "\n",
    "num = (r_3 ** 2) + (r_2 ** 2) + (q_2 ** 2)\n",
    "print(num)"
   ]
  },
  {
   "cell_type": "markdown",
   "id": "f55b3610",
   "metadata": {},
   "source": [
    "### input a number of 4 digit, to check number is narcissistic. \n",
    "- 153 = 1 ^ 3 + 5 ^ 3 + 3 ^ 3  = 153"
   ]
  },
  {
   "cell_type": "code",
   "execution_count": 12,
   "id": "980d5fcc",
   "metadata": {},
   "outputs": [
    {
     "name": "stdout",
     "output_type": "stream",
     "text": [
      "enter the 4 digit number: 1234\n",
      "354\n",
      "number is not narcissistic.\n"
     ]
    }
   ],
   "source": [
    "x = input(\"enter the 4 digit number: \")\n",
    "y = len(x)\n",
    "a = int(x)\n",
    "\n",
    "num_4 = a % 10\n",
    "quot_1 = a // 10\n",
    "\n",
    "num_3 = quot_1 % 10\n",
    "quot_2 = quot_1 // 10\n",
    "\n",
    "num_2 = quot_2 % 10\n",
    "num_1 = quot_2 // 10\n",
    "\n",
    "result = (num_1 ** y) + (num_2 ** y) + (num_3 ** y) + (num_4 ** y)\n",
    "print(result)\n",
    "\n",
    "if a == result:\n",
    "    print(\"number is narcissistic.\")\n",
    "else:\n",
    "    print(\"number is not narcissistic.\")"
   ]
  },
  {
   "cell_type": "markdown",
   "id": "12bacc3f",
   "metadata": {},
   "source": [
    "# 2. input exercise."
   ]
  },
  {
   "cell_type": "markdown",
   "id": "c84a5cc8",
   "metadata": {},
   "source": [
    "### display \"name\" \"is\" \"python\" to \"name ** is ** python\""
   ]
  },
  {
   "cell_type": "code",
   "execution_count": 17,
   "id": "3f0f2bf1",
   "metadata": {},
   "outputs": [
    {
     "name": "stdout",
     "output_type": "stream",
     "text": [
      "name ** is ** python\n"
     ]
    }
   ],
   "source": [
    "print(\"name\",\"is\",\"python\", sep = \" ** \")"
   ]
  },
  {
   "cell_type": "markdown",
   "id": "baa8df59",
   "metadata": {},
   "source": [
    "### convert decimal to octal."
   ]
  },
  {
   "cell_type": "code",
   "execution_count": 34,
   "id": "7b7dbd5c",
   "metadata": {},
   "outputs": [
    {
     "name": "stdout",
     "output_type": "stream",
     "text": [
      "0o14\n",
      "14\n"
     ]
    }
   ],
   "source": [
    "x = 12\n",
    "print(oct(x))\n",
    "print(oct(x)[-2:])"
   ]
  },
  {
   "cell_type": "markdown",
   "id": "fbabf762",
   "metadata": {},
   "source": [
    "### display float number, with 2 decimals."
   ]
  },
  {
   "cell_type": "code",
   "execution_count": 40,
   "id": "ba2499ca",
   "metadata": {},
   "outputs": [
    {
     "name": "stdout",
     "output_type": "stream",
     "text": [
      "33.33\n"
     ]
    }
   ],
   "source": [
    "x = 33.33333\n",
    "print(round(x,2))"
   ]
  },
  {
   "cell_type": "markdown",
   "id": "85875801",
   "metadata": {},
   "source": [
    "### factors of input number."
   ]
  },
  {
   "cell_type": "code",
   "execution_count": 52,
   "id": "c886182e",
   "metadata": {},
   "outputs": [
    {
     "name": "stdout",
     "output_type": "stream",
     "text": [
      "enter number: 45\n",
      "1 3 5 9 15 45 "
     ]
    }
   ],
   "source": [
    "x = int(input(\"enter number: \"))\n",
    "for i in range (1, x+1):\n",
    "    if x % i == 0:\n",
    "        print(i, end = \" \")\n",
    "        "
   ]
  },
  {
   "cell_type": "markdown",
   "id": "49613f02",
   "metadata": {},
   "source": [
    "### 5 input floats, stored in List"
   ]
  },
  {
   "cell_type": "code",
   "execution_count": 67,
   "id": "17cd5ae3",
   "metadata": {},
   "outputs": [
    {
     "name": "stdout",
     "output_type": "stream",
     "text": [
      "enter five float inputs: 1.1\n",
      "enter five float inputs: 2.2\n",
      "enter five float inputs: 3.33\n",
      "enter five float inputs: 4.444\n",
      "enter five float inputs: 5.55555\n",
      "['1.1', '2.2', '3.33', '4.444', '5.55555']\n"
     ]
    }
   ],
   "source": [
    "a = []\n",
    "for i in range(5):\n",
    "    x = input(\"enter five float inputs: \")\n",
    "    a.append(x)\n",
    "\n",
    "print(a)"
   ]
  },
  {
   "cell_type": "markdown",
   "id": "afa63452",
   "metadata": {},
   "source": [
    "### input a string, and split each word into lines"
   ]
  },
  {
   "cell_type": "code",
   "execution_count": 80,
   "id": "13157e11",
   "metadata": {},
   "outputs": [
    {
     "name": "stdout",
     "output_type": "stream",
     "text": [
      "enter 3 strings using space: how are you\n",
      "how\n",
      "are\n",
      "you\n"
     ]
    }
   ],
   "source": [
    "x = input(\"enter 3 strings using space: \")\n",
    "a = x.split()\n",
    "for i in a:\n",
    "    print(i)"
   ]
  },
  {
   "cell_type": "markdown",
   "id": "6aa29589",
   "metadata": {},
   "source": [
    "### using string.format "
   ]
  },
  {
   "cell_type": "code",
   "execution_count": 88,
   "id": "9e650a10",
   "metadata": {},
   "outputs": [
    {
     "name": "stdout",
     "output_type": "stream",
     "text": [
      "I've 1000 dollars, So I can buy 3 footballs for 450 dollars\n"
     ]
    }
   ],
   "source": [
    "a = 1000\n",
    "b = 3\n",
    "c = 450\n",
    "print(\"I've {} dollars, So I can buy {} footballs for {} dollars\".format(a,b,c))"
   ]
  },
  {
   "cell_type": "markdown",
   "id": "5f235dd6",
   "metadata": {},
   "source": [
    "### find amount pay, when principle, rate of interest and time period is given."
   ]
  },
  {
   "cell_type": "code",
   "execution_count": 93,
   "id": "a951304a",
   "metadata": {},
   "outputs": [
    {
     "name": "stdout",
     "output_type": "stream",
     "text": [
      "enter principle amount: 67000\n",
      "enter interest rate per year: 12\n",
      "enter time period: 5\n",
      "Total amount pay after 5 years is :  107200.0\n"
     ]
    }
   ],
   "source": [
    "p = int(input(\"enter principle amount: \"))\n",
    "r = int(input(\"enter interest rate per year: \"))\n",
    "t = int(input(\"enter time period: \"))\n",
    "\n",
    "simple_interest = p * r * t / 100\n",
    "total_amount = p + simple_interest\n",
    "print(\"Total amount pay after {} years is : \".format(t),total_amount)"
   ]
  },
  {
   "cell_type": "markdown",
   "id": "e5b8d96e",
   "metadata": {},
   "source": [
    "### find volume of cylinder, and total cost to full the cylinder with milk. milk/ltr is 40."
   ]
  },
  {
   "cell_type": "code",
   "execution_count": 116,
   "id": "4fb236c2",
   "metadata": {},
   "outputs": [
    {
     "name": "stdout",
     "output_type": "stream",
     "text": [
      "enter the radius: 56\n",
      "enter the height: 5\n",
      "****************************************\n",
      "volume of cylinder :  49235.2\n",
      "cylinder capacity in ltr :  49.2352\n",
      "Total cost of milk contains in cylinder :  1969.408\n"
     ]
    }
   ],
   "source": [
    "r = int(input(\"enter the radius: \"))\n",
    "h = int(input(\"enter the height: \"))\n",
    "\n",
    "print(\"*\" * 40)\n",
    "\n",
    "area = 3.14 * (r**2 * h)\n",
    "area_val = round(area,2)\n",
    "print(\"volume of cylinder : \", area_val)\n",
    "\n",
    "capacity = area_val / 1000\n",
    "print(\"cylinder capacity in ltr : \", capacity)\n",
    "\n",
    "price = capacity * 40\n",
    "print(\"Total cost of milk contains in cylinder : \", price)"
   ]
  },
  {
   "cell_type": "markdown",
   "id": "e91efee0",
   "metadata": {},
   "source": [
    "### print(1,3,5,7,9,11,13,15,17)"
   ]
  },
  {
   "cell_type": "code",
   "execution_count": 6,
   "id": "027d4266",
   "metadata": {},
   "outputs": [
    {
     "name": "stdout",
     "output_type": "stream",
     "text": [
      "1 1 3 5 7 9 11 13 15 17 "
     ]
    }
   ],
   "source": [
    "jump = 1\n",
    "for i in range (10):\n",
    "    result = i + jump\n",
    "    print(result , end = \" \")\n",
    "    jump = i\n",
    "    "
   ]
  },
  {
   "cell_type": "markdown",
   "id": "933cb077",
   "metadata": {},
   "source": [
    "### search given number in list"
   ]
  },
  {
   "cell_type": "code",
   "execution_count": 30,
   "id": "e06a4e7f",
   "metadata": {},
   "outputs": [
    {
     "name": "stdout",
     "output_type": "stream",
     "text": [
      "enter number: 5\n",
      "number not found.\n"
     ]
    }
   ],
   "source": [
    "L = [1,2,3,4,6,7,9,00]\n",
    "n = int(input(\"enter number: \"))\n",
    "\n",
    "for i in L:\n",
    "    if i == n:\n",
    "        print(\"number found.\")\n",
    "        break\n",
    "else:\n",
    "    print(\"number not found.\")"
   ]
  },
  {
   "cell_type": "markdown",
   "id": "fa61a094",
   "metadata": {},
   "source": [
    "### to check number is palindrome or not. like we can write it in reverse order. e.g: 545."
   ]
  },
  {
   "cell_type": "code",
   "execution_count": 37,
   "id": "181a33d1",
   "metadata": {},
   "outputs": [
    {
     "name": "stdout",
     "output_type": "stream",
     "text": [
      "enter number : 110011\n",
      "number is palindrome.\n"
     ]
    }
   ],
   "source": [
    "# 545\n",
    "x = input(\"enter number : \")\n",
    "if x[::-1] == x:\n",
    "    print(\"number is palindrome.\")\n",
    "else:\n",
    "    print(\"number is not palindrome.\")"
   ]
  },
  {
   "cell_type": "markdown",
   "id": "8e71dd9c",
   "metadata": {},
   "source": [
    "### separate even, odd number from 2 lists."
   ]
  },
  {
   "cell_type": "code",
   "execution_count": 2,
   "id": "7e41f452",
   "metadata": {},
   "outputs": [
    {
     "name": "stdout",
     "output_type": "stream",
     "text": [
      "even list:  [2, 4, 6, 8, 0]\n",
      "odd list:  [1, 3, 5, 7, 9]\n"
     ]
    }
   ],
   "source": [
    "L1 = [1,2,3,4,5]\n",
    "L2 = [6,7,8,9,0]\n",
    "L_even = []\n",
    "L_odd = []\n",
    "for i in L1:\n",
    "    if i % 2 == 0:\n",
    "        L_even.append(i)\n",
    "        \n",
    "    else:\n",
    "        L_odd.append(i)\n",
    "\n",
    "for i in L2:\n",
    "    if i % 2 == 0:\n",
    "        L_even.append(i)\n",
    "        \n",
    "    else:\n",
    "        L_odd.append(i)\n",
    "        \n",
    "print(\"even list: \",L_even)\n",
    "print(\"odd list: \",L_odd)\n"
   ]
  },
  {
   "cell_type": "markdown",
   "id": "9c8e5afb",
   "metadata": {},
   "source": [
    "### print this"
   ]
  },
  {
   "cell_type": "code",
   "execution_count": 21,
   "id": "19e1b925",
   "metadata": {},
   "outputs": [
    {
     "name": "stdout",
     "output_type": "stream",
     "text": [
      "1  2  3  4  5  6  7  8  9  10   \n",
      "2  4  6  8  10  12  14  16  18  20   \n",
      "3  6  9  12  15  18  21  24  27  30   \n",
      "4  8  12  16  20  24  28  32  36  40   \n",
      "5  10  15  20  25  30  35  40  45  50   \n",
      "6  12  18  24  30  36  42  48  54  60   \n",
      "7  14  21  28  35  42  49  56  63  70   \n",
      "8  16  24  32  40  48  56  64  72  80   \n",
      "9  18  27  36  45  54  63  72  81  90   \n",
      "10  20  30  40  50  60  70  80  90  100   \n"
     ]
    }
   ],
   "source": [
    "for i in range(1,11):\n",
    "    for j in range(1,11):\n",
    "        print(i*j , end = \"  \")\n",
    "    print(\" \")"
   ]
  },
  {
   "cell_type": "markdown",
   "id": "59975e95",
   "metadata": {},
   "source": [
    "### print armstrong number form range(100, 1000)"
   ]
  },
  {
   "cell_type": "code",
   "execution_count": 35,
   "id": "f5182343",
   "metadata": {},
   "outputs": [
    {
     "name": "stdout",
     "output_type": "stream",
     "text": [
      "[153, 370, 371, 407]\n"
     ]
    }
   ],
   "source": [
    "arm_str = []\n",
    "for i in range (100,1000):\n",
    "    a = i % 10\n",
    "    quot = i // 10\n",
    "    b = quot % 10\n",
    "    c = quot // 10\n",
    "    \n",
    "    if (a**3) + (b**3) + (c**3) == i:\n",
    "        arm_str.append(i)\n",
    "    \n",
    "print(arm_str)\n",
    "        \n",
    "    "
   ]
  },
  {
   "cell_type": "markdown",
   "id": "50fff382",
   "metadata": {},
   "source": [
    "### population = 10,000 , intrest = 10% , population after every 10 years: ?"
   ]
  },
  {
   "cell_type": "code",
   "execution_count": 57,
   "id": "dc3f9bde",
   "metadata": {},
   "outputs": [
    {
     "name": "stdout",
     "output_type": "stream",
     "text": [
      "9000 8100 7290 6561 5905 5314 4783 4305 3874 "
     ]
    }
   ],
   "source": [
    "x = 10000\n",
    "for i in range(1,10):\n",
    "    x = x - 0.1 * x\n",
    "    print(round(x), end = \" \")\n"
   ]
  },
  {
   "cell_type": "markdown",
   "id": "4c5f8df6",
   "metadata": {},
   "source": [
    "### unique combination of 2 digits (1-4)."
   ]
  },
  {
   "cell_type": "code",
   "execution_count": 1,
   "id": "24587cb9",
   "metadata": {},
   "outputs": [
    {
     "name": "stdout",
     "output_type": "stream",
     "text": [
      "1 2\n",
      "1 3\n",
      "1 4\n",
      "2 1\n",
      "2 3\n",
      "2 4\n",
      "3 1\n",
      "3 2\n",
      "3 4\n",
      "4 1\n",
      "4 2\n",
      "4 3\n"
     ]
    }
   ],
   "source": [
    "# 4 digits, means 16 possiabilities.\n",
    "for i in range(1,5):\n",
    "    for j in range(1,5):\n",
    "        if i!=j:\n",
    "            print(i,j)"
   ]
  },
  {
   "cell_type": "markdown",
   "id": "e5a352bf",
   "metadata": {},
   "source": [
    "### given number is prime or not."
   ]
  },
  {
   "cell_type": "code",
   "execution_count": 49,
   "id": "b5acd4e4",
   "metadata": {},
   "outputs": [
    {
     "name": "stdout",
     "output_type": "stream",
     "text": [
      "enter the number: 97\n",
      "prime number.\n"
     ]
    }
   ],
   "source": [
    "x = int(input(\"enter the number: \"))\n",
    "    \n",
    "if x == 2 or x == 3 :\n",
    "    print(\"prime number.\")\n",
    "\n",
    "elif x % 2 == 0 or x % 3 == 0 or x == 1:\n",
    "    print(\"not a prime number.\")\n",
    "    \n",
    "else:\n",
    "    print(\"prime number.\")"
   ]
  },
  {
   "cell_type": "markdown",
   "id": "a98ef2a2",
   "metadata": {},
   "source": [
    "### find HCF of 2 input numbers:"
   ]
  },
  {
   "cell_type": "code",
   "execution_count": 87,
   "id": "054452a9",
   "metadata": {},
   "outputs": [
    {
     "name": "stdout",
     "output_type": "stream",
     "text": [
      "enter first number: 16\n",
      "enter second number: 72\n",
      "x =  [1, 2, 4, 8, 16]\n",
      "y =  [1, 2, 3, 4, 6, 8, 9, 12, 18, 24, 36, 72]\n",
      "common =  [1, 2, 4, 8]\n",
      "hcf is : 8\n"
     ]
    }
   ],
   "source": [
    "x = int(input(\"enter first number: \"))\n",
    "y = int(input(\"enter second number: \"))\n",
    "\n",
    "x_1 = []\n",
    "y_1 = []\n",
    "\n",
    "for i in range(1,x+1):\n",
    "    if x % i == 0:\n",
    "        x_1.append(i)\n",
    "print(\"x = \",x_1)\n",
    "\n",
    "for i in range(1, y+1):\n",
    "    if y%i == 0:\n",
    "        y_1.append(i)\n",
    "print(\"y = \",y_1)\n",
    "\n",
    "common_list = []\n",
    "\n",
    "for i in x_1:\n",
    "    if i in y_1:\n",
    "        common_list.append(i)\n",
    "print(\"common = \",common_list)\n",
    "\n",
    "print(\"hcf is :\", max(common_list))"
   ]
  },
  {
   "cell_type": "markdown",
   "id": "173f82b1",
   "metadata": {},
   "source": [
    "### find profit or loss, taking two input of cost price and selling price."
   ]
  },
  {
   "cell_type": "code",
   "execution_count": 97,
   "id": "ddd37ef1",
   "metadata": {},
   "outputs": [
    {
     "name": "stdout",
     "output_type": "stream",
     "text": [
      "enter cost price: 0\n",
      "enter selling price: 0\n",
      "profit :  0\n"
     ]
    }
   ],
   "source": [
    "x = int(input(\"enter cost price: \"))\n",
    "y = int(input(\"enter selling price: \"))\n",
    "\n",
    "if x > y:\n",
    "    price = y - x\n",
    "    print(\"loss : \", price)\n",
    "else:\n",
    "    price = y - x\n",
    "    print(\"profit : \",price)"
   ]
  },
  {
   "cell_type": "markdown",
   "id": "a0132783",
   "metadata": {},
   "source": [
    "### in-hand salary after deduction.\n",
    "- 10%, 5%, 3% = 18%. constant\n",
    "- 5-10: 10%, 11-20: 20%, 21->: 30%"
   ]
  },
  {
   "cell_type": "code",
   "execution_count": 119,
   "id": "5c76ab57",
   "metadata": {},
   "outputs": [
    {
     "name": "stdout",
     "output_type": "stream",
     "text": [
      "enter your salary: 60000\n",
      "salary after deduction of HRA(10%) / DA(5%) / PF(3%):  49200\n",
      "total tax on salary:  14760.0\n",
      "salary after 30% tax:  34440.0\n"
     ]
    }
   ],
   "source": [
    "z = int(input(\"enter your salary: \"))\n",
    "y = z * 0.18\n",
    "x = z - y\n",
    "print(\"salary after deduction of HRA(10%) / DA(5%) / PF(3%): \", round(x))\n",
    "\n",
    "if x >=5000 and x<= 10000:\n",
    "    tax = x * 0.10\n",
    "    salary = x - tax\n",
    "    \n",
    "    print(\"total tax on salary: \", round(tax))\n",
    "    print(\"salary after 10% tax: \", round(salary))\n",
    "    \n",
    "elif x>=11000 and x<=20000:\n",
    "    tax = x * 0.20\n",
    "    salary = x - tax\n",
    "    print(\"total tax on salary: \", tax)\n",
    "    print(\"salary after 20% tax: \", salary)\n",
    "    \n",
    "elif x>= 21000:\n",
    "    tax = x * 0.30\n",
    "    salary = x - tax\n",
    "    print(\"total tax on salary: \", tax)\n",
    "    print(\"salary after 30% tax: \", salary)\n",
    "\n",
    "else:\n",
    "    salary = x\n",
    "    print(\"total salary: \", x)\n",
    "    "
   ]
  },
  {
   "cell_type": "code",
   "execution_count": 139,
   "id": "740dd9c9",
   "metadata": {},
   "outputs": [
    {
     "name": "stdout",
     "output_type": "stream",
     "text": [
      "enter the number: 10\n",
      "55\n"
     ]
    }
   ],
   "source": [
    "# 10 . output = 5 5\n",
    "x = int(input(\"enter the number: \"))\n",
    "y = 0\n",
    "for i in range(1, x+1):\n",
    "    y = y+i\n",
    "print(y)\n"
   ]
  },
  {
   "cell_type": "markdown",
   "id": "1098374d",
   "metadata": {},
   "source": [
    "### multiply 2 number without using operator."
   ]
  },
  {
   "cell_type": "code",
   "execution_count": 142,
   "id": "6c70eb08",
   "metadata": {},
   "outputs": [
    {
     "name": "stdout",
     "output_type": "stream",
     "text": [
      "enter first number: 5\n",
      "enter second number: 9\n",
      "45\n"
     ]
    }
   ],
   "source": [
    "x = int(input(\"enter first number: \"))\n",
    "y = int(input(\"enter second number: \"))\n",
    "result = 0\n",
    "for i in range(y):\n",
    "    result = result + x\n",
    "print(result)"
   ]
  },
  {
   "cell_type": "markdown",
   "id": "2d2b13ee",
   "metadata": {},
   "source": [
    "### Factorial"
   ]
  },
  {
   "cell_type": "code",
   "execution_count": 11,
   "id": "2be6e342",
   "metadata": {},
   "outputs": [
    {
     "name": "stdout",
     "output_type": "stream",
     "text": [
      "enter number: 4\n",
      "24\n"
     ]
    }
   ],
   "source": [
    "# 4,3,2,1 = 24\n",
    "x = int(input(\"enter number: \"))\n",
    "fact = 1\n",
    "\n",
    "for i in range(1,x+1):\n",
    "    fact = fact * i\n",
    "print(fact)"
   ]
  },
  {
   "cell_type": "markdown",
   "id": "37a2c68d",
   "metadata": {},
   "source": [
    "### print the pattern"
   ]
  },
  {
   "cell_type": "code",
   "execution_count": 35,
   "id": "f6756768",
   "metadata": {},
   "outputs": [
    {
     "name": "stdout",
     "output_type": "stream",
     "text": [
      "1 \n",
      "2 2 \n",
      "3 3 3 \n",
      "4 4 4 4 \n",
      "5 5 5 5 5 \n"
     ]
    }
   ],
   "source": [
    "for i in range(1,6):\n",
    "    for j in range(i):\n",
    "        print(i, end = \" \" ) \n",
    "    print(\"\")"
   ]
  },
  {
   "cell_type": "markdown",
   "id": "9cc6e1de",
   "metadata": {},
   "source": [
    "### print(1-10) using while loop."
   ]
  },
  {
   "cell_type": "code",
   "execution_count": 41,
   "id": "417086b3",
   "metadata": {},
   "outputs": [
    {
     "name": "stdout",
     "output_type": "stream",
     "text": [
      "1 2 3 4 5 6 7 8 9 10 "
     ]
    }
   ],
   "source": [
    "n = 1\n",
    "while n <= 10:\n",
    "    print(n, end=\" \")\n",
    "    n+=1"
   ]
  },
  {
   "cell_type": "code",
   "execution_count": 45,
   "id": "64b31aa4",
   "metadata": {},
   "outputs": [
    {
     "name": "stdout",
     "output_type": "stream",
     "text": [
      "1 2 3 4 5 6 7 8 9 10 "
     ]
    }
   ],
   "source": [
    "while i < 10:\n",
    "    for i in range (1,11):\n",
    "        print(i, end = \" \")"
   ]
  },
  {
   "cell_type": "markdown",
   "id": "8b6ca742",
   "metadata": {},
   "source": [
    "### count total number of digits, using while loop."
   ]
  },
  {
   "cell_type": "code",
   "execution_count": 70,
   "id": "afa0ca8d",
   "metadata": {},
   "outputs": [
    {
     "name": "stdout",
     "output_type": "stream",
     "text": [
      "enter number: 65663\n",
      "5\n"
     ]
    }
   ],
   "source": [
    "x = input(\"enter number: \")\n",
    "y = list(x)\n",
    "counter = 0\n",
    "# print(\"len of y: \",len(y))\n",
    "\n",
    "while counter < len(y):\n",
    "    for i in y:\n",
    "#         print(\"i: \",i )\n",
    "#         print(\"y: \", y)\n",
    "        counter += 1\n",
    "#         print(\"counter: \", counter)\n",
    "print(counter)\n"
   ]
  },
  {
   "cell_type": "markdown",
   "id": "79d938bc",
   "metadata": {},
   "source": [
    "### display sum and average of all numbers. "
   ]
  },
  {
   "cell_type": "code",
   "execution_count": 16,
   "id": "12f41aef",
   "metadata": {},
   "outputs": [
    {
     "name": "stdout",
     "output_type": "stream",
     "text": [
      "enter number: 4\n",
      "enter number: 3\n",
      "enter number: 2\n",
      "enter number: 0\n",
      "Thank You.\n",
      "sum is:  9\n",
      "avg is:  3\n"
     ]
    }
   ],
   "source": [
    "x = int(input(\"enter number: \"))\n",
    "count = 0\n",
    "sum = 0\n",
    "avg = 0\n",
    "\n",
    "while x!=0:\n",
    "    sum = sum+x\n",
    "    count += 1\n",
    "    avg = sum / count\n",
    "    x = int(input(\"enter number: \"))\n",
    "else:\n",
    "    print(\"Thank You.\")\n",
    "\n",
    "    \n",
    "print(\"sum is: \",sum)\n",
    "print(\"avg is: \",round(avg))\n"
   ]
  },
  {
   "cell_type": "code",
   "execution_count": 23,
   "id": "bc0c9fd2",
   "metadata": {},
   "outputs": [
    {
     "name": "stdout",
     "output_type": "stream",
     "text": [
      "enter a number: 3\n",
      "enter another number: 2\n",
      "enter another number: 1\n",
      "enter another number: 0\n",
      "Thank You.\n",
      "sum is :  6\n",
      "average is :  2\n"
     ]
    }
   ],
   "source": [
    "x = int(input(\"enter a number: \"))\n",
    "sum = 0\n",
    "avg = 0\n",
    "count = 0\n",
    "\n",
    "while True:\n",
    "    if x!=0:\n",
    "        sum = sum+x\n",
    "        count += 1\n",
    "        avg = sum/count\n",
    "        x = int(input(\"enter another number: \"))\n",
    "    else:\n",
    "        print(\"Thank You.\")\n",
    "        break\n",
    "print(\"sum is : \", sum)\n",
    "print(\"average is : \", round(avg))"
   ]
  },
  {
   "cell_type": "markdown",
   "id": "c5a42d7d",
   "metadata": {},
   "source": [
    "### print first 25 odd numbers."
   ]
  },
  {
   "cell_type": "code",
   "execution_count": 31,
   "id": "5069a453",
   "metadata": {},
   "outputs": [
    {
     "name": "stdout",
     "output_type": "stream",
     "text": [
      "[1, 3, 5, 7, 9, 11, 13, 15, 17, 19, 21, 23, 25, 27, 29, 31, 33, 35, 37, 39, 41, 43, 45, 47, 49]\n"
     ]
    }
   ],
   "source": [
    "L_1 = []\n",
    "i = 1\n",
    "count = 0\n",
    "\n",
    "while True:\n",
    "    if i % 2 !=0:\n",
    "        L_1.append(i)\n",
    "        count += 1\n",
    "    if count == 25:\n",
    "        break\n",
    "    i+=1\n",
    "print(L_1)\n",
    "        "
   ]
  },
  {
   "cell_type": "code",
   "execution_count": 48,
   "id": "4bf7a0b7",
   "metadata": {},
   "outputs": [
    {
     "name": "stdout",
     "output_type": "stream",
     "text": [
      "enter rows: 5\n",
      " \n",
      "1  \n",
      "1 2  \n",
      "1 2 3  \n",
      "1 2 3 4  \n",
      "1 2 3 4 5  \n"
     ]
    }
   ],
   "source": [
    "x = int(input(\"enter rows: \"))\n",
    "for i in range(x+1):\n",
    "    for j in range(1,i+1):\n",
    "        print(j,end = ' ')\n",
    "    print(\" \")"
   ]
  },
  {
   "cell_type": "code",
   "execution_count": 67,
   "id": "4a76f08a",
   "metadata": {},
   "outputs": [
    {
     "name": "stdout",
     "output_type": "stream",
     "text": [
      "1  \n",
      "1 2  \n",
      "1 2 3  \n",
      "1 2 3 4  \n",
      "1 2 3 4 5  \n"
     ]
    }
   ],
   "source": [
    "for i in range(1,6):\n",
    "    for j in range (1,i+1):\n",
    "        print(j, end = \" \")\n",
    "    print(\" \")"
   ]
  },
  {
   "cell_type": "code",
   "execution_count": 17,
   "id": "9758da38",
   "metadata": {},
   "outputs": [
    {
     "name": "stdout",
     "output_type": "stream",
     "text": [
      " \n",
      "1  \n",
      "2 3  \n",
      "4 5 6  \n",
      "7 8 9 10  \n",
      "11 12 13 14 15  \n"
     ]
    }
   ],
   "source": [
    "num = 1\n",
    "for i in range (6):\n",
    "    for j in range (i):\n",
    "        print(num, end = \" \")\n",
    "        num += 1\n",
    "    print(\" \")"
   ]
  },
  {
   "cell_type": "code",
   "execution_count": 18,
   "id": "0ee74215",
   "metadata": {},
   "outputs": [
    {
     "name": "stdout",
     "output_type": "stream",
     "text": [
      "number of rows : 5\n",
      " \n",
      "1  \n",
      "2 3  \n",
      "4 5 6  \n",
      "7 8 9 10  \n",
      "11 12 13 14 15  \n"
     ]
    }
   ],
   "source": [
    "x = int(input(\"number of rows : \"))\n",
    "num = 1\n",
    "for i in range(x+1):\n",
    "    for j in range(i):\n",
    "        print(num, end = \" \")\n",
    "        num += 1\n",
    "    print(\" \")\n",
    "        "
   ]
  },
  {
   "cell_type": "code",
   "execution_count": 25,
   "id": "d8574e0a",
   "metadata": {},
   "outputs": [
    {
     "name": "stdout",
     "output_type": "stream",
     "text": [
      "number of rows: 5\n",
      " \n",
      "1  \n",
      "1 2  \n",
      "1 2 3  \n",
      "1 2 3 4  \n",
      "1 2 3 4 5  \n"
     ]
    }
   ],
   "source": [
    "x = int(input(\"number of rows: \"))\n",
    "\n",
    "for i in range(x+1):\n",
    "    for j in range(1,i+1):\n",
    "        print(j, end= \" \")    \n",
    "    print(\" \")"
   ]
  },
  {
   "cell_type": "markdown",
   "id": "f020a624",
   "metadata": {},
   "source": [
    "### table."
   ]
  },
  {
   "cell_type": "code",
   "execution_count": 32,
   "id": "e1bafbb7",
   "metadata": {},
   "outputs": [
    {
     "name": "stdout",
     "output_type": "stream",
     "text": [
      "enter number: 4\n",
      "4 8 12 16 20 24 28 32 36 40 "
     ]
    }
   ],
   "source": [
    "x = int(input(\"enter number: \"))\n",
    "for i in range(1,11):    \n",
    "    print(x*i, end = \" \")\n"
   ]
  },
  {
   "cell_type": "code",
   "execution_count": 37,
   "id": "a0a5b252",
   "metadata": {},
   "outputs": [
    {
     "name": "stdout",
     "output_type": "stream",
     "text": [
      "150\n",
      "40\n",
      "65\n"
     ]
    }
   ],
   "source": [
    "L = [150,40,93,475,65,510]\n",
    "for i in L:\n",
    "    if i > 500:\n",
    "        break\n",
    "    if i > 150:\n",
    "        continue\n",
    "    if i%5 == 0:\n",
    "        print(i)"
   ]
  },
  {
   "cell_type": "code",
   "execution_count": 67,
   "id": "cbcebb22",
   "metadata": {},
   "outputs": [
    {
     "name": "stdout",
     "output_type": "stream",
     "text": [
      "5 4 3 2 1  \n",
      "4 3 2 1  \n",
      "3 2 1  \n",
      "2 1  \n",
      "1  \n"
     ]
    }
   ],
   "source": [
    "for i in range(5,0, -1):\n",
    "    for j in range (i,0,-1):\n",
    "        print(j,end = \" \")\n",
    "    print(\" \")"
   ]
  },
  {
   "cell_type": "code",
   "execution_count": 60,
   "id": "f9b4f8e4",
   "metadata": {},
   "outputs": [
    {
     "name": "stdout",
     "output_type": "stream",
     "text": [
      "1  \n",
      "1 2  \n",
      "1 2 3  \n",
      "1 2 3 4  \n",
      "1 2 3 4 5  \n"
     ]
    }
   ],
   "source": [
    "for i in range(1, 6):\n",
    "    for j in range(1,i+1):\n",
    "        print(j, end = \" \")\n",
    "    print(\" \")"
   ]
  },
  {
   "cell_type": "code",
   "execution_count": 11,
   "id": "e5251a81",
   "metadata": {},
   "outputs": [
    {
     "name": "stdout",
     "output_type": "stream",
     "text": [
      "5 4 3 2 1 "
     ]
    }
   ],
   "source": [
    "L = [1,2,3,4,5]\n",
    "for i in L[::-1]:\n",
    "    print(i, end = \" \")\n"
   ]
  },
  {
   "cell_type": "code",
   "execution_count": 14,
   "id": "cfb7d106",
   "metadata": {},
   "outputs": [
    {
     "name": "stdout",
     "output_type": "stream",
     "text": [
      "-10 -9 -8 -7 -6 -5 -4 -3 -2 -1 "
     ]
    }
   ],
   "source": [
    "for i in range(-10,0):\n",
    "    print(i, end = \" \")"
   ]
  },
  {
   "cell_type": "code",
   "execution_count": 16,
   "id": "9d0fa08f",
   "metadata": {},
   "outputs": [
    {
     "name": "stdout",
     "output_type": "stream",
     "text": [
      "0\n",
      "1\n",
      "2\n",
      "3\n",
      "4\n",
      "done\n"
     ]
    }
   ],
   "source": [
    "for i in range(0,6):\n",
    "    if i<5:    \n",
    "        print(i)\n",
    "    else:\n",
    "        print(\"done\")"
   ]
  },
  {
   "cell_type": "code",
   "execution_count": 28,
   "id": "bd71f027",
   "metadata": {},
   "outputs": [
    {
     "name": "stdout",
     "output_type": "stream",
     "text": [
      "first number: 25\n",
      "second number: 50\n",
      "29 31 37 41 43 47 "
     ]
    }
   ],
   "source": [
    "def func(n):\n",
    "    if n<=1:\n",
    "        return False\n",
    "    else:\n",
    "        L1 = []\n",
    "        for i in range(1, n+1):\n",
    "            if n%i == 0:\n",
    "                L1.append(i)\n",
    "        if len(L1) <= 2:\n",
    "            return True\n",
    "        else:\n",
    "            return False\n",
    "\n",
    "x1 = int(input(\"first number: \"))\n",
    "x2 = int(input(\"second number: \"))\n",
    "for i in range(x1, x2+1):\n",
    "    if func(i) == True:\n",
    "        print(i, end = \" \")"
   ]
  },
  {
   "cell_type": "code",
   "execution_count": 36,
   "id": "1ed679bb",
   "metadata": {},
   "outputs": [
    {
     "name": "stdout",
     "output_type": "stream",
     "text": [
      "enter number: 9\n",
      "1 2 3 5 8 13 21 34 55 "
     ]
    }
   ],
   "source": [
    "n = int(input(\"enter number: \"))\n",
    "num1 = 0\n",
    "num2 = 1\n",
    "for i in range(n):\n",
    "    num3 = num1 + num2\n",
    "    num1 = num2\n",
    "    num2 = num3\n",
    "    print( num3, end = \" \")\n"
   ]
  },
  {
   "cell_type": "code",
   "execution_count": 64,
   "id": "f83ba870",
   "metadata": {},
   "outputs": [
    {
     "name": "stdout",
     "output_type": "stream",
     "text": [
      "enter number: 5\n",
      "120\n"
     ]
    }
   ],
   "source": [
    "x = int(input(\"enter number: \"))\n",
    "fact = 1\n",
    "for i in range(1, x+1):\n",
    "    fact = fact * i\n",
    "print(fact)"
   ]
  },
  {
   "cell_type": "code",
   "execution_count": 61,
   "id": "dbf2e584",
   "metadata": {},
   "outputs": [
    {
     "name": "stdout",
     "output_type": "stream",
     "text": [
      "enter number: 3\n",
      "1\n",
      "2\n",
      "6\n"
     ]
    }
   ],
   "source": [
    "x = int(input (\"enter number: \"))\n",
    "a = 1\n",
    "for i in range (1, x+1):\n",
    "    a = a*i\n",
    "    print(a)"
   ]
  },
  {
   "cell_type": "code",
   "execution_count": 82,
   "id": "bd3353f8",
   "metadata": {},
   "outputs": [
    {
     "name": "stdout",
     "output_type": "stream",
     "text": [
      "24567\n"
     ]
    },
    {
     "data": {
      "text/plain": [
       "int"
      ]
     },
     "execution_count": 82,
     "metadata": {},
     "output_type": "execute_result"
    }
   ],
   "source": [
    "x = 76542\n",
    "a = str(x)\n",
    "b = a[::-1]\n",
    "c = int(b)\n",
    "print(c)\n",
    "type(c)"
   ]
  },
  {
   "cell_type": "code",
   "execution_count": 100,
   "id": "1cad923d",
   "metadata": {},
   "outputs": [
    {
     "name": "stdout",
     "output_type": "stream",
     "text": [
      "213456\n",
      "<class 'int'>\n"
     ]
    }
   ],
   "source": [
    "x = 654312\n",
    "a = str(x)\n",
    "b = list(a[::-1])\n",
    "c = int(\"\".join(b))\n",
    "print(c)\n",
    "print(type(c))\n"
   ]
  },
  {
   "cell_type": "code",
   "execution_count": 108,
   "id": "9ec862ea",
   "metadata": {},
   "outputs": [
    {
     "data": {
      "text/plain": [
       "[20, 40, 60, 80, 100]"
      ]
     },
     "execution_count": 108,
     "metadata": {},
     "output_type": "execute_result"
    }
   ],
   "source": [
    "L = [10, 20, 30, 40, 50, 60, 70, 80, 90, 100]\n",
    "L[1::2]"
   ]
  },
  {
   "cell_type": "code",
   "execution_count": 111,
   "id": "b10b1ab4",
   "metadata": {},
   "outputs": [
    {
     "name": "stdout",
     "output_type": "stream",
     "text": [
      "current number is 1, and its cube is 1\n",
      "current number is 2, and its cube is 8\n",
      "current number is 3, and its cube is 27\n",
      "current number is 4, and its cube is 64\n",
      "current number is 5, and its cube is 125\n",
      "current number is 6, and its cube is 216\n"
     ]
    }
   ],
   "source": [
    "for i in range(1,7):\n",
    "    x = pow(i,3)\n",
    "    print(\"current number is {}, and its cube is {}\". format(i,x))"
   ]
  },
  {
   "cell_type": "code",
   "execution_count": 122,
   "id": "e4c4f902",
   "metadata": {},
   "outputs": [
    {
     "name": "stdout",
     "output_type": "stream",
     "text": [
      "24690\n"
     ]
    }
   ],
   "source": [
    "x = 2\n",
    "c = 0\n",
    "for i in range(1, 6):\n",
    "    a = str(x)\n",
    "    a = a*i\n",
    "    b = int(\"\".join(a))\n",
    "    c = c+b\n",
    "    \n",
    "print(c)"
   ]
  },
  {
   "cell_type": "code",
   "execution_count": 132,
   "id": "18049996",
   "metadata": {},
   "outputs": [
    {
     "name": "stdout",
     "output_type": "stream",
     "text": [
      "* * * * *  \n",
      "* * * *  \n",
      "* * *  \n",
      "* *  \n",
      "*  \n"
     ]
    }
   ],
   "source": [
    "for i in range(5,0,-1):\n",
    "    for j in range(i):\n",
    "        print(\"*\", end = \" \")\n",
    "    print(\" \")"
   ]
  },
  {
   "cell_type": "code",
   "execution_count": 154,
   "id": "92f6301f",
   "metadata": {},
   "outputs": [
    {
     "name": "stdout",
     "output_type": "stream",
     "text": [
      "     * \n",
      "    * * \n",
      "   * * * \n",
      "  * * * * \n",
      " * * * * * \n"
     ]
    }
   ],
   "source": [
    "n=5\n",
    "for i in range(0,n):\n",
    "\n",
    "    for j in range(0,n-i):\n",
    "        print(end=\" \")\n",
    "    \n",
    "    for k in range(0,i+1):\n",
    "        print(\"*\",end=\" \")\n",
    "\n",
    "    print()"
   ]
  },
  {
   "cell_type": "code",
   "execution_count": 198,
   "id": "6f44a5e3",
   "metadata": {},
   "outputs": [
    {
     "name": "stdout",
     "output_type": "stream",
     "text": [
      "     *  \n",
      "    * *  \n",
      "   * * *  \n",
      "  * * * *  \n",
      " * * * * *  \n"
     ]
    }
   ],
   "source": [
    "x = 5\n",
    "for i in range(0,x):\n",
    "    for j in range(0,x-i):\n",
    "        print(\"\", end = \" \")\n",
    "    for k in range(0,i+1):\n",
    "        print(\"*\", end= \" \")\n",
    "    print(\" \")"
   ]
  },
  {
   "cell_type": "code",
   "execution_count": 232,
   "id": "f88107c1",
   "metadata": {},
   "outputs": [
    {
     "name": "stdout",
     "output_type": "stream",
     "text": [
      "     * \n",
      "    * * \n",
      "   * * * \n",
      "  * * * * \n",
      " * * * * * \n"
     ]
    }
   ],
   "source": [
    "x = 5\n",
    "for i in range(0,x):\n",
    "#     print(\"i:\",i)\n",
    "    for j in range(0,x-i):\n",
    "#         print(\"j:\",j)\n",
    "        print(\"\",end = \" \")\n",
    "    for k in range(0,i+1):\n",
    "#         print(\"k:\",k)\n",
    "        print(\"*\", end = \" \")\n",
    "    print()"
   ]
  },
  {
   "cell_type": "code",
   "execution_count": 223,
   "id": "aca2499b",
   "metadata": {},
   "outputs": [
    {
     "name": "stdout",
     "output_type": "stream",
     "text": [
      "* \n",
      "* * \n",
      "* * * \n",
      "* * * * \n",
      "* * * * * \n",
      "* * * * \n",
      "* * * \n",
      "* * \n",
      "* \n",
      "\n"
     ]
    }
   ],
   "source": [
    "for i in range(0,5):\n",
    "#     print(i)\n",
    "    for j in range(0,i+1):\n",
    "        print(\"*\", end = \" \")\n",
    "    print(\"\")\n",
    "    \n",
    "for i in range(5,0,-1):\n",
    "#     print(i)\n",
    "    for j in range(0,i-1):\n",
    "        print(\"*\", end = \" \")\n",
    "    print(\"\")"
   ]
  },
  {
   "cell_type": "code",
   "execution_count": 255,
   "id": "91736782",
   "metadata": {},
   "outputs": [
    {
     "name": "stdout",
     "output_type": "stream",
     "text": [
      "     * \n",
      "    * * \n",
      "   * * * \n",
      "  * * * * \n",
      " * * * * * \n"
     ]
    }
   ],
   "source": [
    "for i in range(0,5):\n",
    "    for j in range(0,5-i):\n",
    "        print(\"\",end=\" \")\n",
    "    for k in range(0,i+1):\n",
    "        print(\"*\", end = \" \")\n",
    "    print()"
   ]
  },
  {
   "cell_type": "code",
   "execution_count": 11,
   "id": "99d9f9d6",
   "metadata": {},
   "outputs": [
    {
     "name": "stdout",
     "output_type": "stream",
     "text": [
      "    1 \n",
      "   1 1 \n",
      "  1 1 1 \n",
      " 1 1 1 1 \n",
      "1 1 1 1 1 \n"
     ]
    }
   ],
   "source": [
    "a = 1\n",
    "for i in range(1,6):\n",
    "    for  j in range(1,6-i):\n",
    "        print(\"\", end=\" \")\n",
    "    for k in range(i):\n",
    "        print(a, end=\" \")\n",
    "    print()"
   ]
  },
  {
   "cell_type": "code",
   "execution_count": 15,
   "id": "9bada649",
   "metadata": {},
   "outputs": [
    {
     "name": "stdout",
     "output_type": "stream",
     "text": [
      "enter the number: 5\n",
      "[[1], [1, 1], [1, 2, 1], [1, 3, 3, 1], [1, 4, 6, 4, 1]]\n",
      "    1 \n",
      "   1 1 \n",
      "  1 2 1 \n",
      " 1 3 3 1 \n",
      "1 4 6 4 1 \n"
     ]
    }
   ],
   "source": [
    "n = int(input(\"enter the number: \"))\n",
    "list1 = []\n",
    "for i in range(0,n):\n",
    "    temp=[]\n",
    "    for j in range(0,i+1):\n",
    "        if j == 0 or j == i:\n",
    "            temp.append(1)\n",
    "        else:\n",
    "            temp.append(list1[i-1][j]+list1[i-1][j-1])\n",
    "    list1.append(temp)\n",
    "print(list1)\n",
    "\n",
    "for i in range(n):\n",
    "    for j in range(0,n-i-1):\n",
    "        print(\" \",end=\"\")\n",
    "    for j in range(0,i+1):\n",
    "        print(list1[i][j],end=\" \")\n",
    "    print()"
   ]
  },
  {
   "cell_type": "markdown",
   "id": "06491259",
   "metadata": {},
   "source": [
    "# String Exercise"
   ]
  },
  {
   "cell_type": "markdown",
   "id": "ab67f497",
   "metadata": {},
   "source": [
    "### count radha in string."
   ]
  },
  {
   "cell_type": "code",
   "execution_count": 2,
   "id": "58dc76c1",
   "metadata": {},
   "outputs": [
    {
     "name": "stdout",
     "output_type": "stream",
     "text": [
      "2\n"
     ]
    }
   ],
   "source": [
    "sentence = \"radha is most beutiful,radha is queen of vraj\"\n",
    "print(sentence.count(\"radha\"))"
   ]
  },
  {
   "cell_type": "markdown",
   "id": "e8896db4",
   "metadata": {},
   "source": [
    "### display characters that are present at an even index number"
   ]
  },
  {
   "cell_type": "code",
   "execution_count": 4,
   "id": "c5b3d94b",
   "metadata": {},
   "outputs": [
    {
     "name": "stdout",
     "output_type": "stream",
     "text": [
      "pakistan\n",
      "pksa\n"
     ]
    }
   ],
   "source": [
    "x = input()\n",
    "print(x[::2])"
   ]
  },
  {
   "cell_type": "markdown",
   "id": "48de9f53",
   "metadata": {},
   "source": [
    "### remove characters from string."
   ]
  },
  {
   "cell_type": "code",
   "execution_count": 15,
   "id": "59a8af53",
   "metadata": {},
   "outputs": [
    {
     "name": "stdout",
     "output_type": "stream",
     "text": [
      "native\n"
     ]
    }
   ],
   "source": [
    "# pynative. native\n",
    "def remove(text, number):\n",
    "    txt_len = len(text)\n",
    "    txt_list = list(text)\n",
    "    \n",
    "    for i in txt_list:\n",
    "        if number > txt_len:\n",
    "            return \"error!\"\n",
    "        else:\n",
    "            result = txt_list[number:]\n",
    "        result = \"\".join(result)\n",
    "        return result\n",
    "    \n",
    "print(remove(\"pynative\",2))\n"
   ]
  },
  {
   "cell_type": "code",
   "execution_count": 39,
   "id": "4ed7c1f6",
   "metadata": {},
   "outputs": [
    {
     "name": "stdout",
     "output_type": "stream",
     "text": [
      "enter string: milind\n",
      "enter char to be removed: i\n",
      "mlnd\n"
     ]
    }
   ],
   "source": [
    "# milind. remove i. mlnd\n",
    "x = input(\"enter string: \")\n",
    "y = input(\"enter char to be removed: \")\n",
    "\n",
    "x = x.replace(y,\"\")\n",
    "print(x)"
   ]
  },
  {
   "cell_type": "markdown",
   "id": "1dc3198e",
   "metadata": {},
   "source": [
    "### extract first, last , mid character from string."
   ]
  },
  {
   "cell_type": "code",
   "execution_count": 58,
   "id": "93e6c300",
   "metadata": {},
   "outputs": [
    {
     "name": "stdout",
     "output_type": "stream",
     "text": [
      "J m s\n"
     ]
    },
    {
     "data": {
      "text/plain": [
       "'Jms'"
      ]
     },
     "execution_count": 58,
     "metadata": {},
     "output_type": "execute_result"
    }
   ],
   "source": [
    "name = \"James\"\n",
    "\n",
    "a = name[0]\n",
    "c = name[-1]\n",
    "\n",
    "txt_len = len(name)\n",
    "mid = txt_len // 2\n",
    "b = name[mid]\n",
    "\n",
    "print(a,b,c)\n",
    "\n",
    "\"\".join([a,b,c])"
   ]
  },
  {
   "cell_type": "markdown",
   "id": "9fe74460",
   "metadata": {},
   "source": [
    "### extract son from jasonay string"
   ]
  },
  {
   "cell_type": "code",
   "execution_count": 62,
   "id": "742dfb37",
   "metadata": {},
   "outputs": [
    {
     "name": "stdout",
     "output_type": "stream",
     "text": [
      "s o n\n"
     ]
    },
    {
     "data": {
      "text/plain": [
       "'son'"
      ]
     },
     "execution_count": 62,
     "metadata": {},
     "output_type": "execute_result"
    }
   ],
   "source": [
    "name = \"jasonay\"\n",
    "txt_len = len(name)\n",
    "if txt_len % 2 == 0:\n",
    "    print(\"not possiable.\")\n",
    "else:\n",
    "    mid = txt_len // 2\n",
    "    b = name[mid]\n",
    "    a = name[mid - 1]\n",
    "    c = name[mid + 1]\n",
    "\n",
    "print(a,b,c)\n",
    "\n",
    "''.join([a,b,c])"
   ]
  },
  {
   "cell_type": "markdown",
   "id": "e17bc41b",
   "metadata": {},
   "source": [
    "### count given character."
   ]
  },
  {
   "cell_type": "code",
   "execution_count": 66,
   "id": "11156d03",
   "metadata": {},
   "outputs": [
    {
     "name": "stdout",
     "output_type": "stream",
     "text": [
      "enter char to be counted: i\n",
      "3  times.\n"
     ]
    }
   ],
   "source": [
    "# milind mali\n",
    "a = \"milind mali\"\n",
    "b = input(\"enter char to be counted: \")\n",
    "count = 0\n",
    "for i in a:\n",
    "    if i == b:\n",
    "        count += 1\n",
    "print(count, \" times.\")\n"
   ]
  },
  {
   "cell_type": "markdown",
   "id": "6f8e1810",
   "metadata": {},
   "source": [
    "### find index of given char"
   ]
  },
  {
   "cell_type": "code",
   "execution_count": 79,
   "id": "a7e9c2be",
   "metadata": {},
   "outputs": [
    {
     "name": "stdout",
     "output_type": "stream",
     "text": [
      "enter char to find it's index: d\n",
      "4\n"
     ]
    }
   ],
   "source": [
    "# milid mali . d=4\n",
    "x = \"milid mali\"\n",
    "ip = input(\"enter char to find it's index: \")\n",
    "for i in x:\n",
    "    if i == ip:\n",
    "        print(x.index(ip))"
   ]
  },
  {
   "cell_type": "markdown",
   "id": "424abab5",
   "metadata": {},
   "source": [
    "### remove char from string"
   ]
  },
  {
   "cell_type": "code",
   "execution_count": 93,
   "id": "cccb34d7",
   "metadata": {},
   "outputs": [
    {
     "name": "stdout",
     "output_type": "stream",
     "text": [
      "enter string: paksitan\n",
      "enter char to be removed: a\n",
      "pksitn\n"
     ]
    }
   ],
   "source": [
    "x = input(\"enter string: \")\n",
    "y = input(\"enter char to be removed: \")\n",
    "z = x.replace(y,\"\")\n",
    "print(z)"
   ]
  },
  {
   "cell_type": "code",
   "execution_count": 5,
   "id": "6f71d608",
   "metadata": {},
   "outputs": [
    {
     "name": "stdout",
     "output_type": "stream",
     "text": [
      "AuKellylt\n"
     ]
    },
    {
     "data": {
      "text/plain": [
       "'AuKellylt'"
      ]
     },
     "execution_count": 5,
     "metadata": {},
     "output_type": "execute_result"
    }
   ],
   "source": [
    "# AuKellylt\n",
    "s1 = \"Ault\"\n",
    "s2 = \"Kelly\"\n",
    "\n",
    "len_s1 = len(s1)\n",
    "mid = len_s1 // 2\n",
    "a = s1[:mid]\n",
    "b = s2\n",
    "c = s1[mid:]\n",
    "\n",
    "print(a+b+c)\n",
    "\n",
    "\"\".join([a,b,c])"
   ]
  },
  {
   "cell_type": "code",
   "execution_count": 17,
   "id": "92fa57af",
   "metadata": {},
   "outputs": [
    {
     "name": "stdout",
     "output_type": "stream",
     "text": [
      "ajrpan\n"
     ]
    },
    {
     "data": {
      "text/plain": [
       "'ajrpan'"
      ]
     },
     "execution_count": 17,
     "metadata": {},
     "output_type": "execute_result"
    }
   ],
   "source": [
    "# america, japan o/p: ajrpan\n",
    "a = \"america\"\n",
    "b = \"japan\"\n",
    "\n",
    "a1 = a[0]\n",
    "a3 = a[-1]\n",
    "a_mid = len(a) // 2\n",
    "a2 = a[a_mid]\n",
    "\n",
    "b1 = b[0]\n",
    "b3 = b[-1]\n",
    "b_mid = len(b) // 2\n",
    "b2 = b[b_mid]\n",
    "\n",
    "print(a1+b1+a2+b2+a3+b3)\n",
    "\n",
    "\"\".join([a1,b1,a2,b2,a3,b3])"
   ]
  },
  {
   "cell_type": "code",
   "execution_count": 26,
   "id": "6b6ac533",
   "metadata": {},
   "outputs": [
    {
     "name": "stdout",
     "output_type": "stream",
     "text": [
      "PNTEyaiv\n"
     ]
    }
   ],
   "source": [
    "a = \"PyNaTivE\"\n",
    "x = list(a)\n",
    "low = list(a.lower())\n",
    "up = list(a.upper())\n",
    "empty = []\n",
    "for i in x:\n",
    "    if i in up:\n",
    "        empty.append(i)\n",
    "for i in x:\n",
    "    if i in low:\n",
    "        empty.append(i)\n",
    "        \n",
    "result = \"\".join(empty)\n",
    "print(result)"
   ]
  },
  {
   "cell_type": "code",
   "execution_count": 1,
   "id": "d262bf60",
   "metadata": {},
   "outputs": [
    {
     "name": "stdout",
     "output_type": "stream",
     "text": [
      "alphatets :  8\n",
      "digit :  3\n",
      "character :  4\n"
     ]
    }
   ],
   "source": [
    "x = \"P@#yn26at^&i5ve\"\n",
    "x_list = list(x)\n",
    "alphabets = 0\n",
    "digit = 0\n",
    "character = 0\n",
    "for i in x_list:\n",
    "    if i.isalpha() == True:\n",
    "        alphabets += 1\n",
    "    elif i.isdigit() == True:\n",
    "        digit += 1\n",
    "    else:\n",
    "        character += 1\n",
    "print(\"alphatets : \", alphabets)\n",
    "print(\"digit : \", digit)\n",
    "print(\"character : \", character)\n",
    "        "
   ]
  },
  {
   "cell_type": "code",
   "execution_count": 4,
   "id": "575aff7f",
   "metadata": {},
   "outputs": [
    {
     "name": "stdout",
     "output_type": "stream",
     "text": [
      "AzByCx\n"
     ]
    }
   ],
   "source": [
    "a = \"ABC\"\n",
    "b = \"xyz\"\n",
    "\n",
    "a_1 = a[0]\n",
    "a_3 = a[-1]\n",
    "a_mid = len(a) // 2\n",
    "a_2 = a[a_mid]\n",
    "\n",
    "b_1 = b[0]\n",
    "b_3 = b[-1]\n",
    "b_mid = len(b) // 2\n",
    "b_2 = b[b_mid]\n",
    "\n",
    "print(a_1 + b_3 + a_2 + b_2 + a_3 + b_1)"
   ]
  },
  {
   "cell_type": "code",
   "execution_count": 5,
   "id": "b39c536c",
   "metadata": {},
   "outputs": [
    {
     "name": "stdout",
     "output_type": "stream",
     "text": [
      "a and b are balance.\n"
     ]
    }
   ],
   "source": [
    "a = \"Yn\"\n",
    "b = \"PYnative\"\n",
    "counter = 0\n",
    "\n",
    "for i in a:\n",
    "    if i in b:\n",
    "        counter +=1\n",
    "\n",
    "if counter == len(a):\n",
    "    print(\"a and b are balance.\")\n",
    "else:\n",
    "    print(\"im_balance.\")\n",
    "        "
   ]
  },
  {
   "cell_type": "code",
   "execution_count": 14,
   "id": "8c373593",
   "metadata": {},
   "outputs": [
    {
     "name": "stdout",
     "output_type": "stream",
     "text": [
      "WELCOME TO USA, USA AWESOME ISN'T IT.\n",
      "2\n"
     ]
    }
   ],
   "source": [
    "s = \"Welcome to Usa, usa awesome isn't it.\"\n",
    "s2 = s.upper()\n",
    "print(s2)\n",
    "print(s2.count(\"USA\"))"
   ]
  },
  {
   "cell_type": "code",
   "execution_count": 25,
   "id": "ff2afb00",
   "metadata": {},
   "outputs": [
    {
     "name": "stdout",
     "output_type": "stream",
     "text": [
      "enter the title: this is paksitan\n",
      "This Is Paksitan "
     ]
    }
   ],
   "source": [
    "a = input(\"enter the title: \")\n",
    "a1 = a.split()\n",
    "# print(a1)\n",
    "for i in a1:\n",
    "    x = i.capitalize()\n",
    "    print(x, end = \" \")"
   ]
  },
  {
   "cell_type": "code",
   "execution_count": 34,
   "id": "bf5920c0",
   "metadata": {},
   "outputs": [
    {
     "name": "stdout",
     "output_type": "stream",
     "text": [
      "sum is :  38\n",
      "avg is :  6.33\n"
     ]
    }
   ],
   "source": [
    "x = \"PYnative29@#8496\"\n",
    "result = 0\n",
    "counter = 0\n",
    "for i in x:\n",
    "    if i.isdigit() == True:\n",
    "        result = result + int(i)\n",
    "        counter +=1\n",
    "print(\"sum is : \", result)\n",
    "print(\"avg is : \", round(result/counter,2))"
   ]
  },
  {
   "cell_type": "code",
   "execution_count": 52,
   "id": "57fa992b",
   "metadata": {},
   "outputs": [
    {
     "data": {
      "text/plain": [
       "46"
      ]
     },
     "execution_count": 52,
     "metadata": {},
     "output_type": "execute_result"
    }
   ],
   "source": [
    "str1 = \"Milinda is a data scientist, Who know python. Milinda works at google.\"\n",
    "str1.rfind(\"Milinda\")\n"
   ]
  },
  {
   "cell_type": "code",
   "execution_count": 55,
   "id": "d07fdac4",
   "metadata": {},
   "outputs": [
    {
     "name": "stdout",
     "output_type": "stream",
     "text": [
      "Emma\n",
      "is\n",
      "a\n",
      "data\n",
      "scientist\n"
     ]
    }
   ],
   "source": [
    "str1 = \"Emma-is-a-data-scientist\"\n",
    "str2 = str1.split(\"-\")\n",
    "for i in str2:\n",
    "    print(i)"
   ]
  },
  {
   "cell_type": "code",
   "execution_count": 65,
   "id": "587e861d",
   "metadata": {},
   "outputs": [
    {
     "name": "stdout",
     "output_type": "stream",
     "text": [
      "['Emma', 'Jon', '', 'Kelly', None, 'Eric', '']\n",
      "['Emma', 'Jon', 'Kelly', 'Eric']\n"
     ]
    }
   ],
   "source": [
    "str_1 = [\"Emma\", \"Jon\", \"\", \"Kelly\", None, \"Eric\", \"\"]\n",
    "print(str_1)\n",
    "for i in str_1:\n",
    "#     print(i)\n",
    "    if i == \"\" or i == None:\n",
    "        str_1.remove(i)\n",
    "print(str_1)"
   ]
  },
  {
   "cell_type": "code",
   "execution_count": 8,
   "id": "6ebd3bf7",
   "metadata": {},
   "outputs": [
    {
     "name": "stdout",
     "output_type": "stream",
     "text": [
      " John is developer  musician\n"
     ]
    }
   ],
   "source": [
    "sentence = \"*/ John is @developer & musician\"\n",
    "import re\n",
    "clean_sentence = re.sub(\"[^A-Za-z0-9\\s]+\", \"\", sentence)\n",
    "print(clean_sentence)"
   ]
  },
  {
   "cell_type": "code",
   "execution_count": 23,
   "id": "d363d9a1",
   "metadata": {},
   "outputs": [
    {
     "name": "stdout",
     "output_type": "stream",
     "text": [
      "2511\n"
     ]
    }
   ],
   "source": [
    "str1 = \"Iam 25 years and 11 months\"\n",
    "L = []\n",
    "for i in str1:\n",
    "    if  i.isdigit() == True:\n",
    "        L.append(i)\n",
    "\n",
    "# print(str1.split())\n",
    "print(\"\".join(L))\n"
   ]
  },
  {
   "cell_type": "code",
   "execution_count": 35,
   "id": "0d933b28",
   "metadata": {},
   "outputs": [
    {
     "name": "stdout",
     "output_type": "stream",
     "text": [
      "['emma500', 'datascientist5000']\n"
     ]
    }
   ],
   "source": [
    "str1 = \"emma500 is a datascientist5000 and AI engineer\"\n",
    "str2 = str1.split()\n",
    "L = []\n",
    "for i in str2:\n",
    "    for j in i:\n",
    "        if j.isdigit() == True:\n",
    "            if i not in L:\n",
    "                L.append(i)\n",
    "print(L)"
   ]
  },
  {
   "cell_type": "code",
   "execution_count": 41,
   "id": "f6a250cc",
   "metadata": {},
   "outputs": [
    {
     "name": "stdout",
     "output_type": "stream",
     "text": [
      "## John is #developer # musician ##\n"
     ]
    }
   ],
   "source": [
    "str1 = \"/* John is @developer & musician >/\"\n",
    "import string\n",
    "for i in string.punctuation:\n",
    "    if i in str1:\n",
    "        str1 = str1.replace(i,\"#\")\n",
    "print(str1)"
   ]
  },
  {
   "cell_type": "code",
   "execution_count": 11,
   "id": "e702ab65",
   "metadata": {},
   "outputs": [
    {
     "name": "stdout",
     "output_type": "stream",
     "text": [
      "datavision\n",
      "gmail\n",
      "google\n",
      "microsoft\n"
     ]
    }
   ],
   "source": [
    "email_list = [\"ahmed@datavision.com\",\"usman@gmail.com\",\"khan@google.com\",\"python@microsoft.com\"]\n",
    "for i in email_list:\n",
    "    i = i.replace(\"@\",\".\").split(\".\")\n",
    "    print(i[1])"
   ]
  },
  {
   "cell_type": "markdown",
   "id": "3228ea43",
   "metadata": {},
   "source": [
    "### extract all email id's from given string."
   ]
  },
  {
   "cell_type": "code",
   "execution_count": 28,
   "id": "519de7e0",
   "metadata": {},
   "outputs": [
    {
     "name": "stdout",
     "output_type": "stream",
     "text": [
      "ahmadusman050@gmail.com\n",
      "21kzele0222@uet.com\n"
     ]
    }
   ],
   "source": [
    "string = \"hi, my name is ahmed and my mail id is ahmadusman050@gmail.com and my uni mail id is 21kzele0222@uet.com\"\n",
    "new = list(string.split())\n",
    "for i in new:\n",
    "    if \".com\" in i:\n",
    "        print(i)\n"
   ]
  },
  {
   "cell_type": "markdown",
   "id": "93d4de67",
   "metadata": {},
   "source": [
    "### count number of vowels in string."
   ]
  },
  {
   "cell_type": "code",
   "execution_count": 37,
   "id": "33e72b87",
   "metadata": {},
   "outputs": [
    {
     "name": "stdout",
     "output_type": "stream",
     "text": [
      "no of vowels:  8\n"
     ]
    }
   ],
   "source": [
    "string = \"apple with ball and banana\"\n",
    "vowel = \"AEIOUaeiou\"\n",
    "count = 0\n",
    "for i in string:\n",
    "    if i in vowel:\n",
    "        count += 1\n",
    "print(\"no of vowels: \",count)\n",
    "        "
   ]
  },
  {
   "cell_type": "markdown",
   "id": "466263b4",
   "metadata": {},
   "source": [
    "# Data structure exercise."
   ]
  },
  {
   "cell_type": "markdown",
   "id": "894443b3",
   "metadata": {},
   "source": [
    "### remove iteam from index 4, add it in index 2. and in last."
   ]
  },
  {
   "cell_type": "code",
   "execution_count": 42,
   "id": "85511b8e",
   "metadata": {},
   "outputs": [
    {
     "name": "stdout",
     "output_type": "stream",
     "text": [
      "[34, 54, 11, 67, 89, 43, 94, 11]\n"
     ]
    }
   ],
   "source": [
    "list1 = [34, 54, 67, 89, 11, 43, 94]\n",
    "list1.pop(4)\n",
    "list1.insert(2,11)\n",
    "list1.append(11)\n",
    "print(list1)"
   ]
  },
  {
   "cell_type": "code",
   "execution_count": 18,
   "id": "08c7ad85",
   "metadata": {},
   "outputs": [
    {
     "name": "stdout",
     "output_type": "stream",
     "text": [
      "[[67, 54, 34], [43, 11, 89], [44, 32, 94]]\n"
     ]
    }
   ],
   "source": [
    "list1 = [34, 54, 67, 89, 11, 43, 94, 32, 44]\n",
    "n = 3\n",
    "new_list = [list1[i: i+n][::-1] for i in range(0,len(list1),3)]\n",
    "print(new_list)"
   ]
  },
  {
   "cell_type": "code",
   "execution_count": 31,
   "id": "8a1d35bd",
   "metadata": {},
   "outputs": [
    {
     "name": "stdout",
     "output_type": "stream",
     "text": [
      "{11: 2, 22: 1, 37: 1, 55: 3}\n"
     ]
    }
   ],
   "source": [
    "list1 = [11,22,37,55,55,11,55]\n",
    "count = dict()\n",
    "\n",
    "for i in list1:\n",
    "    if i in count:\n",
    "        count[i] += 1\n",
    "    else:\n",
    "        count[i] = 1\n",
    "print(count)"
   ]
  },
  {
   "cell_type": "code",
   "execution_count": 38,
   "id": "7da8f7c7",
   "metadata": {},
   "outputs": [
    {
     "name": "stdout",
     "output_type": "stream",
     "text": [
      "{(6, 36), (8, 64), (4, 16), (5, 25), (3, 9), (7, 49), (2, 4)}\n"
     ]
    }
   ],
   "source": [
    "first_list = [2, 3, 4, 5, 6, 7, 8]\n",
    "second_list = [4, 9, 16, 25, 36, 49, 64]\n",
    "\n",
    "result = zip(first_list, second_list)\n",
    "result_set = set(result)\n",
    "print(result_set)"
   ]
  },
  {
   "cell_type": "markdown",
   "id": "d404562c",
   "metadata": {},
   "source": [
    "# List"
   ]
  },
  {
   "cell_type": "markdown",
   "id": "dbd7f47b",
   "metadata": {},
   "source": [
    "### find max iteam from list, without using max function."
   ]
  },
  {
   "cell_type": "code",
   "execution_count": 52,
   "id": "736f3c6c",
   "metadata": {},
   "outputs": [
    {
     "data": {
      "text/plain": [
       "9"
      ]
     },
     "execution_count": 52,
     "metadata": {},
     "output_type": "execute_result"
    }
   ],
   "source": [
    "L1 = [2,9,3,8,6]\n",
    "L1.sort()\n",
    "L1[-1]"
   ]
  },
  {
   "cell_type": "markdown",
   "id": "1ad99a1c",
   "metadata": {},
   "source": [
    "### reverse the input number"
   ]
  },
  {
   "cell_type": "code",
   "execution_count": 61,
   "id": "d76bda21",
   "metadata": {},
   "outputs": [
    {
     "name": "stdout",
     "output_type": "stream",
     "text": [
      "enter number: 98765\n",
      "56789\n"
     ]
    }
   ],
   "source": [
    "n = input(\"enter number: \")\n",
    "\n",
    "digit_list = list(n[::-1])\n",
    "num = \"\".join(digit_list)\n",
    "print(num)"
   ]
  },
  {
   "cell_type": "code",
   "execution_count": 11,
   "id": "d5b71886",
   "metadata": {},
   "outputs": [
    {
     "name": "stdout",
     "output_type": "stream",
     "text": [
      "enter number: 123\n",
      "3\n",
      "[1, 2, 3]\n"
     ]
    }
   ],
   "source": [
    "x = int(input(\"enter number: \"))\n",
    "y = list(map(int,str(x)))\n",
    "print(len(y))\n",
    "# print(len(x))\n",
    "print(y)\n"
   ]
  },
  {
   "cell_type": "code",
   "execution_count": 21,
   "id": "a5a3bddc",
   "metadata": {},
   "outputs": [
    {
     "name": "stdout",
     "output_type": "stream",
     "text": [
      "[1, 2, 3, 4, 5, 6]\n"
     ]
    }
   ],
   "source": [
    "x = [1,2,3,3,3,4,4,5,6,5]\n",
    "y = []\n",
    "for i in x:\n",
    "    if i not in y:\n",
    "        y.append(i)\n",
    "print(y)"
   ]
  },
  {
   "cell_type": "code",
   "execution_count": 32,
   "id": "0f648dda",
   "metadata": {},
   "outputs": [
    {
     "name": "stdout",
     "output_type": "stream",
     "text": [
      "['My', 'name', 'is', 'Kelly']\n"
     ]
    }
   ],
   "source": [
    "list1 = [\"M\", \"na\", \"i\", \"Ke\"]\n",
    "list2 = [\"y\", \"me\", \"s\", \"lly\"]\n",
    "list3 = [i+j for i,j in zip(list1, list2)]\n",
    "print(list3)\n"
   ]
  },
  {
   "cell_type": "code",
   "execution_count": 33,
   "id": "e0076357",
   "metadata": {},
   "outputs": [
    {
     "name": "stdout",
     "output_type": "stream",
     "text": [
      "[4, 16, 36, 49]\n"
     ]
    }
   ],
   "source": [
    "num = [2,4,6,7]\n",
    "L = []\n",
    "for i in num:\n",
    "    z = pow(i,2)\n",
    "    L.append(z)\n",
    "print(L)"
   ]
  },
  {
   "cell_type": "code",
   "execution_count": 39,
   "id": "c02d913d",
   "metadata": {},
   "outputs": [
    {
     "name": "stdout",
     "output_type": "stream",
     "text": [
      "[4, 16, 36, 49]\n"
     ]
    }
   ],
   "source": [
    "# using list comprehension.\n",
    "num = [2,4,6,7]\n",
    "result = [pow(i,2) for i in num]\n",
    "print(result)"
   ]
  },
  {
   "cell_type": "code",
   "execution_count": 34,
   "id": "b8dbaabb",
   "metadata": {},
   "outputs": [
    {
     "name": "stdout",
     "output_type": "stream",
     "text": [
      "Hello Dear\n",
      "Hello Sir\n",
      "take Dear\n",
      "take Sir\n"
     ]
    }
   ],
   "source": [
    "list1 = [\"Hello \", \"take \"]\n",
    "list2 = [\"Dear\", \"Sir\"]\n",
    "for i in list1:\n",
    "    for j in list2:\n",
    "        print(i+j)"
   ]
  },
  {
   "cell_type": "code",
   "execution_count": 35,
   "id": "fff9e92f",
   "metadata": {},
   "outputs": [
    {
     "name": "stdout",
     "output_type": "stream",
     "text": [
      "['Hello Dear', 'Hello Sir', 'take Dear', 'take Sir']\n"
     ]
    }
   ],
   "source": [
    "# using list comprehension.\n",
    "\n",
    "list1 = [\"Hello \", \"take \"]\n",
    "list2 = [\"Dear\", \"Sir\"]\n",
    "result = [i+j for i in list1 for j in list2]\n",
    "print(result)"
   ]
  },
  {
   "cell_type": "code",
   "execution_count": 16,
   "id": "41f0b3b9",
   "metadata": {},
   "outputs": [
    {
     "name": "stdout",
     "output_type": "stream",
     "text": [
      "1 400\n",
      "2 300\n",
      "3 200\n",
      "4 100\n"
     ]
    }
   ],
   "source": [
    "list1 = [1,2,3,4]\n",
    "list2 = [100,200,300,400]\n",
    "for x,y in zip(list1, list2[::-1]):\n",
    "    print(x,y)"
   ]
  },
  {
   "cell_type": "code",
   "execution_count": 24,
   "id": "0e82b57b",
   "metadata": {},
   "outputs": [
    {
     "name": "stdout",
     "output_type": "stream",
     "text": [
      "['Mike', 'Emma', 'Kelly', 'Brad']\n"
     ]
    }
   ],
   "source": [
    "list1 = [\"Mike\", \"\", \"Emma\", \"Kelly\", \"\", \"Brad\"]\n",
    "result = list(filter(lambda x: x!=\"\",list1))\n",
    "print(result)"
   ]
  },
  {
   "cell_type": "code",
   "execution_count": 54,
   "id": "e43008fc",
   "metadata": {},
   "outputs": [
    {
     "name": "stdout",
     "output_type": "stream",
     "text": [
      "[10, 20, [300, 400, [5000, 6000], 500], 30, 40]\n"
     ]
    },
    {
     "data": {
      "text/plain": [
       "[10, 20, [300, 400, [5000, 6000, 7000], 500], 30, 40]"
      ]
     },
     "execution_count": 54,
     "metadata": {},
     "output_type": "execute_result"
    }
   ],
   "source": [
    "list1 = [10, 20, [300, 400, [5000,6000], 500], 30, 40]\n",
    "print(list1)\n",
    "list1[2][2].append(7000)\n",
    "list1"
   ]
  },
  {
   "cell_type": "code",
   "execution_count": 55,
   "id": "86548ad7",
   "metadata": {},
   "outputs": [
    {
     "name": "stdout",
     "output_type": "stream",
     "text": [
      "['a', 'b', ['c', ['d', 'e', ['f', 'g', 'h', 'i', 'j'], 'k'], 'l'], 'm', 'n']\n"
     ]
    }
   ],
   "source": [
    "list1 = [\"a\", \"b\", [\"c\", [\"d\", \"e\", [\"f\", \"g\"], \"k\"], \"l\"], \"m\", \"n\"]\n",
    "sub_list = [\"h\", \"i\", \"j\"]\n",
    "list1[2][1][2].extend(sub_list)\n",
    "print(list1)"
   ]
  },
  {
   "cell_type": "code",
   "execution_count": 60,
   "id": "a6dc3b98",
   "metadata": {},
   "outputs": [
    {
     "name": "stdout",
     "output_type": "stream",
     "text": [
      "3\n",
      "[5, 10, 15, 200, 25, 50, 20]\n"
     ]
    }
   ],
   "source": [
    "list1 = [5, 10, 15, 20, 25, 50, 20]\n",
    "x = list1.index(20)\n",
    "print(x)\n",
    "\n",
    "list1[x] = 200\n",
    "print(list1)"
   ]
  },
  {
   "cell_type": "code",
   "execution_count": 61,
   "id": "62f44bbc",
   "metadata": {},
   "outputs": [
    {
     "name": "stdout",
     "output_type": "stream",
     "text": [
      "[5, 15, 25, 50]\n"
     ]
    }
   ],
   "source": [
    "list1 = [5, 20, 15, 20, 25, 50, 20]\n",
    "while 20 in list1:\n",
    "    list1.remove(20)\n",
    "print(list1)"
   ]
  },
  {
   "cell_type": "code",
   "execution_count": 70,
   "id": "bd2b19ba",
   "metadata": {},
   "outputs": [
    {
     "name": "stdout",
     "output_type": "stream",
     "text": [
      "intersection :  [3, 4, 5]\n",
      "union [1, 2, 3, 4, 5, 6, 7, 8]\n"
     ]
    }
   ],
   "source": [
    "l1=[1,2,3,4,5]\n",
    "l2=[3,4,5,6,7,8]\n",
    "\n",
    "uni = []\n",
    "inter = []\n",
    "\n",
    "for i in l1:\n",
    "    if i in l2:\n",
    "        inter.append(i)\n",
    "print(\"intersection : \",inter)\n",
    "\n",
    "for i in l1:\n",
    "    uni.append(i)\n",
    "\n",
    "for i in l2:\n",
    "    if i not in uni:\n",
    "        uni.append(i)\n",
    "print(\"union\",uni)"
   ]
  },
  {
   "cell_type": "code",
   "execution_count": 72,
   "id": "dcc370fd",
   "metadata": {},
   "outputs": [
    {
     "name": "stdout",
     "output_type": "stream",
     "text": [
      "[[1, 2, 3], [4, 5, 6], [7, 8, 9], [10, 11, 12]]\n"
     ]
    }
   ],
   "source": [
    "l1=[1,2,3,4,5,6,7,8,9,10,11,12]\n",
    "\n",
    "chunk=3\n",
    "output=[l1[i:i+chunk] for i in range(0,len(l1),chunk)]\n",
    "print(output)"
   ]
  },
  {
   "cell_type": "code",
   "execution_count": 74,
   "id": "290ccdec",
   "metadata": {},
   "outputs": [
    {
     "name": "stdout",
     "output_type": "stream",
     "text": [
      "[1, 2, 3, 4, 1]\n",
      "[5, 2, 3, 4, 1]\n"
     ]
    }
   ],
   "source": [
    "l1=[1,2,3,4,5]\n",
    "temp = l1[-1]\n",
    "\n",
    "l1[-1] = l1[0]\n",
    "print(l1)\n",
    "\n",
    "l1[0] = temp\n",
    "print(l1)"
   ]
  },
  {
   "cell_type": "code",
   "execution_count": 75,
   "id": "080398e7",
   "metadata": {},
   "outputs": [
    {
     "data": {
      "text/plain": [
       "['Rohit', 'Milind', 'Kanchan', 'Shashi']"
      ]
     },
     "execution_count": 75,
     "metadata": {},
     "output_type": "execute_result"
    }
   ],
   "source": [
    "from random import shuffle\n",
    "\n",
    "list1=[\"Milind\",\"Kanchan\",\"Rohit\",\"Shashi\"]\n",
    "shuffle(list1)\n",
    "list1"
   ]
  },
  {
   "cell_type": "code",
   "execution_count": 76,
   "id": "e9fbdf0a",
   "metadata": {},
   "outputs": [
    {
     "data": {
      "text/plain": [
       "193"
      ]
     },
     "execution_count": 76,
     "metadata": {},
     "output_type": "execute_result"
    }
   ],
   "source": [
    "l1=[5,8,10,20,50,100]\n",
    "\n",
    "from functools import reduce\n",
    "result = reduce(lambda x,y: x+y , l1)\n",
    "result"
   ]
  },
  {
   "cell_type": "markdown",
   "id": "14350f72",
   "metadata": {},
   "source": [
    "# Dictionary"
   ]
  },
  {
   "cell_type": "markdown",
   "id": "b8ac4c44",
   "metadata": {},
   "source": [
    "### Get the only keys of dictionary"
   ]
  },
  {
   "cell_type": "code",
   "execution_count": 80,
   "id": "7942b18f",
   "metadata": {},
   "outputs": [
    {
     "data": {
      "text/plain": [
       "dict_keys(['name', 'age', 'gender'])"
      ]
     },
     "execution_count": 80,
     "metadata": {},
     "output_type": "execute_result"
    }
   ],
   "source": [
    "dicti = {\"name\":\"ahmed\",\"age\":21, \"gender\": \"male\"}\n",
    "dicti.keys()"
   ]
  },
  {
   "cell_type": "markdown",
   "id": "c17cc4ab",
   "metadata": {},
   "source": [
    "### Convert two lists into a dictionary"
   ]
  },
  {
   "cell_type": "code",
   "execution_count": 123,
   "id": "ea7ce593",
   "metadata": {},
   "outputs": [
    {
     "name": "stdout",
     "output_type": "stream",
     "text": [
      "<zip object at 0x00000244E706BD08>\n"
     ]
    },
    {
     "data": {
      "text/plain": [
       "{'ten': 10, 'twenty': 20, 'thirty': 30}"
      ]
     },
     "execution_count": 123,
     "metadata": {},
     "output_type": "execute_result"
    }
   ],
   "source": [
    "keys = [\"ten\", \"twenty\", \"thirty\"]\n",
    "values = [10, 20 , 30]\n",
    "my_dct = zip(keys,values)\n",
    "\n",
    "print(my_dct)\n",
    "result = dict(my_dct)\n",
    "result"
   ]
  },
  {
   "cell_type": "markdown",
   "id": "a74f596f",
   "metadata": {},
   "source": [
    "###  Merge two Python dictionaries into one"
   ]
  },
  {
   "cell_type": "code",
   "execution_count": 89,
   "id": "38ec304d",
   "metadata": {},
   "outputs": [
    {
     "name": "stdout",
     "output_type": "stream",
     "text": [
      "{'one': 1, 'two': 2, 'three': 3, 'four': 4, 'five': 5}\n"
     ]
    }
   ],
   "source": [
    "dct1 = {\"one\":1, \"two\":2 , \"three\":3}\n",
    "dct2 = {\"three\":3, \"four\":4, \"five\":5}\n",
    "dct3 = {**dct1, **dct2}\n",
    "print(dct3)"
   ]
  },
  {
   "cell_type": "code",
   "execution_count": 90,
   "id": "35d95bda",
   "metadata": {},
   "outputs": [
    {
     "data": {
      "text/plain": [
       "{'one': 1, 'two': 2, 'three': 3, 'four': 4, 'five': 5}"
      ]
     },
     "execution_count": 90,
     "metadata": {},
     "output_type": "execute_result"
    }
   ],
   "source": [
    "# another way to achieve same result\n",
    "\n",
    "dct1 = {\"one\":1, \"two\":2 , \"three\":3}\n",
    "dct2 = {\"three\":3, \"four\":4, \"five\":5}\n",
    "\n",
    "dct3 = dct1.copy()\n",
    "dct3.update(dct2)\n",
    "dct3"
   ]
  },
  {
   "cell_type": "markdown",
   "id": "0f0c1084",
   "metadata": {},
   "source": [
    "###  Print the value of key ‘history’ from the below dict"
   ]
  },
  {
   "cell_type": "code",
   "execution_count": 94,
   "id": "60b04580",
   "metadata": {},
   "outputs": [
    {
     "data": {
      "text/plain": [
       "80"
      ]
     },
     "execution_count": 94,
     "metadata": {},
     "output_type": "execute_result"
    }
   ],
   "source": [
    "sampleDict = {\"class\": {\"student\": {\"name\": \"Mike\",\"marks\": {\"physics\": 70,\"history\": 80}}}}\n",
    "sampleDict[\"class\"][\"student\"][\"marks\"][\"history\"]"
   ]
  },
  {
   "cell_type": "markdown",
   "id": "cb94837d",
   "metadata": {},
   "source": [
    "### Initialize dictionary with default values"
   ]
  },
  {
   "cell_type": "code",
   "execution_count": 101,
   "id": "407b9e02",
   "metadata": {},
   "outputs": [
    {
     "name": "stdout",
     "output_type": "stream",
     "text": [
      "{'ahmed': {'designation': 'developer', 'salary': 5000}, 'usman': {'designation': 'developer', 'salary': 5000}, 'khan': {'designation': 'developer', 'salary': 5000}}\n",
      "**************************************************\n",
      "details of usman:  {'designation': 'developer', 'salary': 5000}\n"
     ]
    }
   ],
   "source": [
    "employees = [\"ahmed\",\"usman\",\"khan\"]\n",
    "defaults = {\"designation\": \"developer\", \"salary\": 5000}\n",
    "result = dict.fromkeys(employees, defaults)\n",
    "print(result)\n",
    "print(\"*\" * 50)\n",
    "print(\"details of usman: \", result[\"usman\"])"
   ]
  },
  {
   "cell_type": "markdown",
   "id": "d0b0d552",
   "metadata": {},
   "source": [
    "###  Create a dictionary by extracting the keys from a given dictionary"
   ]
  },
  {
   "cell_type": "code",
   "execution_count": 128,
   "id": "2527b1ea",
   "metadata": {},
   "outputs": [
    {
     "name": "stdout",
     "output_type": "stream",
     "text": [
      "name\n",
      "salary\n",
      "{'name': 'ahmed', 'salary': 500}\n"
     ]
    }
   ],
   "source": [
    "sample = {\n",
    "    \"name\":\"ahmed\",\n",
    "    \"age\" : 22,\n",
    "    \"salary\": 500,\n",
    "    \"city\": \"kohat\",\n",
    "}\n",
    "keys = [\"name\", \"salary\"]\n",
    "result = dict()\n",
    "\n",
    "for k in keys:\n",
    "    print(k)\n",
    "    result.update({k:sample[k]})\n",
    "print(result)"
   ]
  },
  {
   "cell_type": "code",
   "execution_count": 106,
   "id": "2c4eaa36",
   "metadata": {},
   "outputs": [
    {
     "name": "stdout",
     "output_type": "stream",
     "text": [
      "{'name': 'ahmed', 'salary': 500}\n"
     ]
    }
   ],
   "source": [
    "# dictionary comprehension\n",
    "sample = {\n",
    "    \"name\":\"ahmed\",\n",
    "    \"age\" : 22,\n",
    "    \"salary\": 500,\n",
    "    \"city\": \"kohat\",\n",
    "}\n",
    "keys = [\"name\", \"salary\"]\n",
    "\n",
    "new_dict = {k : sample[k] for k in keys}\n",
    "print(new_dict)"
   ]
  },
  {
   "cell_type": "markdown",
   "id": "3a455b31",
   "metadata": {},
   "source": [
    "###  Check if a value exists in a dictionary"
   ]
  },
  {
   "cell_type": "code",
   "execution_count": 107,
   "id": "86e262b6",
   "metadata": {},
   "outputs": [
    {
     "name": "stdout",
     "output_type": "stream",
     "text": [
      "40 is present.\n"
     ]
    }
   ],
   "source": [
    "sample = {\"a\":10, \"b\":20, \"c\":30, \"d\":40}\n",
    "if 40 in sample.values():\n",
    "    print(\"40 is present.\")"
   ]
  },
  {
   "cell_type": "markdown",
   "id": "9d878b25",
   "metadata": {},
   "source": [
    "###  Rename key of a dictionary"
   ]
  },
  {
   "cell_type": "code",
   "execution_count": 108,
   "id": "18973061",
   "metadata": {},
   "outputs": [
    {
     "name": "stdout",
     "output_type": "stream",
     "text": [
      "{'name': 'ahmed', 'age': 22, 'location': 'kohat'}\n"
     ]
    }
   ],
   "source": [
    "sample = {\n",
    "    'name':'ahmed',\n",
    "    'age' : 22,\n",
    "    'city' : 'kohat'\n",
    "}\n",
    "sample[\"location\"] = sample.pop(\"city\")\n",
    "print(sample)"
   ]
  },
  {
   "cell_type": "markdown",
   "id": "0d079780",
   "metadata": {},
   "source": [
    "###  Get the key of a minimum value from the following dictionary"
   ]
  },
  {
   "cell_type": "code",
   "execution_count": 115,
   "id": "c0a983d9",
   "metadata": {},
   "outputs": [
    {
     "data": {
      "text/plain": [
       "'Math'"
      ]
     },
     "execution_count": 115,
     "metadata": {},
     "output_type": "execute_result"
    }
   ],
   "source": [
    "sample = {\n",
    "    'Physics': 82,\n",
    "    'Math': 65,\n",
    "    'history': 75\n",
    "}\n",
    "min(sample, key= sample.get)"
   ]
  },
  {
   "cell_type": "markdown",
   "id": "130d921b",
   "metadata": {},
   "source": [
    "###  Change value of a key in a nested dictionary"
   ]
  },
  {
   "cell_type": "code",
   "execution_count": 120,
   "id": "ff892bcb",
   "metadata": {},
   "outputs": [
    {
     "name": "stdout",
     "output_type": "stream",
     "text": [
      "{'slot1': {'name': 'ahmed', 'salary': 500}, 'slot2': {'name': 'usman', 'salary': 600}, 'slot3': {'name': 'khan', 'salaty': 700, 'salary': 10000}}\n"
     ]
    }
   ],
   "source": [
    "sample = {\n",
    "    \"slot1\": {\"name\":\"ahmed\", \"salary\":500},\n",
    "    \"slot2\": {\"name\": \"usman\", \"salary\":600},\n",
    "    \"slot3\": {\"name\":\"khan\", \"salaty\":700}\n",
    "}\n",
    "sample [\"slot3\"][\"salary\"] = 10000\n",
    "print(sample)"
   ]
  },
  {
   "cell_type": "markdown",
   "id": "8965d2d9",
   "metadata": {},
   "source": [
    "# sets"
   ]
  },
  {
   "cell_type": "markdown",
   "id": "635df004",
   "metadata": {},
   "source": [
    "### Exercise 1: Add a list of elements to a set"
   ]
  },
  {
   "cell_type": "code",
   "execution_count": 131,
   "id": "c3ec88f9",
   "metadata": {},
   "outputs": [
    {
     "name": "stdout",
     "output_type": "stream",
     "text": [
      "None\n",
      "{'yellow', 'purple', 'green', 'blue', 'orange', 'pink'}\n"
     ]
    }
   ],
   "source": [
    "set1 = {\"blue\",\"green\",\"yellow\"}\n",
    "set2 = {\"orange\", \"pink\", \"purple\"}\n",
    "result = set1.update(set2)\n",
    "print(result)\n",
    "print(set1)"
   ]
  },
  {
   "cell_type": "markdown",
   "id": "43d2ef58",
   "metadata": {},
   "source": [
    "### Exercise 2: Return a new set of identical items from two sets"
   ]
  },
  {
   "cell_type": "code",
   "execution_count": 158,
   "id": "8e4ba125",
   "metadata": {},
   "outputs": [
    {
     "name": "stdout",
     "output_type": "stream",
     "text": [
      "{50, 60, 30}\n"
     ]
    }
   ],
   "source": [
    "set1 = {10,30,50,60}\n",
    "set2 = {30,50,60,80,90}\n",
    "result = set1.intersection(set2)\n",
    "print(result)\n",
    "# print(set1)"
   ]
  },
  {
   "cell_type": "markdown",
   "id": "78d6110c",
   "metadata": {},
   "source": [
    "### Exercise 3: Get Only unique items from two sets"
   ]
  },
  {
   "cell_type": "code",
   "execution_count": 159,
   "id": "b2158d77",
   "metadata": {},
   "outputs": [
    {
     "name": "stdout",
     "output_type": "stream",
     "text": [
      "{70, 40, 10, 50, 20, 60, 30}\n"
     ]
    }
   ],
   "source": [
    "set1 = {10,20,30,40,50}\n",
    "set2 = {30,40,50,60,70}\n",
    "result = set1.union(set2)\n",
    "print(result)\n",
    "# print(set1)"
   ]
  },
  {
   "cell_type": "markdown",
   "id": "97210fe6",
   "metadata": {},
   "source": [
    "### Exercise 4: Update the first set with items that don’t exist in the second set"
   ]
  },
  {
   "cell_type": "code",
   "execution_count": 160,
   "id": "1bfc118d",
   "metadata": {},
   "outputs": [
    {
     "name": "stdout",
     "output_type": "stream",
     "text": [
      "{10, 60}\n"
     ]
    }
   ],
   "source": [
    "set1 = {10,30,50,60}\n",
    "set2 = {30,50,70,80}\n",
    "result = set1.difference_update(set2)\n",
    "# print(result)\n",
    "print(set1)"
   ]
  },
  {
   "cell_type": "markdown",
   "id": "b8731c37",
   "metadata": {},
   "source": [
    "### Exercise 5: Remove items from the set at once"
   ]
  },
  {
   "cell_type": "code",
   "execution_count": 143,
   "id": "42abaef0",
   "metadata": {},
   "outputs": [
    {
     "name": "stdout",
     "output_type": "stream",
     "text": [
      "{20, 40}\n"
     ]
    }
   ],
   "source": [
    "set1 = {10,30,50,70}\n",
    "set2 = {20,30,40,50}\n",
    "set2.difference_update(set1)\n",
    "print(set2)"
   ]
  },
  {
   "cell_type": "markdown",
   "id": "5b800779",
   "metadata": {},
   "source": [
    "### Exercise 6: Return a set of elements present in Set A or B, but not both"
   ]
  },
  {
   "cell_type": "code",
   "execution_count": 161,
   "id": "3561b153",
   "metadata": {},
   "outputs": [
    {
     "name": "stdout",
     "output_type": "stream",
     "text": [
      "{40, 20}\n"
     ]
    }
   ],
   "source": [
    "set1 = {10,30,40,50}\n",
    "set2 = {10,20,30,50}\n",
    "result = set1.symmetric_difference(set2)\n",
    "print(result)\n",
    "# print(set1)"
   ]
  },
  {
   "cell_type": "markdown",
   "id": "f96b5f46",
   "metadata": {},
   "source": [
    "### Exercise 6: Check if two sets have any elements in common. If yes, display the common elements"
   ]
  },
  {
   "cell_type": "code",
   "execution_count": 151,
   "id": "8831f580",
   "metadata": {},
   "outputs": [
    {
     "name": "stdout",
     "output_type": "stream",
     "text": [
      "{40, 50, 20, 30}\n"
     ]
    }
   ],
   "source": [
    "set1 = {10,20,30,40,50}\n",
    "set2 = {20,30,40,50,60}\n",
    "\n",
    "# set1 = {10,20,30}\n",
    "# set2 = {40,50,60}\n",
    "\n",
    "if set1.isdisjoint(set2):\n",
    "    print(\"don't 've any common element. \")\n",
    "else:\n",
    "    print(set1.intersection(set2))"
   ]
  },
  {
   "cell_type": "markdown",
   "id": "2de1f23d",
   "metadata": {},
   "source": [
    "### Exercise 7: Update set1 by adding items from set2, except common items"
   ]
  },
  {
   "cell_type": "code",
   "execution_count": 154,
   "id": "afdd7bd5",
   "metadata": {},
   "outputs": [
    {
     "name": "stdout",
     "output_type": "stream",
     "text": [
      "{40, 10}\n"
     ]
    }
   ],
   "source": [
    "set1 = {10,30,50,60}\n",
    "set2 = {30,40,50,60}\n",
    "result = set1.symmetric_difference_update(set2)\n",
    "print(set1)"
   ]
  },
  {
   "cell_type": "markdown",
   "id": "bcffacac",
   "metadata": {},
   "source": [
    "### Exercise 8: Remove items from set1 that are common to both set1 and set2"
   ]
  },
  {
   "cell_type": "code",
   "execution_count": 162,
   "id": "a46dbf1c",
   "metadata": {},
   "outputs": [
    {
     "name": "stdout",
     "output_type": "stream",
     "text": [
      "{20, 30}\n"
     ]
    }
   ],
   "source": [
    "set1 = {10,20,30}\n",
    "set2 = {20,30,40}\n",
    "result = set1.intersection_update(set2)\n",
    "print(set1)\n",
    "# print(result)"
   ]
  },
  {
   "cell_type": "markdown",
   "id": "d970c87e",
   "metadata": {},
   "source": [
    "# Tuple"
   ]
  },
  {
   "cell_type": "markdown",
   "id": "af941a94",
   "metadata": {},
   "source": [
    "### Exercise 1: Reverse the tuple"
   ]
  },
  {
   "cell_type": "code",
   "execution_count": 167,
   "id": "d55c5ab5",
   "metadata": {},
   "outputs": [
    {
     "name": "stdout",
     "output_type": "stream",
     "text": [
      "(5, 4, 3, 2, 1)\n"
     ]
    }
   ],
   "source": [
    "T = (1,2,3,4,5)\n",
    "print(T[::-1])"
   ]
  },
  {
   "cell_type": "markdown",
   "id": "049d3f7e",
   "metadata": {},
   "source": [
    "### Exercise 2: Access value 20 from the tuple"
   ]
  },
  {
   "cell_type": "code",
   "execution_count": 170,
   "id": "f07c2a2c",
   "metadata": {},
   "outputs": [
    {
     "data": {
      "text/plain": [
       "20"
      ]
     },
     "execution_count": 170,
     "metadata": {},
     "output_type": "execute_result"
    }
   ],
   "source": [
    "T = (\"orange\", [10,20,30],(5,15,3))\n",
    "T[1][1]"
   ]
  },
  {
   "cell_type": "markdown",
   "id": "d04c5f78",
   "metadata": {},
   "source": [
    "### Exercise 3: Create a tuple with single item 50"
   ]
  },
  {
   "cell_type": "code",
   "execution_count": 172,
   "id": "3dad4bd5",
   "metadata": {},
   "outputs": [
    {
     "data": {
      "text/plain": [
       "tuple"
      ]
     },
     "execution_count": 172,
     "metadata": {},
     "output_type": "execute_result"
    }
   ],
   "source": [
    "T = (50,)\n",
    "type(T)"
   ]
  },
  {
   "cell_type": "markdown",
   "id": "07cd47f9",
   "metadata": {},
   "source": [
    "### Exercise 4: Unpack the tuple into 4 variables"
   ]
  },
  {
   "cell_type": "code",
   "execution_count": 176,
   "id": "6a0ff5bb",
   "metadata": {},
   "outputs": [
    {
     "name": "stdout",
     "output_type": "stream",
     "text": [
      "10\n",
      "20\n",
      "30\n",
      "40\n"
     ]
    }
   ],
   "source": [
    "T = (10,20,30,40)\n",
    "a,b,c,d = T\n",
    "print(a)\n",
    "print(b)\n",
    "print(c)\n",
    "print(d)"
   ]
  },
  {
   "cell_type": "markdown",
   "id": "683528a5",
   "metadata": {},
   "source": [
    "### Exercise 5: Swap two tuples in Python\n",
    "tuple1 = (11, 22)\n",
    "tuple2 = (99, 88)"
   ]
  },
  {
   "cell_type": "code",
   "execution_count": 178,
   "id": "69db4b66",
   "metadata": {},
   "outputs": [
    {
     "name": "stdout",
     "output_type": "stream",
     "text": [
      "tuple 1: (99, 88)\n",
      "tuple 2: (11, 22)\n"
     ]
    }
   ],
   "source": [
    "tuple1 = (11,22)\n",
    "tuple2 = (99,88)\n",
    "\n",
    "tuple1,tuple2 = tuple2, tuple1\n",
    "\n",
    "print(\"tuple 1:\",tuple1)\n",
    "print(\"tuple 2:\",tuple2)"
   ]
  },
  {
   "cell_type": "markdown",
   "id": "aefed4d8",
   "metadata": {},
   "source": [
    "### Exercise 6: Copy specific elements from one tuple to a new tuple"
   ]
  },
  {
   "cell_type": "code",
   "execution_count": 180,
   "id": "6baf13e0",
   "metadata": {},
   "outputs": [
    {
     "data": {
      "text/plain": [
       "(44, 55)"
      ]
     },
     "execution_count": 180,
     "metadata": {},
     "output_type": "execute_result"
    }
   ],
   "source": [
    "tuple1 = (11,22,33,44,55,66)\n",
    "tuple1[3:5]"
   ]
  },
  {
   "cell_type": "markdown",
   "id": "e7a59dac",
   "metadata": {},
   "source": [
    "### Exercise 7: Modify the tuple\n",
    "tuple1 = (11, [22, 33], 44, 55)\n",
    "tuple1: (11, [222, 33], 44, 55)"
   ]
  },
  {
   "cell_type": "code",
   "execution_count": 186,
   "id": "0d529051",
   "metadata": {},
   "outputs": [
    {
     "name": "stdout",
     "output_type": "stream",
     "text": [
      "(11, [222, 33], 44, 55)\n"
     ]
    }
   ],
   "source": [
    "tuple1 = (11, [22, 33], 44, 55)\n",
    "tuple1[1][0] = 222\n",
    "print(tuple1)"
   ]
  },
  {
   "cell_type": "markdown",
   "id": "546aedbb",
   "metadata": {},
   "source": [
    "### Exercise 8: Sort a tuple of tuples by 2nd item"
   ]
  },
  {
   "cell_type": "code",
   "execution_count": 187,
   "id": "783c29e5",
   "metadata": {},
   "outputs": [
    {
     "data": {
      "text/plain": [
       "(('c', 11), ('a', 23), ('d', 29), ('b', 37))"
      ]
     },
     "execution_count": 187,
     "metadata": {},
     "output_type": "execute_result"
    }
   ],
   "source": [
    "tuple1 = (('a', 23),('b', 37),('c', 11), ('d',29))\n",
    "\n",
    "tuple1 = sorted(list(tuple1), key = lambda x:x[1])\n",
    "\n",
    "tuple(tuple1)"
   ]
  },
  {
   "cell_type": "markdown",
   "id": "d50a3a76",
   "metadata": {},
   "source": [
    "### Exercise 9: Counts the number of occurrences of item 50 from a tuple\n",
    "tuple1 = (50, 10, 60, 70, 50)"
   ]
  },
  {
   "cell_type": "code",
   "execution_count": 188,
   "id": "133c7392",
   "metadata": {},
   "outputs": [
    {
     "data": {
      "text/plain": [
       "2"
      ]
     },
     "execution_count": 188,
     "metadata": {},
     "output_type": "execute_result"
    }
   ],
   "source": [
    "tuple1 = (50, 10, 60, 70, 50)\n",
    "tuple1.count(50)"
   ]
  },
  {
   "cell_type": "markdown",
   "id": "1a339acd",
   "metadata": {},
   "source": [
    "### Exercise 10: Check if all items in the tuple are the same\n",
    "tuple1 = (45, 45, 45, 45)"
   ]
  },
  {
   "cell_type": "code",
   "execution_count": 192,
   "id": "06e2de46",
   "metadata": {},
   "outputs": [
    {
     "name": "stdout",
     "output_type": "stream",
     "text": [
      "all same.\n",
      "all same.\n",
      "all same.\n",
      "all same.\n"
     ]
    }
   ],
   "source": [
    "tuple1 = (45, 45, 45, 45)\n",
    "for i in tuple1:\n",
    "    if i == tuple1[0]:\n",
    "        print(\"all same.\")\n",
    "    else:\n",
    "        print(\"all not same.\")"
   ]
  },
  {
   "cell_type": "code",
   "execution_count": 195,
   "id": "eba99381",
   "metadata": {},
   "outputs": [
    {
     "name": "stdout",
     "output_type": "stream",
     "text": [
      "all same.\n"
     ]
    }
   ],
   "source": [
    "t = (45, 45, 45, 45)\n",
    "\n",
    "all_same = all(i==t[0] for i in t)\n",
    "\n",
    "if all_same:\n",
    "    print(\"all same.\")\n",
    "else:\n",
    "    print(\"all not same.\")"
   ]
  },
  {
   "cell_type": "code",
   "execution_count": null,
   "id": "ff27f1e3",
   "metadata": {},
   "outputs": [],
   "source": []
  }
 ],
 "metadata": {
  "kernelspec": {
   "display_name": "Python 3 (ipykernel)",
   "language": "python",
   "name": "python3"
  },
  "language_info": {
   "codemirror_mode": {
    "name": "ipython",
    "version": 3
   },
   "file_extension": ".py",
   "mimetype": "text/x-python",
   "name": "python",
   "nbconvert_exporter": "python",
   "pygments_lexer": "ipython3",
   "version": "3.7.2"
  }
 },
 "nbformat": 4,
 "nbformat_minor": 5
}
