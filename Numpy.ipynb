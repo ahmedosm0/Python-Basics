{
 "cells": [
  {
   "cell_type": "markdown",
   "id": "fea30688",
   "metadata": {},
   "source": [
    "### NUMPY:\n",
    "- numpy is developed on C language, as c language is used to communicate for hardwares, coz it's a faster way.\n",
    "- python is easy due to it's ease like we can handle multiple data types in list, that we can't do in C. So it is time consuming - while processing different datatypes same time.\n",
    "- while using numpy library in python we can process the data faster.\n",
    "- While using Python we can focus on developing real applications.\n",
    "- C is focused on memory managment.\n",
    "### Properties:\n",
    "- It contains (number, float, complex).\n",
    "- should first specify the item size."
   ]
  },
  {
   "cell_type": "markdown",
   "id": "648e8128",
   "metadata": {},
   "source": [
    "## creating numpy or n-D Array"
   ]
  },
  {
   "cell_type": "code",
   "execution_count": 1,
   "id": "c9f3eb28",
   "metadata": {},
   "outputs": [],
   "source": [
    "import numpy as np  # np is like it's nick name."
   ]
  },
  {
   "cell_type": "markdown",
   "id": "09b4db26",
   "metadata": {},
   "source": [
    "### 1 np.array()"
   ]
  },
  {
   "cell_type": "code",
   "execution_count": 11,
   "id": "70534044",
   "metadata": {},
   "outputs": [
    {
     "name": "stdout",
     "output_type": "stream",
     "text": [
      "arr1: [1 2 3 4 5]\n"
     ]
    },
    {
     "data": {
      "text/plain": [
       "numpy.ndarray"
      ]
     },
     "execution_count": 11,
     "metadata": {},
     "output_type": "execute_result"
    }
   ],
   "source": [
    "arr1 = np.array([1,2,3,4,5])\n",
    "print(\"arr1:\",arr1)\n",
    "type(arr1)"
   ]
  },
  {
   "cell_type": "code",
   "execution_count": 19,
   "id": "80b0525f",
   "metadata": {},
   "outputs": [
    {
     "data": {
      "text/plain": [
       "array([[1, 2, 3],\n",
       "       [6, 7, 8]])"
      ]
     },
     "execution_count": 19,
     "metadata": {},
     "output_type": "execute_result"
    }
   ],
   "source": [
    "arr2 = np.array([[1,2,3],[6,7,8]]) # 2D array\n",
    "arr2"
   ]
  },
  {
   "cell_type": "markdown",
   "id": "0083ba89",
   "metadata": {},
   "source": [
    "### 2 np.zeros, ones, empty, random"
   ]
  },
  {
   "cell_type": "code",
   "execution_count": 21,
   "id": "a1c1b4d5",
   "metadata": {},
   "outputs": [
    {
     "data": {
      "text/plain": [
       "array([[0., 0., 0.],\n",
       "       [0., 0., 0.]])"
      ]
     },
     "execution_count": 21,
     "metadata": {},
     "output_type": "execute_result"
    }
   ],
   "source": [
    "arr3 = np.zeros((2,3))\n",
    "arr3"
   ]
  },
  {
   "cell_type": "code",
   "execution_count": 23,
   "id": "da85b1de",
   "metadata": {},
   "outputs": [
    {
     "data": {
      "text/plain": [
       "array([[1., 1., 1., 1.],\n",
       "       [1., 1., 1., 1.]])"
      ]
     },
     "execution_count": 23,
     "metadata": {},
     "output_type": "execute_result"
    }
   ],
   "source": [
    "arr4 = np.ones((2,4))\n",
    "arr4"
   ]
  },
  {
   "cell_type": "markdown",
   "id": "3aaa92b0",
   "metadata": {},
   "source": [
    "### 3 np.identity"
   ]
  },
  {
   "cell_type": "code",
   "execution_count": 33,
   "id": "56ecae63",
   "metadata": {},
   "outputs": [
    {
     "data": {
      "text/plain": [
       "array([[1., 0., 0., 0., 0.],\n",
       "       [0., 1., 0., 0., 0.],\n",
       "       [0., 0., 1., 0., 0.],\n",
       "       [0., 0., 0., 1., 0.],\n",
       "       [0., 0., 0., 0., 1.]])"
      ]
     },
     "execution_count": 33,
     "metadata": {},
     "output_type": "execute_result"
    }
   ],
   "source": [
    "arr5 = np.identity((5))\n",
    "arr5"
   ]
  },
  {
   "cell_type": "markdown",
   "id": "10706895",
   "metadata": {},
   "source": [
    "### 4 np.arrange"
   ]
  },
  {
   "cell_type": "code",
   "execution_count": 40,
   "id": "75c652cd",
   "metadata": {},
   "outputs": [
    {
     "data": {
      "text/plain": [
       "array([2, 4, 6, 8])"
      ]
     },
     "execution_count": 40,
     "metadata": {},
     "output_type": "execute_result"
    }
   ],
   "source": [
    "arr6 = np.arange(2,10,2) # define starting, ending, and jumps.\n",
    "arr6"
   ]
  },
  {
   "cell_type": "markdown",
   "id": "2db1aba2",
   "metadata": {},
   "source": [
    "### 5 np.linspace"
   ]
  },
  {
   "cell_type": "code",
   "execution_count": 54,
   "id": "749103b8",
   "metadata": {},
   "outputs": [
    {
     "data": {
      "text/plain": [
       "array([10.        , 11.11111111, 12.22222222, 13.33333333, 14.44444444,\n",
       "       15.55555556, 16.66666667, 17.77777778, 18.88888889, 20.        ])"
      ]
     },
     "execution_count": 54,
     "metadata": {},
     "output_type": "execute_result"
    }
   ],
   "source": [
    "arr7 = np.linspace(10,20, 10) # defines starting range, ending range, and total number of equidistance points.\n",
    "arr7 # difference of 2nd minus 1st is same, so it's equidistance"
   ]
  },
  {
   "cell_type": "markdown",
   "id": "844b9b99",
   "metadata": {},
   "source": [
    "### 6 np.copy"
   ]
  },
  {
   "cell_type": "code",
   "execution_count": 55,
   "id": "53fdfcf3",
   "metadata": {},
   "outputs": [
    {
     "data": {
      "text/plain": [
       "array([10.        , 11.11111111, 12.22222222, 13.33333333, 14.44444444,\n",
       "       15.55555556, 16.66666667, 17.77777778, 18.88888889, 20.        ])"
      ]
     },
     "execution_count": 55,
     "metadata": {},
     "output_type": "execute_result"
    }
   ],
   "source": [
    "arr8 = np.copy(arr7)\n",
    "arr8"
   ]
  },
  {
   "cell_type": "markdown",
   "id": "36818abf",
   "metadata": {},
   "source": [
    "# Numpy is class, so it has some attributes\n",
    "- Shape\n",
    "- nDim\n",
    "- Size\n",
    "- Itemsize\n",
    "- Dtype\n",
    "- astype()"
   ]
  },
  {
   "cell_type": "markdown",
   "id": "972ce81d",
   "metadata": {},
   "source": [
    "### shape (rows, columns)"
   ]
  },
  {
   "cell_type": "code",
   "execution_count": 60,
   "id": "6aaffac7",
   "metadata": {},
   "outputs": [
    {
     "name": "stdout",
     "output_type": "stream",
     "text": [
      "[1 2 3 4 5]\n"
     ]
    },
    {
     "data": {
      "text/plain": [
       "(5,)"
      ]
     },
     "execution_count": 60,
     "metadata": {},
     "output_type": "execute_result"
    }
   ],
   "source": [
    "print(arr1)\n",
    "arr1.shape"
   ]
  },
  {
   "cell_type": "code",
   "execution_count": 62,
   "id": "df33a3b3",
   "metadata": {},
   "outputs": [
    {
     "name": "stdout",
     "output_type": "stream",
     "text": [
      "[[1 2 3]\n",
      " [6 7 8]]\n"
     ]
    },
    {
     "data": {
      "text/plain": [
       "(2, 3)"
      ]
     },
     "execution_count": 62,
     "metadata": {},
     "output_type": "execute_result"
    }
   ],
   "source": [
    "print(arr2)\n",
    "arr2.shape"
   ]
  },
  {
   "cell_type": "code",
   "execution_count": 72,
   "id": "84ac8ddc",
   "metadata": {},
   "outputs": [
    {
     "name": "stdout",
     "output_type": "stream",
     "text": [
      "[[[1 2]\n",
      "  [3 4]]\n",
      "\n",
      " [[5 6]\n",
      "  [7 8]]]\n",
      "shape of arr3:  (2, 2, 2)\n"
     ]
    }
   ],
   "source": [
    "arr3 = np.array([[[1,2],[3,4]],[[5,6],[7,8]]])\n",
    "print(arr3)\n",
    "print(\"shape of arr3: \",arr3.shape)"
   ]
  },
  {
   "cell_type": "markdown",
   "id": "bf24cc2a",
   "metadata": {},
   "source": [
    "### ndim (dimension of array)"
   ]
  },
  {
   "cell_type": "code",
   "execution_count": 73,
   "id": "5c04284e",
   "metadata": {},
   "outputs": [
    {
     "name": "stdout",
     "output_type": "stream",
     "text": [
      "3\n"
     ]
    }
   ],
   "source": [
    "print(arr3.ndim)"
   ]
  },
  {
   "cell_type": "code",
   "execution_count": 75,
   "id": "4baa9fb6",
   "metadata": {},
   "outputs": [
    {
     "name": "stdout",
     "output_type": "stream",
     "text": [
      "2\n"
     ]
    }
   ],
   "source": [
    "print(arr2.ndim)"
   ]
  },
  {
   "cell_type": "code",
   "execution_count": 76,
   "id": "57ff0df1",
   "metadata": {},
   "outputs": [
    {
     "data": {
      "text/plain": [
       "1"
      ]
     },
     "execution_count": 76,
     "metadata": {},
     "output_type": "execute_result"
    }
   ],
   "source": [
    "arr1.ndim # ndim is attribute of arr1, so we can't use \"()\"."
   ]
  },
  {
   "cell_type": "markdown",
   "id": "4839e602",
   "metadata": {},
   "source": [
    "### size (number of items in array)"
   ]
  },
  {
   "cell_type": "code",
   "execution_count": 78,
   "id": "120b6960",
   "metadata": {},
   "outputs": [
    {
     "name": "stdout",
     "output_type": "stream",
     "text": [
      "[[[1 2]\n",
      "  [3 4]]\n",
      "\n",
      " [[5 6]\n",
      "  [7 8]]]\n"
     ]
    },
    {
     "data": {
      "text/plain": [
       "8"
      ]
     },
     "execution_count": 78,
     "metadata": {},
     "output_type": "execute_result"
    }
   ],
   "source": [
    "print(arr3)\n",
    "arr3.size # number of items are 8, so size is 8."
   ]
  },
  {
   "cell_type": "code",
   "execution_count": 80,
   "id": "17fce3ac",
   "metadata": {},
   "outputs": [
    {
     "name": "stdout",
     "output_type": "stream",
     "text": [
      "[1 2 3 4 5]\n"
     ]
    },
    {
     "data": {
      "text/plain": [
       "5"
      ]
     },
     "execution_count": 80,
     "metadata": {},
     "output_type": "execute_result"
    }
   ],
   "source": [
    "print(arr1)\n",
    "arr1.size"
   ]
  },
  {
   "cell_type": "markdown",
   "id": "cb214f72",
   "metadata": {},
   "source": [
    "### itemsize \n",
    "- it contains size of each integer in bytes, as each element contains 4 bytes of memory"
   ]
  },
  {
   "cell_type": "code",
   "execution_count": 82,
   "id": "217b168e",
   "metadata": {},
   "outputs": [
    {
     "name": "stdout",
     "output_type": "stream",
     "text": [
      "[[[1 2]\n",
      "  [3 4]]\n",
      "\n",
      " [[5 6]\n",
      "  [7 8]]]\n"
     ]
    },
    {
     "data": {
      "text/plain": [
       "4"
      ]
     },
     "execution_count": 82,
     "metadata": {},
     "output_type": "execute_result"
    }
   ],
   "source": [
    "print(arr3)\n",
    "arr3.itemsize"
   ]
  },
  {
   "cell_type": "code",
   "execution_count": 84,
   "id": "74a7282e",
   "metadata": {},
   "outputs": [
    {
     "name": "stdout",
     "output_type": "stream",
     "text": [
      "[1 2 3 4 5]\n"
     ]
    },
    {
     "data": {
      "text/plain": [
       "4"
      ]
     },
     "execution_count": 84,
     "metadata": {},
     "output_type": "execute_result"
    }
   ],
   "source": [
    "print(arr1)\n",
    "arr1.itemsize"
   ]
  },
  {
   "cell_type": "code",
   "execution_count": 86,
   "id": "2e68ed98",
   "metadata": {},
   "outputs": [
    {
     "name": "stdout",
     "output_type": "stream",
     "text": [
      "[10.         11.11111111 12.22222222 13.33333333 14.44444444 15.55555556\n",
      " 16.66666667 17.77777778 18.88888889 20.        ]\n",
      "size : 10\n",
      "size : 8\n"
     ]
    }
   ],
   "source": [
    "print(arr8)\n",
    "print(\"size :\",arr8.size)\n",
    "print(\"size :\",arr8.itemsize)"
   ]
  },
  {
   "cell_type": "markdown",
   "id": "4af9a623",
   "metadata": {},
   "source": [
    "### dtype(dimension type)"
   ]
  },
  {
   "cell_type": "code",
   "execution_count": 91,
   "id": "e8252930",
   "metadata": {},
   "outputs": [
    {
     "name": "stdout",
     "output_type": "stream",
     "text": [
      "[10.         11.11111111 12.22222222 13.33333333 14.44444444 15.55555556\n",
      " 16.66666667 17.77777778 18.88888889 20.        ]\n"
     ]
    },
    {
     "data": {
      "text/plain": [
       "dtype('float64')"
      ]
     },
     "execution_count": 91,
     "metadata": {},
     "output_type": "execute_result"
    }
   ],
   "source": [
    "print(arr8)\n",
    "arr8.dtype"
   ]
  },
  {
   "cell_type": "code",
   "execution_count": 93,
   "id": "0c483660",
   "metadata": {},
   "outputs": [
    {
     "name": "stdout",
     "output_type": "stream",
     "text": [
      "[[[1 2]\n",
      "  [3 4]]\n",
      "\n",
      " [[5 6]\n",
      "  [7 8]]]\n"
     ]
    },
    {
     "data": {
      "text/plain": [
       "dtype('int32')"
      ]
     },
     "execution_count": 93,
     "metadata": {},
     "output_type": "execute_result"
    }
   ],
   "source": [
    "print(arr3)\n",
    "arr3.dtype"
   ]
  },
  {
   "cell_type": "markdown",
   "id": "a51c335a",
   "metadata": {},
   "source": [
    "### astype\n",
    "- converting the datatype of array"
   ]
  },
  {
   "cell_type": "code",
   "execution_count": 96,
   "id": "3e47b103",
   "metadata": {},
   "outputs": [
    {
     "name": "stdout",
     "output_type": "stream",
     "text": [
      "[[[1 2]\n",
      "  [3 4]]\n",
      "\n",
      " [[5 6]\n",
      "  [7 8]]]\n"
     ]
    },
    {
     "data": {
      "text/plain": [
       "array([[[1., 2.],\n",
       "        [3., 4.]],\n",
       "\n",
       "       [[5., 6.],\n",
       "        [7., 8.]]])"
      ]
     },
     "execution_count": 96,
     "metadata": {},
     "output_type": "execute_result"
    }
   ],
   "source": [
    "print(arr3)\n",
    "arr3.astype(\"float\") # converting the datatype from int to array"
   ]
  },
  {
   "cell_type": "markdown",
   "id": "cec94e5f",
   "metadata": {},
   "source": [
    "# Array vs list"
   ]
  },
  {
   "cell_type": "markdown",
   "id": "e3d79e8e",
   "metadata": {},
   "source": [
    "- array is faster than list\n",
    "- array is convenient\n",
    "- array consumes less memory"
   ]
  },
  {
   "cell_type": "markdown",
   "id": "60285eb2",
   "metadata": {},
   "source": [
    "# Indexing, Slicing and Iteration\n",
    "- extracting single item is indexing\n",
    "- extracting multiple item is slicing"
   ]
  },
  {
   "cell_type": "code",
   "execution_count": 3,
   "id": "3f318b47",
   "metadata": {},
   "outputs": [],
   "source": [
    "import numpy as np"
   ]
  },
  {
   "cell_type": "code",
   "execution_count": 8,
   "id": "3f602603",
   "metadata": {},
   "outputs": [
    {
     "data": {
      "text/plain": [
       "array([[ 0,  1,  2,  3],\n",
       "       [ 4,  5,  6,  7],\n",
       "       [ 8,  9, 10, 11],\n",
       "       [12, 13, 14, 15],\n",
       "       [16, 17, 18, 19],\n",
       "       [20, 21, 22, 23]])"
      ]
     },
     "execution_count": 8,
     "metadata": {},
     "output_type": "execute_result"
    }
   ],
   "source": [
    "arr1 = np.arange(24).reshape(6,4)\n",
    "arr1"
   ]
  },
  {
   "cell_type": "code",
   "execution_count": 9,
   "id": "5ec1c068",
   "metadata": {},
   "outputs": [
    {
     "data": {
      "text/plain": [
       "array([4, 5, 6, 7])"
      ]
     },
     "execution_count": 9,
     "metadata": {},
     "output_type": "execute_result"
    }
   ],
   "source": [
    "arr1[1] # getting single row"
   ]
  },
  {
   "cell_type": "code",
   "execution_count": 10,
   "id": "47555aec",
   "metadata": {},
   "outputs": [
    {
     "data": {
      "text/plain": [
       "array([[ 4,  5,  6,  7],\n",
       "       [ 8,  9, 10, 11],\n",
       "       [12, 13, 14, 15]])"
      ]
     },
     "execution_count": 10,
     "metadata": {},
     "output_type": "execute_result"
    }
   ],
   "source": [
    "arr1[1:4] # getting multiple rows"
   ]
  },
  {
   "cell_type": "code",
   "execution_count": 11,
   "id": "7c9009de",
   "metadata": {},
   "outputs": [
    {
     "data": {
      "text/plain": [
       "array([ 2,  6, 10, 14, 18, 22])"
      ]
     },
     "execution_count": 11,
     "metadata": {},
     "output_type": "execute_result"
    }
   ],
   "source": [
    "arr1[:,2] # getting single column"
   ]
  },
  {
   "cell_type": "code",
   "execution_count": 18,
   "id": "bf9528bf",
   "metadata": {},
   "outputs": [
    {
     "data": {
      "text/plain": [
       "array([[ 1,  2],\n",
       "       [ 5,  6],\n",
       "       [ 9, 10],\n",
       "       [13, 14],\n",
       "       [17, 18],\n",
       "       [21, 22]])"
      ]
     },
     "execution_count": 18,
     "metadata": {},
     "output_type": "execute_result"
    }
   ],
   "source": [
    "arr2 = arr1[:,1:3] # getting multiple column\n",
    "arr2"
   ]
  },
  {
   "cell_type": "code",
   "execution_count": 19,
   "id": "7ace9107",
   "metadata": {},
   "outputs": [
    {
     "data": {
      "text/plain": [
       "array([[ 9, 10],\n",
       "       [13, 14]])"
      ]
     },
     "execution_count": 19,
     "metadata": {},
     "output_type": "execute_result"
    }
   ],
   "source": [
    "arr2[2:4]"
   ]
  },
  {
   "cell_type": "code",
   "execution_count": 23,
   "id": "08ec1b82",
   "metadata": {},
   "outputs": [
    {
     "name": "stdout",
     "output_type": "stream",
     "text": [
      "[[ 0  1  2  3]\n",
      " [ 4  5  6  7]\n",
      " [ 8  9 10 11]\n",
      " [12 13 14 15]\n",
      " [16 17 18 19]\n",
      " [20 21 22 23]]\n"
     ]
    },
    {
     "data": {
      "text/plain": [
       "array([[ 9, 10],\n",
       "       [13, 14]])"
      ]
     },
     "execution_count": 23,
     "metadata": {},
     "output_type": "execute_result"
    }
   ],
   "source": [
    "print(arr1)\n",
    "arr1[2:4 , 1:3] "
   ]
  },
  {
   "cell_type": "code",
   "execution_count": 25,
   "id": "2bf0464f",
   "metadata": {},
   "outputs": [
    {
     "data": {
      "text/plain": [
       "array([[18, 19],\n",
       "       [22, 23]])"
      ]
     },
     "execution_count": 25,
     "metadata": {},
     "output_type": "execute_result"
    }
   ],
   "source": [
    "arr1[4:,2:4]"
   ]
  },
  {
   "cell_type": "markdown",
   "id": "20dfbca4",
   "metadata": {},
   "source": [
    "### Iteration"
   ]
  },
  {
   "cell_type": "markdown",
   "id": "ddd45711",
   "metadata": {},
   "source": [
    "### iterating row wise."
   ]
  },
  {
   "cell_type": "code",
   "execution_count": 30,
   "id": "e82c09a8",
   "metadata": {},
   "outputs": [
    {
     "name": "stdout",
     "output_type": "stream",
     "text": [
      "[[ 0  1  2  3]\n",
      " [ 4  5  6  7]\n",
      " [ 8  9 10 11]\n",
      " [12 13 14 15]\n",
      " [16 17 18 19]\n",
      " [20 21 22 23]]\n",
      "print i:  [0 1 2 3]\n",
      "print i:  [4 5 6 7]\n",
      "print i:  [ 8  9 10 11]\n",
      "print i:  [12 13 14 15]\n",
      "print i:  [16 17 18 19]\n",
      "print i:  [20 21 22 23]\n"
     ]
    }
   ],
   "source": [
    "# iterating row wise.\n",
    "print(arr1)\n",
    "for i in arr1:\n",
    "    print(\"print i: \",i)"
   ]
  },
  {
   "cell_type": "markdown",
   "id": "b13b46b5",
   "metadata": {},
   "source": [
    "### iterating item wise."
   ]
  },
  {
   "cell_type": "code",
   "execution_count": 32,
   "id": "5c7c0f11",
   "metadata": {},
   "outputs": [
    {
     "name": "stdout",
     "output_type": "stream",
     "text": [
      "printing i:  0\n",
      "printing i:  1\n",
      "printing i:  2\n",
      "printing i:  3\n",
      "printing i:  4\n",
      "printing i:  5\n",
      "printing i:  6\n",
      "printing i:  7\n",
      "printing i:  8\n",
      "printing i:  9\n",
      "printing i:  10\n",
      "printing i:  11\n",
      "printing i:  12\n",
      "printing i:  13\n",
      "printing i:  14\n",
      "printing i:  15\n",
      "printing i:  16\n",
      "printing i:  17\n",
      "printing i:  18\n",
      "printing i:  19\n",
      "printing i:  20\n",
      "printing i:  21\n",
      "printing i:  22\n",
      "printing i:  23\n"
     ]
    }
   ],
   "source": [
    "# iterating item wise.\n",
    "for i in np.nditer(arr1):\n",
    "    print(\"printing i: \", i)"
   ]
  },
  {
   "cell_type": "markdown",
   "id": "341dd946",
   "metadata": {},
   "source": [
    "# operations"
   ]
  },
  {
   "cell_type": "markdown",
   "id": "2f88d6a5",
   "metadata": {},
   "source": [
    "### A-B"
   ]
  },
  {
   "cell_type": "code",
   "execution_count": 35,
   "id": "34af43fc",
   "metadata": {},
   "outputs": [],
   "source": [
    "arr1 = np.array([1,2,3,4])\n",
    "arr2 = np.array([5,6,7,8])"
   ]
  },
  {
   "cell_type": "code",
   "execution_count": 39,
   "id": "a61805b6",
   "metadata": {},
   "outputs": [
    {
     "name": "stdout",
     "output_type": "stream",
     "text": [
      "arr2 - arr1:  [4 4 4 4]\n",
      "arr1 - arr2:  [-4 -4 -4 -4]\n"
     ]
    }
   ],
   "source": [
    "print(\"arr2 - arr1: \",arr2-arr1)\n",
    "print(\"arr1 - arr2: \",arr1-arr2)"
   ]
  },
  {
   "cell_type": "markdown",
   "id": "fc4c8e38",
   "metadata": {},
   "source": [
    "### A*B"
   ]
  },
  {
   "cell_type": "code",
   "execution_count": 40,
   "id": "4886c670",
   "metadata": {},
   "outputs": [
    {
     "data": {
      "text/plain": [
       "array([ 5, 12, 21, 32])"
      ]
     },
     "execution_count": 40,
     "metadata": {},
     "output_type": "execute_result"
    }
   ],
   "source": [
    "arr1*arr2"
   ]
  },
  {
   "cell_type": "code",
   "execution_count": 41,
   "id": "35ded907",
   "metadata": {},
   "outputs": [
    {
     "data": {
      "text/plain": [
       "array([2, 4, 6, 8])"
      ]
     },
     "execution_count": 41,
     "metadata": {},
     "output_type": "execute_result"
    }
   ],
   "source": [
    "arr1*2"
   ]
  },
  {
   "cell_type": "markdown",
   "id": "aa45b3f7",
   "metadata": {},
   "source": [
    "### A>x"
   ]
  },
  {
   "cell_type": "code",
   "execution_count": 43,
   "id": "60efc338",
   "metadata": {},
   "outputs": [
    {
     "name": "stdout",
     "output_type": "stream",
     "text": [
      "[5 6 7 8]\n",
      "[False  True  True  True]\n"
     ]
    }
   ],
   "source": [
    "print(arr2)\n",
    "print(arr2>5)"
   ]
  },
  {
   "cell_type": "markdown",
   "id": "422d3be8",
   "metadata": {},
   "source": [
    "### A.dot(B)"
   ]
  },
  {
   "cell_type": "code",
   "execution_count": 51,
   "id": "7564d852",
   "metadata": {},
   "outputs": [
    {
     "name": "stdout",
     "output_type": "stream",
     "text": [
      "[[0 1 2]\n",
      " [3 4 5]]\n",
      "[[ 6  7]\n",
      " [ 8  9]\n",
      " [10 11]]\n"
     ]
    }
   ],
   "source": [
    "arr3 = np.arange(6).reshape(2,3)\n",
    "arr4 = np.arange(6,12).reshape(3,2)\n",
    "print(arr3)\n",
    "print(arr4)"
   ]
  },
  {
   "cell_type": "code",
   "execution_count": 52,
   "id": "11c592f2",
   "metadata": {},
   "outputs": [
    {
     "data": {
      "text/plain": [
       "array([[ 28,  31],\n",
       "       [100, 112]])"
      ]
     },
     "execution_count": 52,
     "metadata": {},
     "output_type": "execute_result"
    }
   ],
   "source": [
    "arr3.dot(arr4)"
   ]
  },
  {
   "cell_type": "code",
   "execution_count": 59,
   "id": "54800780",
   "metadata": {},
   "outputs": [
    {
     "name": "stdout",
     "output_type": "stream",
     "text": [
      "[1 2 3 4]\n",
      "[5 6 7 8]\n"
     ]
    }
   ],
   "source": [
    "print(arr1)\n",
    "print(arr2)"
   ]
  },
  {
   "cell_type": "code",
   "execution_count": 58,
   "id": "7ce92051",
   "metadata": {},
   "outputs": [
    {
     "data": {
      "text/plain": [
       "70"
      ]
     },
     "execution_count": 58,
     "metadata": {},
     "output_type": "execute_result"
    }
   ],
   "source": [
    "arr2.dot(arr1)"
   ]
  },
  {
   "cell_type": "markdown",
   "id": "e291f8ba",
   "metadata": {},
   "source": [
    "# Unary operations\n",
    "- A.min / max \n",
    "- A.sum(axis)"
   ]
  },
  {
   "cell_type": "code",
   "execution_count": 61,
   "id": "157565ab",
   "metadata": {},
   "outputs": [
    {
     "data": {
      "text/plain": [
       "array([[ 6,  7],\n",
       "       [ 8,  9],\n",
       "       [10, 11]])"
      ]
     },
     "execution_count": 61,
     "metadata": {},
     "output_type": "execute_result"
    }
   ],
   "source": [
    "arr4"
   ]
  },
  {
   "cell_type": "code",
   "execution_count": 64,
   "id": "91098dbd",
   "metadata": {},
   "outputs": [
    {
     "name": "stdout",
     "output_type": "stream",
     "text": [
      "min: 6\n",
      "max: 11\n"
     ]
    }
   ],
   "source": [
    "print(\"min:\",arr4.min())\n",
    "print(\"max:\",arr4.max())"
   ]
  },
  {
   "cell_type": "code",
   "execution_count": 69,
   "id": "6b25d1a9",
   "metadata": {},
   "outputs": [
    {
     "name": "stdout",
     "output_type": "stream",
     "text": [
      "min column wise seperated:  [6 7]\n",
      "max row wise seperated:  [ 6  8 10]\n"
     ]
    }
   ],
   "source": [
    "print(\"min column wise seperated: \",arr4.min(axis = 0)) # axis 0 means column wise min.\n",
    "print(\"max row wise seperated: \", arr4.min(axis = 1))"
   ]
  },
  {
   "cell_type": "code",
   "execution_count": 73,
   "id": "7cd40085",
   "metadata": {},
   "outputs": [
    {
     "name": "stdout",
     "output_type": "stream",
     "text": [
      "sum of arr4:  51\n",
      "sum of arr4 column wise:  [24 27]\n",
      "sum of arr4 row wise:  [13 17 21]\n"
     ]
    }
   ],
   "source": [
    "print(\"sum of arr4: \",arr4.sum())\n",
    "print(\"sum of arr4 column wise: \",arr4.sum(axis=0))\n",
    "print(\"sum of arr4 row wise: \",arr4.sum(axis=1))\n"
   ]
  },
  {
   "cell_type": "code",
   "execution_count": 77,
   "id": "5518a155",
   "metadata": {},
   "outputs": [
    {
     "name": "stdout",
     "output_type": "stream",
     "text": [
      "mean of arr4:  8.5\n",
      "standard deviation of arr4:  1.707825127659933\n"
     ]
    }
   ],
   "source": [
    "print(\"mean of arr4: \",arr4.mean())\n",
    "print(\"standard deviation of arr4: \",arr4.std())"
   ]
  },
  {
   "cell_type": "code",
   "execution_count": 85,
   "id": "fa54befb",
   "metadata": {},
   "outputs": [
    {
     "name": "stdout",
     "output_type": "stream",
     "text": [
      "mediam of arr4:  8.5\n"
     ]
    }
   ],
   "source": [
    "print(\"mediam of arr4: \",np.median(arr4))"
   ]
  },
  {
   "cell_type": "code",
   "execution_count": 83,
   "id": "697d2db9",
   "metadata": {},
   "outputs": [
    {
     "name": "stdout",
     "output_type": "stream",
     "text": [
      "sin : [[-0.2794155   0.6569866 ]\n",
      " [ 0.98935825  0.41211849]\n",
      " [-0.54402111 -0.99999021]]\n"
     ]
    }
   ],
   "source": [
    "print(\"sin :\",np.sin(arr4))"
   ]
  },
  {
   "cell_type": "code",
   "execution_count": 86,
   "id": "abc981c1",
   "metadata": {},
   "outputs": [
    {
     "name": "stdout",
     "output_type": "stream",
     "text": [
      "exponent [[  403.42879349  1096.63315843]\n",
      " [ 2980.95798704  8103.08392758]\n",
      " [22026.46579481 59874.1417152 ]]\n"
     ]
    }
   ],
   "source": [
    "print(\"exponent\", np.exp(arr4))"
   ]
  },
  {
   "cell_type": "markdown",
   "id": "dab246ca",
   "metadata": {},
   "source": [
    "# Reshaping Numpy Array\n",
    "- Ravel\n",
    "- Reshape\n",
    "- Transpose\n",
    "- Stacking\n",
    "- Splitting"
   ]
  },
  {
   "cell_type": "markdown",
   "id": "2eb87985",
   "metadata": {},
   "source": [
    "### ravel()\n",
    "- changes the dimension of array into 1D"
   ]
  },
  {
   "cell_type": "code",
   "execution_count": 1,
   "id": "f5465a0e",
   "metadata": {},
   "outputs": [],
   "source": [
    "import numpy as np"
   ]
  },
  {
   "cell_type": "code",
   "execution_count": 6,
   "id": "27a4582a",
   "metadata": {},
   "outputs": [
    {
     "data": {
      "text/plain": [
       "2"
      ]
     },
     "execution_count": 6,
     "metadata": {},
     "output_type": "execute_result"
    }
   ],
   "source": [
    "arr1 = np.array([[1,2,3],[4,5,6]])\n",
    "arr1.ndim # arr1 dimension"
   ]
  },
  {
   "cell_type": "code",
   "execution_count": 10,
   "id": "04961096",
   "metadata": {},
   "outputs": [
    {
     "name": "stdout",
     "output_type": "stream",
     "text": [
      "[[1 2 3]\n",
      " [4 5 6]]\n",
      "arr1 dimension:  2\n",
      "arr2 dimension:  1\n"
     ]
    }
   ],
   "source": [
    "print(arr1)\n",
    "print(\"arr1 dimension: \",arr1.ndim)\n",
    "arr2 = arr1.ravel() # ravel changes the dimension to 1D.\n",
    "print(\"arr2 dimension: \",arr2.ndim)"
   ]
  },
  {
   "cell_type": "markdown",
   "id": "b05d6e8a",
   "metadata": {},
   "source": [
    "### transpose\n",
    "- changes rows into columns"
   ]
  },
  {
   "cell_type": "code",
   "execution_count": 13,
   "id": "4b8e9699",
   "metadata": {},
   "outputs": [
    {
     "name": "stdout",
     "output_type": "stream",
     "text": [
      "[[1 2 3]\n",
      " [4 5 6]]\n"
     ]
    }
   ],
   "source": [
    "print(arr1)"
   ]
  },
  {
   "cell_type": "code",
   "execution_count": 14,
   "id": "7cd3c49f",
   "metadata": {},
   "outputs": [
    {
     "name": "stdout",
     "output_type": "stream",
     "text": [
      "[[1 4]\n",
      " [2 5]\n",
      " [3 6]]\n"
     ]
    }
   ],
   "source": [
    "print(arr1.transpose())"
   ]
  },
  {
   "cell_type": "markdown",
   "id": "305bce9b",
   "metadata": {},
   "source": [
    "### stack\n",
    "- join array of same shape"
   ]
  },
  {
   "cell_type": "code",
   "execution_count": 17,
   "id": "3822c74b",
   "metadata": {},
   "outputs": [
    {
     "data": {
      "text/plain": [
       "array([[3, 2, 1],\n",
       "       [6, 5, 4]])"
      ]
     },
     "execution_count": 17,
     "metadata": {},
     "output_type": "execute_result"
    }
   ],
   "source": [
    "arr2 = np.array([[3,2,1],[6,5,4]])\n",
    "arr2"
   ]
  },
  {
   "cell_type": "code",
   "execution_count": 18,
   "id": "a97215c3",
   "metadata": {},
   "outputs": [
    {
     "data": {
      "text/plain": [
       "array([[1, 2, 3],\n",
       "       [4, 5, 6],\n",
       "       [3, 2, 1],\n",
       "       [6, 5, 4]])"
      ]
     },
     "execution_count": 18,
     "metadata": {},
     "output_type": "execute_result"
    }
   ],
   "source": [
    "np.vstack((arr1,arr2)) # vertical stack"
   ]
  },
  {
   "cell_type": "code",
   "execution_count": 19,
   "id": "3a31ac81",
   "metadata": {},
   "outputs": [
    {
     "data": {
      "text/plain": [
       "array([[1, 2, 3, 3, 2, 1],\n",
       "       [4, 5, 6, 6, 5, 4]])"
      ]
     },
     "execution_count": 19,
     "metadata": {},
     "output_type": "execute_result"
    }
   ],
   "source": [
    "np.hstack((arr1,arr2)) # horizenal stack"
   ]
  },
  {
   "cell_type": "markdown",
   "id": "a769a471",
   "metadata": {},
   "source": [
    "### split"
   ]
  },
  {
   "cell_type": "code",
   "execution_count": 23,
   "id": "c5948625",
   "metadata": {},
   "outputs": [
    {
     "name": "stdout",
     "output_type": "stream",
     "text": [
      "[[1 2 3]\n",
      " [4 5 6]]\n"
     ]
    },
    {
     "data": {
      "text/plain": [
       "[array([[1],\n",
       "        [4]]),\n",
       " array([[2],\n",
       "        [5]]),\n",
       " array([[3],\n",
       "        [6]])]"
      ]
     },
     "execution_count": 23,
     "metadata": {},
     "output_type": "execute_result"
    }
   ],
   "source": [
    "print(arr1)\n",
    "np.hsplit(arr1,3)"
   ]
  },
  {
   "cell_type": "code",
   "execution_count": 27,
   "id": "74f7a336",
   "metadata": {},
   "outputs": [
    {
     "name": "stdout",
     "output_type": "stream",
     "text": [
      "[[1 2 3]\n",
      " [4 5 6]]\n"
     ]
    },
    {
     "data": {
      "text/plain": [
       "[array([[1, 2, 3]]), array([[4, 5, 6]])]"
      ]
     },
     "execution_count": 27,
     "metadata": {},
     "output_type": "execute_result"
    }
   ],
   "source": [
    "print(arr1)\n",
    "np.vsplit(arr1,2)"
   ]
  },
  {
   "cell_type": "markdown",
   "id": "403dd63a",
   "metadata": {},
   "source": [
    "# fancy indexing"
   ]
  },
  {
   "cell_type": "code",
   "execution_count": 3,
   "id": "5366446c",
   "metadata": {},
   "outputs": [],
   "source": [
    "import numpy as np"
   ]
  },
  {
   "cell_type": "code",
   "execution_count": 4,
   "id": "2e437042",
   "metadata": {},
   "outputs": [
    {
     "data": {
      "text/plain": [
       "array([[ 0,  1,  2,  3],\n",
       "       [ 4,  5,  6,  7],\n",
       "       [ 8,  9, 10, 11],\n",
       "       [12, 13, 14, 15],\n",
       "       [16, 17, 18, 19],\n",
       "       [20, 21, 22, 23]])"
      ]
     },
     "execution_count": 4,
     "metadata": {},
     "output_type": "execute_result"
    }
   ],
   "source": [
    "arr3 = np.arange(24).reshape(6,4)\n",
    "arr3"
   ]
  },
  {
   "cell_type": "code",
   "execution_count": 5,
   "id": "7e6772c8",
   "metadata": {},
   "outputs": [
    {
     "data": {
      "text/plain": [
       "array([[ 0,  1,  2,  3],\n",
       "       [ 8,  9, 10, 11],\n",
       "       [16, 17, 18, 19]])"
      ]
     },
     "execution_count": 5,
     "metadata": {},
     "output_type": "execute_result"
    }
   ],
   "source": [
    "arr3[[0,2,4]]  # we can get discontinuous rows and columns through fancy indexing."
   ]
  },
  {
   "cell_type": "markdown",
   "id": "075d9b45",
   "metadata": {},
   "source": [
    "# Indexing with boolean arrays"
   ]
  },
  {
   "cell_type": "code",
   "execution_count": 1,
   "id": "a1b195ad",
   "metadata": {},
   "outputs": [],
   "source": [
    "import numpy as np"
   ]
  },
  {
   "cell_type": "code",
   "execution_count": 3,
   "id": "3ede2ed5",
   "metadata": {},
   "outputs": [
    {
     "data": {
      "text/plain": [
       "array([[82, 88, 52, 87, 22],\n",
       "       [32, 34, 82, 14, 60],\n",
       "       [74, 71, 20, 18, 33],\n",
       "       [75, 96, 14, 91, 23]])"
      ]
     },
     "execution_count": 3,
     "metadata": {},
     "output_type": "execute_result"
    }
   ],
   "source": [
    "arr1 = np.random.randint(low=1, high=100, size=20).reshape(4,5)\n",
    "arr1"
   ]
  },
  {
   "cell_type": "code",
   "execution_count": 4,
   "id": "31c05e90",
   "metadata": {},
   "outputs": [
    {
     "data": {
      "text/plain": [
       "array([[ True,  True,  True,  True, False],\n",
       "       [False, False,  True, False,  True],\n",
       "       [ True,  True, False, False, False],\n",
       "       [ True,  True, False,  True, False]])"
      ]
     },
     "execution_count": 4,
     "metadata": {},
     "output_type": "execute_result"
    }
   ],
   "source": [
    "arr1>50 # it give us boolean, if less it prints false."
   ]
  },
  {
   "cell_type": "code",
   "execution_count": 5,
   "id": "910d3018",
   "metadata": {},
   "outputs": [
    {
     "data": {
      "text/plain": [
       "array([82, 88, 52, 87, 82, 60, 74, 71, 75, 96, 91])"
      ]
     },
     "execution_count": 5,
     "metadata": {},
     "output_type": "execute_result"
    }
   ],
   "source": [
    "# indexing with boolean array.\n",
    "arr1[arr1>50] # it gives us vales. greater then 50"
   ]
  },
  {
   "cell_type": "code",
   "execution_count": 9,
   "id": "923890a3",
   "metadata": {},
   "outputs": [
    {
     "name": "stdout",
     "output_type": "stream",
     "text": [
      "[[82 88 52 87 22]\n",
      " [32 34 82 14 60]\n",
      " [74 71 20 18 33]\n",
      " [75 96 14 91 23]]\n"
     ]
    },
    {
     "data": {
      "text/plain": [
       "array([87, 71, 75, 91])"
      ]
     },
     "execution_count": 9,
     "metadata": {},
     "output_type": "execute_result"
    }
   ],
   "source": [
    "# we can also use multiple conditions.\n",
    "print(arr1)\n",
    "arr1[(arr1>50) & (arr1%2 != 0)] # we use \"&\" coz operation will be in form of boolean"
   ]
  },
  {
   "cell_type": "code",
   "execution_count": 20,
   "id": "d0e92d6d",
   "metadata": {},
   "outputs": [
    {
     "name": "stdout",
     "output_type": "stream",
     "text": [
      "[[82 88 52  0 22]\n",
      " [32 34 82 14 60]\n",
      " [74  0 20 18 33]\n",
      " [ 0 96 14  0 23]]\n"
     ]
    }
   ],
   "source": [
    "arr1[(arr1>50)&(arr1%2 != 0)] = 0 # value will be 0, if satisfies the condition.\n",
    "print(arr1)"
   ]
  },
  {
   "cell_type": "markdown",
   "id": "f5ef9d3d",
   "metadata": {},
   "source": [
    "# Ploting graph using numpy"
   ]
  },
  {
   "cell_type": "code",
   "execution_count": 24,
   "id": "8107edf7",
   "metadata": {},
   "outputs": [
    {
     "data": {
      "text/plain": [
       "array([-40.        , -39.19191919, -38.38383838, -37.57575758,\n",
       "       -36.76767677, -35.95959596, -35.15151515, -34.34343434,\n",
       "       -33.53535354, -32.72727273, -31.91919192, -31.11111111,\n",
       "       -30.3030303 , -29.49494949, -28.68686869, -27.87878788,\n",
       "       -27.07070707, -26.26262626, -25.45454545, -24.64646465,\n",
       "       -23.83838384, -23.03030303, -22.22222222, -21.41414141,\n",
       "       -20.60606061, -19.7979798 , -18.98989899, -18.18181818,\n",
       "       -17.37373737, -16.56565657, -15.75757576, -14.94949495,\n",
       "       -14.14141414, -13.33333333, -12.52525253, -11.71717172,\n",
       "       -10.90909091, -10.1010101 ,  -9.29292929,  -8.48484848,\n",
       "        -7.67676768,  -6.86868687,  -6.06060606,  -5.25252525,\n",
       "        -4.44444444,  -3.63636364,  -2.82828283,  -2.02020202,\n",
       "        -1.21212121,  -0.4040404 ,   0.4040404 ,   1.21212121,\n",
       "         2.02020202,   2.82828283,   3.63636364,   4.44444444,\n",
       "         5.25252525,   6.06060606,   6.86868687,   7.67676768,\n",
       "         8.48484848,   9.29292929,  10.1010101 ,  10.90909091,\n",
       "        11.71717172,  12.52525253,  13.33333333,  14.14141414,\n",
       "        14.94949495,  15.75757576,  16.56565657,  17.37373737,\n",
       "        18.18181818,  18.98989899,  19.7979798 ,  20.60606061,\n",
       "        21.41414141,  22.22222222,  23.03030303,  23.83838384,\n",
       "        24.64646465,  25.45454545,  26.26262626,  27.07070707,\n",
       "        27.87878788,  28.68686869,  29.49494949,  30.3030303 ,\n",
       "        31.11111111,  31.91919192,  32.72727273,  33.53535354,\n",
       "        34.34343434,  35.15151515,  35.95959596,  36.76767677,\n",
       "        37.57575758,  38.38383838,  39.19191919,  40.        ])"
      ]
     },
     "execution_count": 24,
     "metadata": {},
     "output_type": "execute_result"
    }
   ],
   "source": [
    "x = np.linspace(-40,40,100)\n",
    "x"
   ]
  },
  {
   "cell_type": "code",
   "execution_count": 30,
   "id": "6ec637fc",
   "metadata": {},
   "outputs": [
    {
     "name": "stdout",
     "output_type": "stream",
     "text": [
      "X:  100\n",
      "Y:  100\n",
      "[-0.74511316 -0.9969604  -0.63246122  0.12304167  0.80247705  0.98580059\n",
      "  0.55967698 -0.21245326 -0.85323945 -0.96653119 -0.48228862  0.30011711\n",
      "  0.89698277  0.93931073  0.40093277 -0.38531209 -0.93334716 -0.90436313\n",
      " -0.31627868  0.46733734  0.96203346  0.86197589  0.22902277 -0.54551809\n",
      " -0.9828057  -0.81249769 -0.13988282  0.61921119  0.995493    0.75633557\n",
      "  0.04959214 -0.68781042 -0.99999098 -0.69395153  0.0411065   0.75075145\n",
      "  0.99626264  0.62585878 -0.13146699 -0.8075165  -0.98433866 -0.55261747\n",
      "  0.22074597  0.85763861  0.96431712  0.47483011 -0.30820902 -0.90070545\n",
      " -0.93636273 -0.39313661  0.39313661  0.93636273  0.90070545  0.30820902\n",
      " -0.47483011 -0.96431712 -0.85763861 -0.22074597  0.55261747  0.98433866\n",
      "  0.8075165   0.13146699 -0.62585878 -0.99626264 -0.75075145 -0.0411065\n",
      "  0.69395153  0.99999098  0.68781042 -0.04959214 -0.75633557 -0.995493\n",
      " -0.61921119  0.13988282  0.81249769  0.9828057   0.54551809 -0.22902277\n",
      " -0.86197589 -0.96203346 -0.46733734  0.31627868  0.90436313  0.93334716\n",
      "  0.38531209 -0.40093277 -0.93931073 -0.89698277 -0.30011711  0.48228862\n",
      "  0.96653119  0.85323945  0.21245326 -0.55967698 -0.98580059 -0.80247705\n",
      " -0.12304167  0.63246122  0.9969604   0.74511316]\n"
     ]
    }
   ],
   "source": [
    "print(\"X: \",x.size)\n",
    "\n",
    "y = np.sin(x)\n",
    "print(\"Y: \",y.size)\n",
    "print(y)"
   ]
  },
  {
   "cell_type": "code",
   "execution_count": 31,
   "id": "86bc7b5f",
   "metadata": {},
   "outputs": [],
   "source": [
    "# ploting graph\n",
    "import matplotlib.pyplot as plt\n",
    "%matplotlib inline"
   ]
  },
  {
   "cell_type": "code",
   "execution_count": 32,
   "id": "588ac0f4",
   "metadata": {},
   "outputs": [
    {
     "data": {
      "text/plain": [
       "[<matplotlib.lines.Line2D at 0x18b03154160>]"
      ]
     },
     "execution_count": 32,
     "metadata": {},
     "output_type": "execute_result"
    },
    {
     "data": {
      "image/png": "[encoded data removed]",
      "text/plain": [
       "<Figure size 640x480 with 1 Axes>"
      ]
     },
     "metadata": {},
     "output_type": "display_data"
    }
   ],
   "source": [
    "plt.plot(x,y)"
   ]
  },
  {
   "cell_type": "code",
   "execution_count": 35,
   "id": "a129fa55",
   "metadata": {},
   "outputs": [],
   "source": [
    "y = x* x+2* x+4 # quadratic equation"
   ]
  },
  {
   "cell_type": "code",
   "execution_count": 34,
   "id": "fc74b99a",
   "metadata": {},
   "outputs": [
    {
     "data": {
      "text/plain": [
       "[<matplotlib.lines.Line2D at 0x18b031b6400>]"
      ]
     },
     "execution_count": 34,
     "metadata": {},
     "output_type": "execute_result"
    },
    {
     "data": {
      "image/png": "[encoded data removed]",
      "text/plain": [
       "<Figure size 640x480 with 1 Axes>"
      ]
     },
     "metadata": {},
     "output_type": "display_data"
    }
   ],
   "source": [
    "plt.plot(x,y)"
   ]
  },
  {
   "cell_type": "markdown",
   "id": "1e97596b",
   "metadata": {},
   "source": [
    "# Broadcasting\n",
    "- its operation between arrays of differnt types"
   ]
  },
  {
   "cell_type": "code",
   "execution_count": 2,
   "id": "0dd93330",
   "metadata": {},
   "outputs": [],
   "source": [
    "import numpy as np"
   ]
  },
  {
   "cell_type": "code",
   "execution_count": 5,
   "id": "d954273f",
   "metadata": {},
   "outputs": [
    {
     "name": "stdout",
     "output_type": "stream",
     "text": [
      "[[0 1 2 3]\n",
      " [4 5 6 7]]\n",
      "[[ 8  9 10 11]\n",
      " [12 13 14 15]]\n"
     ]
    }
   ],
   "source": [
    "# senerio 1\n",
    "a1 = np.arange(8).reshape(2,4)\n",
    "a2 = np.arange(8,16).reshape(2,4)\n",
    "print(a1)\n",
    "print(a2)"
   ]
  },
  {
   "cell_type": "code",
   "execution_count": 6,
   "id": "423310d1",
   "metadata": {},
   "outputs": [
    {
     "data": {
      "text/plain": [
       "array([[ 8, 10, 12, 14],\n",
       "       [16, 18, 20, 22]])"
      ]
     },
     "execution_count": 6,
     "metadata": {},
     "output_type": "execute_result"
    }
   ],
   "source": [
    "a1 + a2"
   ]
  },
  {
   "cell_type": "code",
   "execution_count": 13,
   "id": "d8f15d56",
   "metadata": {},
   "outputs": [
    {
     "name": "stdout",
     "output_type": "stream",
     "text": [
      "[[0 1 2]\n",
      " [3 4 5]\n",
      " [6 7 8]]\n",
      "[[0 1 2]]\n"
     ]
    }
   ],
   "source": [
    "# senerio 2\n",
    "a3 = np.arange(0,9).reshape(3,3)\n",
    "a4 = np.arange(3).reshape(1,3)\n",
    "print(a3)\n",
    "print(a4)"
   ]
  },
  {
   "cell_type": "code",
   "execution_count": 14,
   "id": "6d7ede37",
   "metadata": {},
   "outputs": [
    {
     "data": {
      "text/plain": [
       "array([[ 0,  2,  4],\n",
       "       [ 3,  5,  7],\n",
       "       [ 6,  8, 10]])"
      ]
     },
     "execution_count": 14,
     "metadata": {},
     "output_type": "execute_result"
    }
   ],
   "source": [
    "a3 + a4"
   ]
  },
  {
   "cell_type": "code",
   "execution_count": 22,
   "id": "b722a618",
   "metadata": {},
   "outputs": [
    {
     "name": "stdout",
     "output_type": "stream",
     "text": [
      "[[0 1 2]]\n",
      "[[ 0  1  2]\n",
      " [ 3  4  5]\n",
      " [ 6  7  8]\n",
      " [ 9 10 11]]\n"
     ]
    }
   ],
   "source": [
    "# Broadcasting\n",
    "a5 = np.arange(3).reshape(1,3)\n",
    "a6 = np.arange(12).reshape(4,3)\n",
    "print(a5)\n",
    "print(a6)"
   ]
  },
  {
   "cell_type": "code",
   "execution_count": 23,
   "id": "e42aae8d",
   "metadata": {},
   "outputs": [
    {
     "data": {
      "text/plain": [
       "array([[ 0,  2,  4],\n",
       "       [ 3,  5,  7],\n",
       "       [ 6,  8, 10],\n",
       "       [ 9, 11, 13]])"
      ]
     },
     "execution_count": 23,
     "metadata": {},
     "output_type": "execute_result"
    }
   ],
   "source": [
    "a5 + a6"
   ]
  },
  {
   "cell_type": "code",
   "execution_count": 24,
   "id": "08e99e83",
   "metadata": {},
   "outputs": [
    {
     "name": "stdout",
     "output_type": "stream",
     "text": [
      "[[0]\n",
      " [1]\n",
      " [2]\n",
      " [3]]\n",
      "[[ 0  1  2]\n",
      " [ 3  4  5]\n",
      " [ 6  7  8]\n",
      " [ 9 10 11]]\n"
     ]
    }
   ],
   "source": [
    "a7 = np.arange(4).reshape(4,1)\n",
    "a8 = np.arange(12).reshape(4,3)\n",
    "print(a7)\n",
    "print(a8)"
   ]
  },
  {
   "cell_type": "code",
   "execution_count": 25,
   "id": "8843e9a7",
   "metadata": {},
   "outputs": [
    {
     "name": "stdout",
     "output_type": "stream",
     "text": [
      "[[ 0  1  2]\n",
      " [ 4  5  6]\n",
      " [ 8  9 10]\n",
      " [12 13 14]]\n"
     ]
    }
   ],
   "source": [
    "print(a7 + a8)"
   ]
  },
  {
   "cell_type": "code",
   "execution_count": 26,
   "id": "022379f0",
   "metadata": {},
   "outputs": [],
   "source": [
    "a9 = np.arange(3).reshape(1,3)\n",
    "a10 = np.arange(3).reshape(3,1)"
   ]
  },
  {
   "cell_type": "code",
   "execution_count": 27,
   "id": "1cc90761",
   "metadata": {},
   "outputs": [
    {
     "name": "stdout",
     "output_type": "stream",
     "text": [
      "[[0 1 2]]\n",
      "[[0]\n",
      " [1]\n",
      " [2]]\n"
     ]
    }
   ],
   "source": [
    "print(a9)\n",
    "print(a10)"
   ]
  },
  {
   "cell_type": "code",
   "execution_count": 29,
   "id": "1efcf0f8",
   "metadata": {},
   "outputs": [
    {
     "name": "stdout",
     "output_type": "stream",
     "text": [
      "[[0 1 2]\n",
      " [1 2 3]\n",
      " [2 3 4]]\n"
     ]
    }
   ],
   "source": [
    "print(a9 + a10)"
   ]
  },
  {
   "cell_type": "code",
   "execution_count": 35,
   "id": "a914ce13",
   "metadata": {},
   "outputs": [
    {
     "name": "stdout",
     "output_type": "stream",
     "text": [
      "[[ 0  1  2  3  4]\n",
      " [ 5  6  7  8  9]\n",
      " [10 11 12 13 14]\n",
      " [15 16 17 18 19]]\n",
      "[[0]]\n"
     ]
    }
   ],
   "source": [
    "a11 = np.arange(20).reshape(4,5)\n",
    "a12 = np.arange(1).reshape(1,1)\n",
    "print(a11)\n",
    "print(a12)"
   ]
  },
  {
   "cell_type": "code",
   "execution_count": 36,
   "id": "fe45e193",
   "metadata": {},
   "outputs": [
    {
     "name": "stdout",
     "output_type": "stream",
     "text": [
      "[[ 0  1  2  3  4]\n",
      " [ 5  6  7  8  9]\n",
      " [10 11 12 13 14]\n",
      " [15 16 17 18 19]]\n"
     ]
    }
   ],
   "source": [
    "print(a11 + a12)"
   ]
  },
  {
   "cell_type": "markdown",
   "id": "1a41b22d",
   "metadata": {},
   "source": [
    "# Random function"
   ]
  },
  {
   "cell_type": "code",
   "execution_count": 37,
   "id": "ad4d839d",
   "metadata": {},
   "outputs": [],
   "source": [
    "import numpy as np"
   ]
  },
  {
   "cell_type": "code",
   "execution_count": 38,
   "id": "1a0a5804",
   "metadata": {},
   "outputs": [
    {
     "data": {
      "text/plain": [
       "0.026172507994629002"
      ]
     },
     "execution_count": 38,
     "metadata": {},
     "output_type": "execute_result"
    }
   ],
   "source": [
    "np.random.random() # gives random value"
   ]
  },
  {
   "cell_type": "code",
   "execution_count": 41,
   "id": "f035ad99",
   "metadata": {},
   "outputs": [
    {
     "data": {
      "text/plain": [
       "0.417022004702574"
      ]
     },
     "execution_count": 41,
     "metadata": {},
     "output_type": "execute_result"
    }
   ],
   "source": [
    "np.random.seed(1) # always gives us fixes random value\n",
    "np.random.random()"
   ]
  },
  {
   "cell_type": "code",
   "execution_count": 54,
   "id": "991a2281",
   "metadata": {},
   "outputs": [
    {
     "data": {
      "text/plain": [
       "56.310293016129414"
      ]
     },
     "execution_count": 54,
     "metadata": {},
     "output_type": "execute_result"
    }
   ],
   "source": [
    "np.random.uniform(1,100)"
   ]
  },
  {
   "cell_type": "code",
   "execution_count": 56,
   "id": "e27b5552",
   "metadata": {},
   "outputs": [
    {
     "data": {
      "text/plain": [
       "array([[17.81321154, 87.93610784, 10.73633655, 42.68965488, 95.83106348],\n",
       "       [53.78336321, 69.49583428, 32.23604747, 68.96359184, 83.62794152]])"
      ]
     },
     "execution_count": 56,
     "metadata": {},
     "output_type": "execute_result"
    }
   ],
   "source": [
    "np.random.uniform(1,100, 10).reshape(2,5)"
   ]
  },
  {
   "cell_type": "code",
   "execution_count": 61,
   "id": "1f645688",
   "metadata": {},
   "outputs": [
    {
     "data": {
      "text/plain": [
       "array([[3, 7, 1, 3, 7],\n",
       "       [7, 3, 8, 8, 1],\n",
       "       [7, 6, 2, 5, 7]])"
      ]
     },
     "execution_count": 61,
     "metadata": {},
     "output_type": "execute_result"
    }
   ],
   "source": [
    "a = np.random.randint(1,10,15).reshape(3,5)\n",
    "a"
   ]
  },
  {
   "cell_type": "code",
   "execution_count": 63,
   "id": "3c46714d",
   "metadata": {},
   "outputs": [
    {
     "name": "stdout",
     "output_type": "stream",
     "text": [
      "1\n",
      "8\n"
     ]
    }
   ],
   "source": [
    "print(np.min(a))\n",
    "print(np.max(a))"
   ]
  },
  {
   "cell_type": "code",
   "execution_count": 66,
   "id": "9b678523",
   "metadata": {},
   "outputs": [
    {
     "data": {
      "text/plain": [
       "array([9, 6, 8, 1, 4])"
      ]
     },
     "execution_count": 66,
     "metadata": {},
     "output_type": "execute_result"
    }
   ],
   "source": [
    "b = np.random.randint(1,10,5)\n",
    "b"
   ]
  },
  {
   "cell_type": "code",
   "execution_count": 68,
   "id": "d2e685f5",
   "metadata": {},
   "outputs": [
    {
     "data": {
      "text/plain": [
       "9"
      ]
     },
     "execution_count": 68,
     "metadata": {},
     "output_type": "execute_result"
    }
   ],
   "source": [
    "b[np.argmax(b)] # it gives value"
   ]
  },
  {
   "cell_type": "code",
   "execution_count": 69,
   "id": "d39a4b5e",
   "metadata": {},
   "outputs": [
    {
     "data": {
      "text/plain": [
       "1"
      ]
     },
     "execution_count": 69,
     "metadata": {},
     "output_type": "execute_result"
    }
   ],
   "source": [
    "b[np.argmin(b)]"
   ]
  },
  {
   "cell_type": "code",
   "execution_count": 71,
   "id": "56866702",
   "metadata": {},
   "outputs": [
    {
     "data": {
      "text/plain": [
       "3"
      ]
     },
     "execution_count": 71,
     "metadata": {},
     "output_type": "execute_result"
    }
   ],
   "source": [
    "np.argmin(b) # it gives index"
   ]
  },
  {
   "cell_type": "code",
   "execution_count": 72,
   "id": "1c35292e",
   "metadata": {},
   "outputs": [
    {
     "data": {
      "text/plain": [
       "0"
      ]
     },
     "execution_count": 72,
     "metadata": {},
     "output_type": "execute_result"
    }
   ],
   "source": [
    "np.argmax(b)"
   ]
  },
  {
   "cell_type": "code",
   "execution_count": 74,
   "id": "6db50155",
   "metadata": {},
   "outputs": [
    {
     "data": {
      "text/plain": [
       "array([3, 8, 6, 6, 5, 6])"
      ]
     },
     "execution_count": 74,
     "metadata": {},
     "output_type": "execute_result"
    }
   ],
   "source": [
    "a = np.random.randint(1,10,6)\n",
    "a"
   ]
  },
  {
   "cell_type": "code",
   "execution_count": 76,
   "id": "d047ffb5",
   "metadata": {},
   "outputs": [
    {
     "data": {
      "text/plain": [
       "array([-1,  8,  6,  6, -1,  6])"
      ]
     },
     "execution_count": 76,
     "metadata": {},
     "output_type": "execute_result"
    }
   ],
   "source": [
    "a[a%2 != 0] = -1  # a is permanently changed.\n",
    "a"
   ]
  },
  {
   "cell_type": "code",
   "execution_count": 78,
   "id": "79a61aac",
   "metadata": {},
   "outputs": [
    {
     "data": {
      "text/plain": [
       "array([9, 6, 9, 2, 2, 9])"
      ]
     },
     "execution_count": 78,
     "metadata": {},
     "output_type": "execute_result"
    }
   ],
   "source": [
    "b = np.random.randint(1,10,6)\n",
    "b"
   ]
  },
  {
   "cell_type": "code",
   "execution_count": 79,
   "id": "3013dec0",
   "metadata": {},
   "outputs": [
    {
     "data": {
      "text/plain": [
       "array([-1,  6,  9,  2, -1,  9])"
      ]
     },
     "execution_count": 79,
     "metadata": {},
     "output_type": "execute_result"
    }
   ],
   "source": [
    "np.where(a%2 != 0, -1, b) # b is not permanently changed."
   ]
  },
  {
   "cell_type": "code",
   "execution_count": 80,
   "id": "aaf233b4",
   "metadata": {},
   "outputs": [
    {
     "data": {
      "text/plain": [
       "array([9, 6, 9, 2, 2, 9])"
      ]
     },
     "execution_count": 80,
     "metadata": {},
     "output_type": "execute_result"
    }
   ],
   "source": [
    "b"
   ]
  },
  {
   "cell_type": "code",
   "execution_count": 81,
   "id": "8d1009f5",
   "metadata": {},
   "outputs": [
    {
     "data": {
      "text/plain": [
       "array([2, 2, 6, 9, 9, 9])"
      ]
     },
     "execution_count": 81,
     "metadata": {},
     "output_type": "execute_result"
    }
   ],
   "source": [
    "np.sort(b) # it sorts the array."
   ]
  },
  {
   "cell_type": "code",
   "execution_count": null,
   "id": "68d35d4d",
   "metadata": {},
   "outputs": [],
   "source": []
  }
 ],
 "metadata": {
  "kernelspec": {
   "display_name": "Python 3 (ipykernel)",
   "language": "python",
   "name": "python3"
  },
  "language_info": {
   "codemirror_mode": {
    "name": "ipython",
    "version": 3
   },
   "file_extension": ".py",
   "mimetype": "text/x-python",
   "name": "python",
   "nbconvert_exporter": "python",
   "pygments_lexer": "ipython3",
   "version": "3.7.2"
  }
 },
 "nbformat": 4,
 "nbformat_minor": 5
}
