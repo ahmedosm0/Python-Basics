{
 "cells": [
  {
   "cell_type": "markdown",
   "id": "ce8d6e7d",
   "metadata": {},
   "source": [
    "# Print Fuction"
   ]
  },
  {
   "cell_type": "markdown",
   "id": "bffc49cd",
   "metadata": {},
   "source": [
    "- using end, sep parameters."
   ]
  },
  {
   "cell_type": "code",
   "execution_count": 23,
   "id": "7b9a743e",
   "metadata": {},
   "outputs": [
    {
     "name": "stdout",
     "output_type": "stream",
     "text": [
      "I am Ahmed Usman. I am 21, and I am learning python."
     ]
    }
   ],
   "source": [
    "# end joins multiple line.\n",
    "print(\"I am Ahmed Usman\", end=\". \")\n",
    "print(\"I am 21\", end=\", \")\n",
    "print(\"and I am learning python\", end=\".\")"
   ]
  },
  {
   "cell_type": "code",
   "execution_count": 22,
   "id": "db99c1aa",
   "metadata": {},
   "outputs": [
    {
     "name": "stdout",
     "output_type": "stream",
     "text": [
      "I am Ahmed Usman\n",
      "I am 21\n",
      "and I am learning python.\n"
     ]
    }
   ],
   "source": [
    "# sep separate single line.\n",
    "print(\"I am Ahmed Usman\",\"I am 21\", \"and I am learning python.\", sep=\"\\n\")"
   ]
  },
  {
   "cell_type": "markdown",
   "id": "a26c4930",
   "metadata": {},
   "source": [
    "# Data Types.\n",
    "### 1,Basic.\n",
    "- str, int, float, complex, boolean.\n",
    "### 2,container.\n",
    "- list, tuple, set, dict. \n",
    "### 3,User Define.\n",
    "- class."
   ]
  },
  {
   "cell_type": "code",
   "execution_count": 28,
   "id": "0391a080",
   "metadata": {},
   "outputs": [
    {
     "name": "stdout",
     "output_type": "stream",
     "text": [
      "hello 1 2.2 (4+1j) True\n"
     ]
    }
   ],
   "source": [
    "print(\"hello\",1,2.2,4+1j,True)"
   ]
  },
  {
   "cell_type": "code",
   "execution_count": 41,
   "id": "d795653d",
   "metadata": {},
   "outputs": [
    {
     "name": "stdout",
     "output_type": "stream",
     "text": [
      "[1, 2, 3, 4]\n",
      "(1, 2, 3, 4)\n",
      "{1, 3, 4, 5}\n",
      "{'name': 'ahmed', 'age': 21, 'gender': 'male'}\n"
     ]
    }
   ],
   "source": [
    "print([1,2,3,4]) # list.\n",
    "print((1,2,3,4)) # tuple.\n",
    "print({1,3,4,5}) # set.\n",
    "print({\"name\":\"ahmed\", \"age\":21, \"gender\":\"male\"}) # dict"
   ]
  },
  {
   "cell_type": "markdown",
   "id": "4b35445c",
   "metadata": {},
   "source": [
    "# Variables\n",
    "- dynamic typing (No need to initlize datatype of variable)\n",
    "- dynamic binding (We can change datatype of variable)"
   ]
  },
  {
   "cell_type": "code",
   "execution_count": 45,
   "id": "a53f4079",
   "metadata": {},
   "outputs": [
    {
     "name": "stdout",
     "output_type": "stream",
     "text": [
      "(7.2+3j)\n",
      "1\n",
      "2.2\n",
      "(4+3j)\n"
     ]
    }
   ],
   "source": [
    "# No need to initlize datatype of variable.\n",
    "a,b,c = 1,2.2,4+3j\n",
    "print(a+b+c)\n",
    "print(a,b,c, sep=\"\\n\")"
   ]
  },
  {
   "cell_type": "code",
   "execution_count": 53,
   "id": "dc9c23d4",
   "metadata": {},
   "outputs": [
    {
     "name": "stdout",
     "output_type": "stream",
     "text": [
      "2\n",
      "hello\n",
      "4.2\n",
      "2.0\n",
      "['h', 'e', 'l', 'l', 'o']\n"
     ]
    }
   ],
   "source": [
    "# We can change datatype of variable.\n",
    "a=2;b=\"hello\";c=4.2\n",
    "print(a,b,c,sep=\"\\n\")\n",
    "\n",
    "print(float(a))\n",
    "print(list(b))"
   ]
  },
  {
   "cell_type": "code",
   "execution_count": 56,
   "id": "8d252c7d",
   "metadata": {},
   "outputs": [
    {
     "name": "stdout",
     "output_type": "stream",
     "text": [
      "19\n",
      "21\n"
     ]
    }
   ],
   "source": [
    "# identifier (use to initialize variables)\n",
    "# we can initialize variable by \"_\" or \"alphabet\".\n",
    "\n",
    "_ = 19\n",
    "print(_)\n",
    "z = 21\n",
    "print(z)"
   ]
  },
  {
   "cell_type": "markdown",
   "id": "b4118e54",
   "metadata": {},
   "source": [
    "# Talking Input"
   ]
  },
  {
   "cell_type": "code",
   "execution_count": 57,
   "id": "8b872774",
   "metadata": {},
   "outputs": [
    {
     "name": "stdout",
     "output_type": "stream",
     "text": [
      "enter first number: 10\n",
      "enter second number: 5\n",
      "15\n",
      "5\n",
      "50\n",
      "2.0\n"
     ]
    }
   ],
   "source": [
    "num_1 = int(input(\"enter first number: \"))\n",
    "num_2 = int(input(\"enter second number: \"))\n",
    "print(num_1+num_2)\n",
    "print(num_1-num_2)\n",
    "print(num_1*num_2)\n",
    "print(num_1/num_2)"
   ]
  },
  {
   "cell_type": "markdown",
   "id": "2cf36aef",
   "metadata": {},
   "source": [
    "# Type Conversion\n",
    "- implicit (conversion of data_type, python do its-self)\n",
    "- explicit (conversion of data_type, that we preform)"
   ]
  },
  {
   "cell_type": "code",
   "execution_count": 59,
   "id": "c3979b69",
   "metadata": {},
   "outputs": [
    {
     "name": "stdout",
     "output_type": "stream",
     "text": [
      "(10+5j)\n"
     ]
    },
    {
     "data": {
      "text/plain": [
       "(int, complex)"
      ]
     },
     "execution_count": 59,
     "metadata": {},
     "output_type": "execute_result"
    }
   ],
   "source": [
    "# implicit\n",
    "print(5+5+5j)\n",
    "type(5), type(5+5j)"
   ]
  },
  {
   "cell_type": "code",
   "execution_count": 65,
   "id": "2ad99d21",
   "metadata": {},
   "outputs": [
    {
     "name": "stdout",
     "output_type": "stream",
     "text": [
      "(10+0j)\n",
      "['h', 'e', 'l', 'l', 'o', ' ', 'w', 'o', 'r', 'l', 'd']\n"
     ]
    }
   ],
   "source": [
    "# explicit\n",
    "print(complex(10))  \n",
    "print(list(\"hello world\"))"
   ]
  },
  {
   "cell_type": "markdown",
   "id": "47aad1b0",
   "metadata": {},
   "source": [
    "# Literals\n",
    "### Values that are already given in program.\n",
    "- 1 Numerical (int, float, complex, (bin, oct, dec, hex))\n",
    "- 2 string (str, emojies)\n",
    "- 3 Boolean\n",
    "- 4 Special (None)\n"
   ]
  },
  {
   "cell_type": "code",
   "execution_count": 78,
   "id": "4cc2f66f",
   "metadata": {},
   "outputs": [
    {
     "name": "stdout",
     "output_type": "stream",
     "text": [
      "2\n",
      "8\n",
      "10\n",
      "16\n",
      "3 3.3 (3+3j) 6.023e-23\n"
     ]
    }
   ],
   "source": [
    "# 1 numerical literals\n",
    "print(0b010) # binary\n",
    "print(0o10)  # octal\n",
    "print(10)    # decimal\n",
    "print(0x10)  # hexa-decimal\n",
    "\n",
    "print(3,3.3,3+3j,6.023e-23 ) # int, float, complex"
   ]
  },
  {
   "cell_type": "code",
   "execution_count": 93,
   "id": "79c5700f",
   "metadata": {},
   "outputs": [
    {
     "name": "stdout",
     "output_type": "stream",
     "text": [
      "iam Ahmed and iam learning python\n",
      "iam Ahmed and iam learning python\n",
      "iam Ahmed and,\n",
      "iam learning python\n",
      "😀\n"
     ]
    }
   ],
   "source": [
    "# 2 string\n",
    "print('iam Ahmed and iam learning python')\n",
    "print(\"iam Ahmed and iam learning python\")\n",
    "print(\"\"\"iam Ahmed and,\n",
    "iam learning python\"\"\")   # use for multi-line text.\n",
    "\n",
    "print(u\"\\U0001f600\")   # Unicode emoji.\n"
   ]
  },
  {
   "cell_type": "code",
   "execution_count": 94,
   "id": "3613ab91",
   "metadata": {},
   "outputs": [
    {
     "name": "stdout",
     "output_type": "stream",
     "text": [
      "0\n",
      "1\n"
     ]
    }
   ],
   "source": [
    "# 3 Boolean.\n",
    "print(True - 1)\n",
    "print(False + 1)"
   ]
  },
  {
   "cell_type": "code",
   "execution_count": 96,
   "id": "e6e459ce",
   "metadata": {},
   "outputs": [
    {
     "name": "stdout",
     "output_type": "stream",
     "text": [
      "None\n"
     ]
    },
    {
     "data": {
      "text/plain": [
       "NoneType"
      ]
     },
     "execution_count": 96,
     "metadata": {},
     "output_type": "execute_result"
    }
   ],
   "source": [
    "# 4 Special character\n",
    "a = None   # for variable initializing\n",
    "print(a)\n",
    "type(a)"
   ]
  },
  {
   "cell_type": "markdown",
   "id": "5ed75ace",
   "metadata": {},
   "source": [
    "# Operators\n",
    "- 1 Arthematic   (+, -, *, /, %, **, //)\n",
    "- 2 Logical     (and, or, not)\n",
    "- 3 Comparison  (>, <, >=, <=, !=, ==)\n",
    "- 4 bitwise     (&, |, >>(Right shift), <<(left shift), ~ (complement))\n",
    "- 5 identy      (is, is not)\n",
    "- 6 membership  (in, not in)"
   ]
  },
  {
   "cell_type": "code",
   "execution_count": 100,
   "id": "5334f081",
   "metadata": {},
   "outputs": [
    {
     "name": "stdout",
     "output_type": "stream",
     "text": [
      "6\n",
      "2\n",
      "8\n",
      "2.0\n",
      "0\n",
      "16\n",
      "2\n"
     ]
    }
   ],
   "source": [
    "# 1 Arthematic \n",
    "\n",
    "num_1 = 4\n",
    "num_2 = 2\n",
    "print(num_1+num_2)\n",
    "print(num_1-num_2)\n",
    "print(num_1*num_2)\n",
    "print(num_1/num_2)\n",
    "print(num_1%num_2)   # it returns reminder.\n",
    "print(num_1**num_2)  # 4 to the power 2.\n",
    "print(num_1//num_2)  # it removes decimal numbers, only returns integer.\n"
   ]
  },
  {
   "cell_type": "code",
   "execution_count": 101,
   "id": "e3108691",
   "metadata": {},
   "outputs": [
    {
     "name": "stdout",
     "output_type": "stream",
     "text": [
      "False\n",
      "True\n",
      "True\n"
     ]
    }
   ],
   "source": [
    "# 2 Logical\n",
    "a = True ; b = False\n",
    "print(a and b)\n",
    "print(a or b)\n",
    "print(not b)"
   ]
  },
  {
   "cell_type": "code",
   "execution_count": 102,
   "id": "96efacee",
   "metadata": {},
   "outputs": [
    {
     "name": "stdout",
     "output_type": "stream",
     "text": [
      "True\n",
      "False\n",
      "True\n",
      "False\n",
      "True\n",
      "False\n"
     ]
    }
   ],
   "source": [
    "# 3 Comparison \n",
    "a = 4 ; b = 2\n",
    "print(a>b)\n",
    "print(a<b)\n",
    "print(a>=b)\n",
    "print(a<=b)\n",
    "print(a!=b)\n",
    "print(a==b)"
   ]
  },
  {
   "cell_type": "code",
   "execution_count": 134,
   "id": "e110107a",
   "metadata": {},
   "outputs": [
    {
     "name": "stdout",
     "output_type": "stream",
     "text": [
      "0b100\n",
      "0b100\n",
      "4\n",
      "4\n",
      "1\n",
      "8\n",
      "-5\n"
     ]
    }
   ],
   "source": [
    "# 4 Bitwise (binary game)\n",
    "a = 4 ; b = 4\n",
    "\n",
    "print(bin(a))\n",
    "print(bin(b))\n",
    "\n",
    "print(a & b)\n",
    "print(a | b)\n",
    "print(a>>2)    # right shift\n",
    "print(a<<1)  # left shift\n",
    "print(~a)  # 1's compliment\n"
   ]
  },
  {
   "cell_type": "code",
   "execution_count": 143,
   "id": "44d47c47",
   "metadata": {},
   "outputs": [
    {
     "name": "stdout",
     "output_type": "stream",
     "text": [
      "False\n",
      "True\n",
      "True\n"
     ]
    }
   ],
   "source": [
    "# 5 identy (if True then item stores in same memory location)\n",
    "a = [1,2,3] \n",
    "b = [1,2,3]\n",
    "print(a is b)    # false: due to list are mutable (we can do changes in it).\n",
    "print(a is not b)\n",
    "\n",
    "c = \"hello\"\n",
    "d = \"hello\"\n",
    "print(c is d)"
   ]
  },
  {
   "cell_type": "markdown",
   "id": "a7a080bd",
   "metadata": {},
   "source": [
    "a in b, Python checks if the list a = [1, 2, 3] exists as a single element inside the list b. \n",
    "Since b contains integers (1, 2, and 3),\n",
    "and not the list [1, 2, 3] as a whole, the expression a in b evaluates to False. "
   ]
  },
  {
   "cell_type": "code",
   "execution_count": 145,
   "id": "a7b2255d",
   "metadata": {},
   "outputs": [
    {
     "name": "stdout",
     "output_type": "stream",
     "text": [
      "False\n",
      "True\n",
      "True\n"
     ]
    }
   ],
   "source": [
    "# 9 membership\n",
    "\n",
    "a = [1,2,3] \n",
    "b = [1,2,3]\n",
    "print(a in b)     # false: due to lists are mutable.\n",
    "print(a not in b)\n",
    "\n",
    "c = \"hello\"\n",
    "d = \"hello\"\n",
    "print(c in d)"
   ]
  },
  {
   "cell_type": "markdown",
   "id": "919adbc5",
   "metadata": {},
   "source": [
    "# if else statment"
   ]
  },
  {
   "cell_type": "code",
   "execution_count": 8,
   "id": "44f09ed3",
   "metadata": {},
   "outputs": [
    {
     "name": "stdout",
     "output_type": "stream",
     "text": [
      "enter your mail: pakistan1@gmail.com\n",
      "incorrect mail!\n",
      "enter your mail: pak1@gmail.com\n",
      "enter password: 123\n",
      "welcome!\n"
     ]
    }
   ],
   "source": [
    "# gmail = pak1@gmail.com\n",
    "# pass = 123.\n",
    "mail = None\n",
    "password = None\n",
    "\n",
    "while mail != \"pak1@gmail.com\" :\n",
    "    mail = input(\"enter your mail: \")\n",
    "    if mail == \"pak1@gmail.com\":\n",
    "        while password != \"123\":\n",
    "            password = input(\"enter password: \")\n",
    "            if password == \"123\":\n",
    "                print(\"welcome!\")\n",
    "            else:\n",
    "                print(\"incorrect password!\")\n",
    "    else:\n",
    "        print(\"incorrect mail!\")\n",
    "    "
   ]
  },
  {
   "cell_type": "markdown",
   "id": "565467cb",
   "metadata": {},
   "source": [
    "# Loops"
   ]
  },
  {
   "cell_type": "markdown",
   "id": "2230862a",
   "metadata": {},
   "source": [
    "### While Loop"
   ]
  },
  {
   "cell_type": "code",
   "execution_count": 3,
   "id": "cc39cd45",
   "metadata": {},
   "outputs": [
    {
     "name": "stdout",
     "output_type": "stream",
     "text": [
      "enter the number, for table: 3\n",
      "3 * 1 = 3\n",
      "3 * 2 = 6\n",
      "3 * 3 = 9\n",
      "3 * 4 = 12\n",
      "3 * 5 = 15\n",
      "3 * 6 = 18\n",
      "3 * 7 = 21\n",
      "3 * 8 = 24\n",
      "3 * 9 = 27\n",
      "3 * 10 = 30\n"
     ]
    }
   ],
   "source": [
    "# printsng the tabel.\n",
    "num = int(input(\"enter the number, for table: \"))\n",
    "i = 1\n",
    "while i < 11:\n",
    "    print(num ,\"*\", i ,\"=\",num * i)\n",
    "    i+=1\n"
   ]
  },
  {
   "cell_type": "code",
   "execution_count": 4,
   "id": "989b86ee",
   "metadata": {},
   "outputs": [
    {
     "name": "stdout",
     "output_type": "stream",
     "text": [
      "guess the number: 50\n",
      "greater!\n",
      "guess the number: 75\n",
      "greater!\n",
      "guess the number: 85\n",
      "smaller!\n",
      "guess the number: 70\n",
      "greater!\n",
      "guess the number: 73\n",
      "greater!\n",
      "guess the number: 74\n",
      "greater!\n",
      "guess the number: 80\n",
      "smaller!\n",
      "guess the number: 78\n",
      "greater!\n",
      "guess the number: 79\n",
      "Right guess! 79\n",
      "Your attempts:  9\n"
     ]
    }
   ],
   "source": [
    "# Guess Game. \n",
    "import random\n",
    "random = random.randint(0,100)\n",
    "guess = int(input(\"guess the number: \"))\n",
    "count = 1\n",
    "\n",
    "while guess != random:\n",
    "    if guess > random:\n",
    "        print(\"smaller!\")\n",
    "    else:\n",
    "        print(\"greater!\")\n",
    "    guess = int(input(\"guess the number: \"))\n",
    "    count+=1\n",
    "print(\"Right guess!\", guess)\n",
    "print(\"Your attempts: \", count)"
   ]
  },
  {
   "cell_type": "markdown",
   "id": "5c683787",
   "metadata": {},
   "source": [
    "### For Loop"
   ]
  },
  {
   "cell_type": "code",
   "execution_count": 9,
   "id": "3f2156a9",
   "metadata": {},
   "outputs": [
    {
     "name": "stdout",
     "output_type": "stream",
     "text": [
      "number of rows: 5\n",
      " \n",
      "* \n",
      "** \n",
      "*** \n",
      "**** \n",
      "***** \n"
     ]
    }
   ],
   "source": [
    "num = int(input(\"number of rows: \"))\n",
    "for i in range(0,num+1):\n",
    "    for j in range(0,i):\n",
    "        print(\"*\",end=\"\")\n",
    "    print(\" \")"
   ]
  },
  {
   "cell_type": "code",
   "execution_count": 17,
   "id": "ef17b581",
   "metadata": {},
   "outputs": [
    {
     "name": "stdout",
     "output_type": "stream",
     "text": [
      " \n",
      "1  \n",
      "2 3  \n",
      "4 5 6  \n",
      "7 8 9 10  \n"
     ]
    }
   ],
   "source": [
    "a = 1\n",
    "for i in range(0,5):\n",
    "    for j in range(0,i):\n",
    "        print(a, end=\" \")\n",
    "        a+=1\n",
    "    print(\" \")"
   ]
  },
  {
   "cell_type": "code",
   "execution_count": 43,
   "id": "43c24114",
   "metadata": {},
   "outputs": [
    {
     "name": "stdout",
     "output_type": "stream",
     "text": [
      " \n",
      "*  \n",
      "* *  \n",
      "* * *  \n",
      "* *  \n",
      "*  \n"
     ]
    }
   ],
   "source": [
    "for i in range(0,3):\n",
    "    for j in range(i):\n",
    "        print(\"*\",end=\" \")    \n",
    "    print(\" \")\n",
    "    \n",
    "for i in range(3,0,-1):\n",
    "    for j in range(i):\n",
    "        print(\"*\",end=\" \")\n",
    "    print(\" \")"
   ]
  },
  {
   "cell_type": "markdown",
   "id": "b34f3882",
   "metadata": {},
   "source": [
    "# break, continue and pass statments"
   ]
  },
  {
   "cell_type": "code",
   "execution_count": 9,
   "id": "1883fa66",
   "metadata": {},
   "outputs": [
    {
     "name": "stdout",
     "output_type": "stream",
     "text": [
      "0\n",
      "1\n",
      "2\n",
      "3\n",
      "4\n"
     ]
    }
   ],
   "source": [
    "# break.\n",
    "for i in range(0,8):\n",
    "    if i == 5:\n",
    "        break  # it breaks the loop on 5.\n",
    "    print(i)"
   ]
  },
  {
   "cell_type": "code",
   "execution_count": 8,
   "id": "1f553e3b",
   "metadata": {},
   "outputs": [
    {
     "name": "stdout",
     "output_type": "stream",
     "text": [
      "0\n",
      "1\n",
      "2\n",
      "3\n",
      "4\n",
      "6\n",
      "7\n"
     ]
    }
   ],
   "source": [
    "# continue.\n",
    "for i in range(0,8):\n",
    "    if i == 5:\n",
    "        continue   # it skips on 5 itration.\n",
    "    print(i)"
   ]
  },
  {
   "cell_type": "code",
   "execution_count": 16,
   "id": "2d0d2a39",
   "metadata": {},
   "outputs": [],
   "source": [
    "# pass\n",
    "for i in range(0,8):\n",
    "    pass    # use as placeholder for future code."
   ]
  },
  {
   "cell_type": "markdown",
   "id": "92db7581",
   "metadata": {},
   "source": [
    "# Built-in Functions\n",
    "### some important functions."
   ]
  },
  {
   "cell_type": "markdown",
   "id": "a37ee9fe",
   "metadata": {},
   "source": [
    "- round()  round-off number.\n",
    "- abs() absolute function. \n",
    "- divmod()  Division-mod \"//\", \"%\".\n",
    "- id()  identy in memory location.\n",
    "- ord()  ASKII value.\n",
    "- help()  show discription about function."
   ]
  },
  {
   "cell_type": "code",
   "execution_count": 20,
   "id": "820fc52c",
   "metadata": {},
   "outputs": [
    {
     "name": "stdout",
     "output_type": "stream",
     "text": [
      "2.3333333333333335\n",
      "2\n"
     ]
    }
   ],
   "source": [
    "# round()\n",
    "a,b = 3,7\n",
    "print(b/a)\n",
    "print(round(b/a))   # it round-off decimal number."
   ]
  },
  {
   "cell_type": "code",
   "execution_count": 19,
   "id": "c5ccfb3f",
   "metadata": {},
   "outputs": [
    {
     "name": "stdout",
     "output_type": "stream",
     "text": [
      "19\n"
     ]
    }
   ],
   "source": [
    "# absolute()\n",
    "a = -19   \n",
    "print(abs(a))  # it gives absolute \"+ve\" number."
   ]
  },
  {
   "cell_type": "code",
   "execution_count": 23,
   "id": "62b4b40a",
   "metadata": {},
   "outputs": [
    {
     "name": "stdout",
     "output_type": "stream",
     "text": [
      "(10, 0)\n"
     ]
    }
   ],
   "source": [
    "#divmod()\n",
    "a,b = 40,4\n",
    "print(divmod(a,b))  # 1st number is \"//\", and 2nd is \"%\""
   ]
  },
  {
   "cell_type": "code",
   "execution_count": 27,
   "id": "10bb1dbd",
   "metadata": {},
   "outputs": [
    {
     "name": "stdout",
     "output_type": "stream",
     "text": [
      "40\n",
      "140735138302112\n"
     ]
    }
   ],
   "source": [
    "#id()\n",
    "print(a)\n",
    "print(id(a))  # a location in memory."
   ]
  },
  {
   "cell_type": "code",
   "execution_count": 31,
   "id": "0237e3a4",
   "metadata": {},
   "outputs": [
    {
     "name": "stdout",
     "output_type": "stream",
     "text": [
      "65\n"
     ]
    }
   ],
   "source": [
    "# ord()\n",
    "print(ord(\"A\"))"
   ]
  },
  {
   "cell_type": "code",
   "execution_count": 37,
   "id": "2c6b987e",
   "metadata": {},
   "outputs": [
    {
     "name": "stdout",
     "output_type": "stream",
     "text": [
      "Help on built-in function ord in module builtins:\n",
      "\n",
      "ord(c, /)\n",
      "    Return the Unicode code point for a one-character string.\n",
      "\n"
     ]
    }
   ],
   "source": [
    "# help()\n",
    "help(ord) # discription of given function."
   ]
  },
  {
   "cell_type": "markdown",
   "id": "d5acf719",
   "metadata": {},
   "source": [
    "# Modules\n",
    "- Math\n",
    "- Time\n",
    "- os\n",
    "- random"
   ]
  },
  {
   "cell_type": "code",
   "execution_count": 50,
   "id": "f0aebf1e",
   "metadata": {},
   "outputs": [
    {
     "name": "stdout",
     "output_type": "stream",
     "text": [
      "3.141592653589793\n",
      "6\n",
      "5.0\n"
     ]
    }
   ],
   "source": [
    "# Math\n",
    "import math\n",
    "print(math.pi)\n",
    "print(math.factorial(3))\n",
    "print(math.sqrt(25))"
   ]
  },
  {
   "cell_type": "code",
   "execution_count": 71,
   "id": "79fec3d6",
   "metadata": {},
   "outputs": [
    {
     "name": "stdout",
     "output_type": "stream",
     "text": [
      "Thu Feb 15 00:53:59 2024\n",
      "1707940439.1820605\n",
      "hello\n",
      "world\n"
     ]
    }
   ],
   "source": [
    "# Time\n",
    "import time\n",
    "print(time.ctime())  # current time.\n",
    "print(time.time())   # time in sec from jan 1,1970 till now\n",
    "print(\"hello\")\n",
    "time.sleep(1)   # delay of 1 sec.\n",
    "print(\"world\" )"
   ]
  },
  {
   "cell_type": "code",
   "execution_count": 60,
   "id": "861b8ede",
   "metadata": {},
   "outputs": [
    {
     "name": "stdout",
     "output_type": "stream",
     "text": [
      "C:\\Users\\hp\\Documents\\Python\n",
      "['.ipynb_checkpoints', 'python basics revision.ipynb', 'python basics.ipynb', 'Python Problems..ipynb']\n"
     ]
    }
   ],
   "source": [
    "# os\n",
    "import os\n",
    "print(os.getcwd())  # file location\n",
    "print(os.listdir())  # files in that location"
   ]
  },
  {
   "cell_type": "code",
   "execution_count": 77,
   "id": "5bcc7368",
   "metadata": {},
   "outputs": [
    {
     "name": "stdout",
     "output_type": "stream",
     "text": [
      "52\n",
      "[1, 5, 3, 2, 4]\n"
     ]
    }
   ],
   "source": [
    "# random\n",
    "import random\n",
    "print(random.randint(0,100))\n",
    "a= [1,2,3,4,5]\n",
    "random.shuffle(a)\n",
    "print(a)"
   ]
  },
  {
   "cell_type": "markdown",
   "id": "08736bdf",
   "metadata": {},
   "source": [
    "# Accessing String\n",
    "- indexing\n",
    "- slicing"
   ]
  },
  {
   "cell_type": "code",
   "execution_count": 84,
   "id": "8c06c82a",
   "metadata": {},
   "outputs": [
    {
     "name": "stdout",
     "output_type": "stream",
     "text": [
      "H e d l\n"
     ]
    }
   ],
   "source": [
    "# Indexing.\n",
    "a = \"Hello World\"\n",
    "print(a[0],a[1],a[-1],a[-2])"
   ]
  },
  {
   "cell_type": "code",
   "execution_count": 90,
   "id": "39c6c54b",
   "metadata": {},
   "outputs": [
    {
     "name": "stdout",
     "output_type": "stream",
     "text": [
      "Hello World ello HloWrd dlroW olleH\n"
     ]
    }
   ],
   "source": [
    "# Slicing.\n",
    "a = \"Hello World\"\n",
    "print(a[:], a[1:5], a[0::2], a[::-1])"
   ]
  },
  {
   "cell_type": "markdown",
   "id": "36bb67cc",
   "metadata": {},
   "source": [
    "# Operations on String"
   ]
  },
  {
   "cell_type": "markdown",
   "id": "c42a11ed",
   "metadata": {},
   "source": [
    "- Arithmetic Operations\n",
    "- Logical\n",
    "- Comparison\n",
    "- Loops\n",
    "- Membership"
   ]
  },
  {
   "cell_type": "code",
   "execution_count": 95,
   "id": "1bc04dd1",
   "metadata": {},
   "outputs": [
    {
     "name": "stdout",
     "output_type": "stream",
     "text": [
      "hello world\n",
      "helloworld\n",
      "************\n"
     ]
    }
   ],
   "source": [
    "# Arithmetic\n",
    "a,b = 'hello','world'\n",
    "print(a,b)\n",
    "print(a+b)\n",
    "\n",
    "print(\"*\"*12)"
   ]
  },
  {
   "cell_type": "code",
   "execution_count": 101,
   "id": "a8aabd1a",
   "metadata": {},
   "outputs": [
    {
     "name": "stdout",
     "output_type": "stream",
     "text": [
      "world\n",
      "\n",
      "hello\n",
      "world\n",
      "True\n"
     ]
    }
   ],
   "source": [
    "# Logical\n",
    "a,b,c = \"hello\",\"world\",\"\"\n",
    "print(a and b)\n",
    "print(a and c)  # it gives \"0\" when anyone is 0.\n",
    "print(a or b)\n",
    "print(c or b)  # it gives \"1\" when anyone is 1.\n",
    "print(not c)   # it inverse."
   ]
  },
  {
   "cell_type": "code",
   "execution_count": 107,
   "id": "e592b44a",
   "metadata": {},
   "outputs": [
    {
     "name": "stdout",
     "output_type": "stream",
     "text": [
      "False\n",
      "True\n",
      "True\n",
      "False\n",
      "False\n"
     ]
    }
   ],
   "source": [
    "# Comparison\n",
    "a,b = \"hello\",\"world\"\n",
    "print(a>b)  # 'h' comes first, so it is less then 'w'.\n",
    "print(a<b)\n",
    "print(a!=b)\n",
    "print(a==b)\n",
    "print(\"A\">\"a\")  # 'A' comes first, so it is less then 'a' ."
   ]
  },
  {
   "cell_type": "code",
   "execution_count": 112,
   "id": "977e7bae",
   "metadata": {},
   "outputs": [
    {
     "name": "stdout",
     "output_type": "stream",
     "text": [
      "h\n",
      "e\n",
      "l\n",
      "l\n",
      "o\n",
      "o\n",
      "l\n",
      "l\n",
      "e\n",
      "h\n"
     ]
    }
   ],
   "source": [
    "# Loops\n",
    "a = \"hello\"\n",
    "for i in a :\n",
    "    print(i)\n",
    "    \n",
    "for i in a[::-1]:\n",
    "    print(i)"
   ]
  },
  {
   "cell_type": "code",
   "execution_count": 116,
   "id": "8e3ab9b4",
   "metadata": {},
   "outputs": [
    {
     "name": "stdout",
     "output_type": "stream",
     "text": [
      "hello\n",
      "True\n"
     ]
    }
   ],
   "source": [
    "# Membership\n",
    "print(a)\n",
    "print(\"hello\" in a)"
   ]
  },
  {
   "cell_type": "markdown",
   "id": "f63eb27c",
   "metadata": {},
   "source": [
    "# String Functions\n",
    "- len, min, max, sorted\n",
    "- capitalize,  title, lower, upper, swapcase\n",
    "- count, find, index\n",
    "- startswith, endswith, format\n",
    "- isalnum, isalpha, isdecimal, isdigit, isidentifier\n",
    "- split, join, replace, strip"
   ]
  },
  {
   "cell_type": "code",
   "execution_count": 5,
   "id": "19960575",
   "metadata": {},
   "outputs": [
    {
     "name": "stdout",
     "output_type": "stream",
     "text": [
      "15\n",
      "t\n",
      " \n",
      "[' ', ',', 'a', 'a', 'a', 'h', 'i', 'k', 'k', 'n', 'o', 'p', 's', 't', 't']\n"
     ]
    }
   ],
   "source": [
    "# len, max, min, sorted.\n",
    "\n",
    "a = \"kohat, pakistan\"\n",
    "print(len(a))\n",
    "print(max(a))\n",
    "print(min(a))\n",
    "print(sorted(a))   # it sortes all items from smaller to greater."
   ]
  },
  {
   "cell_type": "code",
   "execution_count": 12,
   "id": "a58574ef",
   "metadata": {},
   "outputs": [
    {
     "name": "stdout",
     "output_type": "stream",
     "text": [
      "Kohat, pakistan\n",
      "Kohat, Pakistan\n",
      "KOHAT, PAKISTAN\n",
      "kohat, pakistan\n",
      "KOHAT, PAKISTAN\n"
     ]
    }
   ],
   "source": [
    "# capitalize, title, upper, lower, swapcase.\n",
    "\n",
    "print(a.capitalize())   # capitalize first word of sentence.\n",
    "print(a.title())        # capitalize every first char of word.\n",
    "print(a.upper())\n",
    "print(a.lower())\n",
    "print(a.swapcase())   # it swaps upper to lower & lower to upper."
   ]
  },
  {
   "cell_type": "code",
   "execution_count": 34,
   "id": "cffe2364",
   "metadata": {},
   "outputs": [
    {
     "name": "stdout",
     "output_type": "stream",
     "text": [
      "36\n",
      "4\n",
      "4\n",
      "11\n"
     ]
    }
   ],
   "source": [
    "# count, find, index.\n",
    "\n",
    "b = \"Iam Ahmed, and Iam learning Python!\"\n",
    "print(b.count(\"\"))\n",
    "print(b.count(\"a\"))\n",
    "print(b.find(\"Ahmed\"))   # it throws \"-1\", if iteam isn't present.\n",
    "print(b.index(\"and\"))    # it throws \"error\", if iteam isn't present."
   ]
  },
  {
   "cell_type": "code",
   "execution_count": 45,
   "id": "f4c1ea73",
   "metadata": {},
   "outputs": [
    {
     "name": "stdout",
     "output_type": "stream",
     "text": [
      "Iam Ahmed, and Iam learning Python!\n",
      "True\n",
      "False\n",
      "Iam Ahmed, and Iam learning Python!\n",
      "Iam Usman, and Iam learning C++!\n",
      "Iam Ali, and Iam learning Oop!\n"
     ]
    }
   ],
   "source": [
    "# startswith, endswith, format.\n",
    "\n",
    "print(b)\n",
    "print(b.startswith(\"Iam\"))\n",
    "print(b.endswith(\"python\"))   # as \"P\" is capital.\n",
    "\n",
    "c = \"Iam {}, and Iam learning {}!\"\n",
    "print(c.format(\"Ahmed\",\"Python\"))\n",
    "print(c.format(\"Usman\",\"C++\"))\n",
    "\n",
    "print(\"Iam {0}, and Iam learning {1}!\". format(\"Ali\",\"Oop\"))"
   ]
  },
  {
   "cell_type": "code",
   "execution_count": 87,
   "id": "3a63c05e",
   "metadata": {},
   "outputs": [
    {
     "name": "stdout",
     "output_type": "stream",
     "text": [
      "True\n",
      "True\n",
      "True\n",
      "True\n",
      "True\n"
     ]
    }
   ],
   "source": [
    "# isalnum, isalpha, isdicimal, isdigit, isidentifier\n",
    "d = \"Flat50\"\n",
    "d1 = \"Flat\"\n",
    "d2 = \"1123\"\n",
    "d3 = \"10\"\n",
    "d4 = \"pak_01\"\n",
    "print(d.isalnum())\n",
    "print(d1.isalpha())\n",
    "print(d2.isdigit())\n",
    "print(d3.isdecimal())\n",
    "print(d4.isidentifier())"
   ]
  },
  {
   "cell_type": "code",
   "execution_count": 131,
   "id": "1919373e",
   "metadata": {},
   "outputs": [
    {
     "name": "stdout",
     "output_type": "stream",
     "text": [
      "Iam Ahmed, and Iam learning Python!\n",
      "['Iam', 'Ahmed,', 'and', 'Iam', 'learning', 'Python!']\n",
      "Iam', 'Ahmed,', 'and', 'Iam', 'learning', 'Python!\n",
      "Iam Usman, and Iam learning Python!\n",
      "Ahmed\n"
     ]
    }
   ],
   "source": [
    "# split, join, replace, strip\n",
    "\n",
    "b1 = \"Iam', 'Ahmed,', 'and', 'Iam', 'learning', 'Python!\"\n",
    "\n",
    "print(b)\n",
    "print(b.split())\n",
    "print(\"\".join(b1))\n",
    "print(b.replace(\"Ahmed\",\"Usman\"))\n",
    "\n",
    "b2 =\"      Ahmed       \"\n",
    "print(b2.strip())     # remove unnecessary space."
   ]
  },
  {
   "cell_type": "markdown",
   "id": "cc086646",
   "metadata": {},
   "source": [
    "# List\n",
    "- array vs list, create, access, edit, add, delete\n",
    "- operations, functions."
   ]
  },
  {
   "cell_type": "markdown",
   "id": "c73a7fce",
   "metadata": {},
   "source": [
    "### array vs list.\n",
    "#### list:\n",
    "- list is mutable datatype. \n",
    "- it can store iteams of different data-type.\n",
    "#### array:\n",
    "- is is im-mutable.\n",
    "- it can store iteams of same data-type."
   ]
  },
  {
   "cell_type": "code",
   "execution_count": 53,
   "id": "888e4169",
   "metadata": {},
   "outputs": [
    {
     "name": "stdout",
     "output_type": "stream",
     "text": [
      "['p', 'a', 'k', 'i', 's', 't', 'a', 'n']\n"
     ]
    }
   ],
   "source": [
    "# Create\n",
    "a1 = [1,2,3,4,5]  # iteams with same data-type homogenious list.\n",
    "a2 = [1,2.5,True,4+3j]  # hetrogenious list.\n",
    "\n",
    "a3 = [1,3,4,[5,6]]  # 2D List.\n",
    "a4 = [[1,2],[3,4]],[[7,8],[5,6]]  # 3D List\n",
    "a5 = list(\"pakistan\")\n",
    "print(a5)"
   ]
  },
  {
   "cell_type": "code",
   "execution_count": 12,
   "id": "8d11ad38",
   "metadata": {},
   "outputs": [
    {
     "name": "stdout",
     "output_type": "stream",
     "text": [
      "[1, 3, 4, [5, 6]]\n",
      "5\n",
      "([[1, 2], [3, 4]], [[7, 8], [5, 6]])\n",
      "5\n",
      "['p', 'a', 'k', 'i', 's', 't', 'a', 'n']\n",
      "['p', 'a', 'k']\n"
     ]
    }
   ],
   "source": [
    "# access.\n",
    "print(a3)\n",
    "print(a3[-1][0])  # accessing 5 in 2D list.\n",
    "\n",
    "print(a4)\n",
    "print(a4[-1][-1][0])\n",
    "\n",
    "print(a5)\n",
    "print(a5[0:3])"
   ]
  },
  {
   "cell_type": "code",
   "execution_count": 17,
   "id": "e2788e06",
   "metadata": {},
   "outputs": [
    {
     "name": "stdout",
     "output_type": "stream",
     "text": [
      "[100, 2, 3, 4, 500]\n",
      "[100, 2, 3, 4, 500]\n",
      "[100, 2, 3, 4, 500]\n",
      "[100, 200, 300, 400, 500]\n"
     ]
    }
   ],
   "source": [
    "# edit.\n",
    "print(a1)\n",
    "a1[0]= 100\n",
    "print(a1)\n",
    "\n",
    "a1[-1] = 500\n",
    "print(a1)\n",
    "\n",
    "a1[1:4]= 200,300,400\n",
    "print(a1)"
   ]
  },
  {
   "cell_type": "code",
   "execution_count": 28,
   "id": "1c1a0583",
   "metadata": {},
   "outputs": [
    {
     "name": "stdout",
     "output_type": "stream",
     "text": [
      "[1, 2, 3, 4, 5]\n",
      "[10, 1, 2, 3, 4, 5]\n"
     ]
    }
   ],
   "source": [
    "# add.  (insert , append , extend)\n",
    "print(a1)\n",
    "\n",
    "a1.insert(0,10)  # insert \n",
    "print(a1)"
   ]
  },
  {
   "cell_type": "code",
   "execution_count": 29,
   "id": "67ab6145",
   "metadata": {},
   "outputs": [
    {
     "name": "stdout",
     "output_type": "stream",
     "text": [
      "[10, 1, 2, 3, 4, 5, 50]\n"
     ]
    }
   ],
   "source": [
    "a1.append(50) # append\n",
    "print(a1)"
   ]
  },
  {
   "cell_type": "code",
   "execution_count": 30,
   "id": "d03d1cc2",
   "metadata": {},
   "outputs": [
    {
     "name": "stdout",
     "output_type": "stream",
     "text": [
      "[10, 1, 2, 3, 4, 5, 50, 60, 70, 80]\n"
     ]
    }
   ],
   "source": [
    "a1.extend([60,70,80])  # extend\n",
    "print(a1)"
   ]
  },
  {
   "cell_type": "code",
   "execution_count": 32,
   "id": "4ba4113d",
   "metadata": {},
   "outputs": [
    {
     "name": "stdout",
     "output_type": "stream",
     "text": [
      "[10, 1, 2, 3, 4, 5, 50, 60, 70, 80]\n",
      "[1, 2, 3, 4, 5, 50, 60, 70, 80]\n"
     ]
    }
   ],
   "source": [
    "# Delete. (del , remove , pop , clear.)\n",
    "print(a1)\n",
    "del(a1[0])  # del\n",
    "print(a1)"
   ]
  },
  {
   "cell_type": "code",
   "execution_count": 54,
   "id": "7add41bb",
   "metadata": {},
   "outputs": [
    {
     "name": "stdout",
     "output_type": "stream",
     "text": [
      "[1, 2, 3, 4]\n"
     ]
    }
   ],
   "source": [
    "a1.remove(5) # remove\n",
    "print(a1)"
   ]
  },
  {
   "cell_type": "code",
   "execution_count": 55,
   "id": "abee6913",
   "metadata": {},
   "outputs": [
    {
     "name": "stdout",
     "output_type": "stream",
     "text": [
      "[1, 2, 3]\n"
     ]
    }
   ],
   "source": [
    "a1.pop()   # pop \n",
    "print(a1)"
   ]
  },
  {
   "cell_type": "code",
   "execution_count": 56,
   "id": "5b8f6b78",
   "metadata": {},
   "outputs": [
    {
     "name": "stdout",
     "output_type": "stream",
     "text": [
      "[]\n"
     ]
    }
   ],
   "source": [
    "a1.clear()  # clear\n",
    "print(a1)"
   ]
  },
  {
   "cell_type": "code",
   "execution_count": 71,
   "id": "fd415c96",
   "metadata": {},
   "outputs": [
    {
     "name": "stdout",
     "output_type": "stream",
     "text": [
      "[1, 2, 3, 4, 5, 6, 7]\n",
      "[5, 6, 7, 5, 6, 7, 5, 6, 7]\n",
      "5\n",
      "6\n",
      "7\n",
      "[1, 3, 4, [5, 6]]\n",
      "1\n",
      "3\n",
      "4\n",
      "[5, 6]\n"
     ]
    },
    {
     "data": {
      "text/plain": [
       "True"
      ]
     },
     "execution_count": 71,
     "metadata": {},
     "output_type": "execute_result"
    }
   ],
   "source": [
    "# Operations.\n",
    "b1, b2 = [1,2,3,4],[5,6,7]\n",
    "print(b1+b2)   # addition\n",
    "print(b2*3)   # multiply\n",
    "\n",
    "for i in b2:  # loop\n",
    "    print(i)\n",
    "    \n",
    "print(a3)\n",
    "for i in a3:\n",
    "    print(i)\n",
    "\n",
    "[5,6] in a3   # membership"
   ]
  },
  {
   "cell_type": "code",
   "execution_count": 97,
   "id": "815d1e64",
   "metadata": {},
   "outputs": [
    {
     "name": "stdout",
     "output_type": "stream",
     "text": [
      "1\n",
      "4\n",
      "4\n",
      "[1, 2, 3, 4]\n",
      "[4, 3, 2, 1]\n",
      "[1, 2, 3, 4]\n"
     ]
    },
    {
     "data": {
      "text/plain": [
       "2"
      ]
     },
     "execution_count": 97,
     "metadata": {},
     "output_type": "execute_result"
    }
   ],
   "source": [
    "# functions.\n",
    "c1 = [3,2,4,1]\n",
    "print(min(c1))\n",
    "print(max(c1))\n",
    "print(len(c1))\n",
    "\n",
    "print(sorted(c1))   # its not a permenant operation.\n",
    "print(sorted(c1, reverse = True))\n",
    "\n",
    "c1.sort()   # sort is premanent operation.\n",
    "print(c1)\n",
    "\n",
    "c1.index(3)"
   ]
  },
  {
   "cell_type": "markdown",
   "id": "53cdb713",
   "metadata": {},
   "source": [
    "# tuple"
   ]
  },
  {
   "cell_type": "markdown",
   "id": "035206f3",
   "metadata": {},
   "source": [
    "- create, acess, edit, add, remove, operation, funcrion."
   ]
  },
  {
   "cell_type": "code",
   "execution_count": 37,
   "id": "2887a172",
   "metadata": {},
   "outputs": [
    {
     "name": "stdout",
     "output_type": "stream",
     "text": [
      "(1, 2, 3, 4)\n",
      "(1, 3.4, True, 5.5j, 'okay')\n",
      "(1, 2, 3, (5, 3))\n",
      "(((1, 2), (3, 4)), ((5, 6), (7, 8)))\n"
     ]
    }
   ],
   "source": [
    "# create\n",
    "t = (5,)  # use coma at end in single tuple. without coma its int.\n",
    "t1 = (1,2,3,4)    # homogenious tuple.\n",
    "print(t1)\n",
    "t_2 = (1, 3.4, True, 5.5j, \"okay\")   # hetrogenious tuple.\n",
    "print(t_2)   \n",
    "\n",
    "t2 = (1,2,3,(5,3))   # 2d tuple.\n",
    "print(t2)\n",
    "\n",
    "t3 = (((1,2),(3,4)),((5,6),(7,8)))   # 3d tuple.\n",
    "print(t3)"
   ]
  },
  {
   "cell_type": "code",
   "execution_count": 30,
   "id": "4f3ad335",
   "metadata": {},
   "outputs": [
    {
     "name": "stdout",
     "output_type": "stream",
     "text": [
      "(1, 2, 3, (5, 3))\n",
      "5\n",
      "(((1, 2), (3, 4)), ((5, 6), (7, 8)))\n",
      "5\n",
      "(1, 2, 3, 4)\n",
      "(4, 3, 2, 1)\n"
     ]
    }
   ],
   "source": [
    "# Access.\n",
    "print(t2)\n",
    "print(t2[-1][0])\n",
    "\n",
    "print(t3)\n",
    "print(t3[-1][0][0])\n",
    "\n",
    "print(t1[0:4])\n",
    "print(t1[::-1])"
   ]
  },
  {
   "cell_type": "code",
   "execution_count": 31,
   "id": "23833cd8",
   "metadata": {},
   "outputs": [],
   "source": [
    "# Edit , Add\n",
    "# Tuple is im-mutable, we can't edit or add it."
   ]
  },
  {
   "cell_type": "code",
   "execution_count": 39,
   "id": "7ee77a3f",
   "metadata": {},
   "outputs": [
    {
     "name": "stdout",
     "output_type": "stream",
     "text": [
      "(1, 3.4, True, 5.5j, 'okay')\n"
     ]
    },
    {
     "ename": "NameError",
     "evalue": "name 't_2' is not defined",
     "output_type": "error",
     "traceback": [
      "\u001b[1;31m---------------------------------------------------------------------------\u001b[0m",
      "\u001b[1;31mNameError\u001b[0m                                 Traceback (most recent call last)",
      "\u001b[1;32mC:\\Users\\hp\\AppData\\Local\\Temp\\ipykernel_12756\\1410601514.py\u001b[0m in \u001b[0;36m<module>\u001b[1;34m\u001b[0m\n\u001b[0;32m      4\u001b[0m \u001b[0mprint\u001b[0m\u001b[1;33m(\u001b[0m\u001b[0mt_2\u001b[0m\u001b[1;33m)\u001b[0m\u001b[1;33m\u001b[0m\u001b[1;33m\u001b[0m\u001b[0m\n\u001b[0;32m      5\u001b[0m \u001b[1;32mdel\u001b[0m\u001b[1;33m(\u001b[0m\u001b[0mt_2\u001b[0m\u001b[1;33m)\u001b[0m\u001b[1;33m\u001b[0m\u001b[1;33m\u001b[0m\u001b[0m\n\u001b[1;32m----> 6\u001b[1;33m \u001b[0mprint\u001b[0m\u001b[1;33m(\u001b[0m\u001b[0mt_2\u001b[0m\u001b[1;33m)\u001b[0m\u001b[1;33m\u001b[0m\u001b[1;33m\u001b[0m\u001b[0m\n\u001b[0m",
      "\u001b[1;31mNameError\u001b[0m: name 't_2' is not defined"
     ]
    }
   ],
   "source": [
    "# Delete \n",
    "# we can't delete single iteam in tuple, as it's im-mutable.\n",
    "# however, we can delete complete tuple.\n",
    "print(t_2)\n",
    "del(t_2)\n",
    "print(t_2)  # as t_2 is completely deleted, that's why it throws an error."
   ]
  },
  {
   "cell_type": "code",
   "execution_count": 48,
   "id": "87199a18",
   "metadata": {},
   "outputs": [
    {
     "name": "stdout",
     "output_type": "stream",
     "text": [
      "(1, 2, 3, 4)\n",
      "(1, 2, 3, (5, 3))\n",
      "(1, 2, 3, 4, 1, 2, 3, (5, 3))\n",
      "(1, 2, 3, 4, 1, 2, 3, 4, 1, 2, 3, 4)\n",
      "1\n",
      "2\n",
      "3\n",
      "4\n"
     ]
    },
    {
     "data": {
      "text/plain": [
       "True"
      ]
     },
     "execution_count": 48,
     "metadata": {},
     "output_type": "execute_result"
    }
   ],
   "source": [
    "# Operation\n",
    "print(t1)\n",
    "print(t2)\n",
    "print(t1+t2)    # add. \n",
    "\n",
    "print(t1*3)   # multiply.\n",
    "\n",
    "for i in t1:   # loop.\n",
    "    print(i)\n",
    "    \n",
    "4 in t1    # membership"
   ]
  },
  {
   "cell_type": "code",
   "execution_count": 51,
   "id": "1be1678a",
   "metadata": {},
   "outputs": [
    {
     "name": "stdout",
     "output_type": "stream",
     "text": [
      "11\n",
      " \n",
      "w\n",
      "[' ', 'd', 'e', 'h', 'l', 'l', 'l', 'o', 'o', 'r', 'w']\n",
      "['w', 'r', 'o', 'o', 'l', 'l', 'l', 'h', 'e', 'd', ' ']\n"
     ]
    }
   ],
   "source": [
    "# Function.\n",
    "t5 = \"hello world\"\n",
    "print(len(t5))\n",
    "print(min(t5))\n",
    "print(max(t5))\n",
    "\n",
    "print(sorted(t5))\n",
    "print(sorted(t5, reverse = True))"
   ]
  },
  {
   "cell_type": "markdown",
   "id": "ac370a71",
   "metadata": {},
   "source": [
    "# sets"
   ]
  },
  {
   "cell_type": "markdown",
   "id": "aa39fb4d",
   "metadata": {},
   "source": [
    "#### set is mutable data-type , we can't acess it by indexing and slicing , it doesn't allow mutable data types in it.\n",
    "- create, acess, edit, add, delete, operation, function."
   ]
  },
  {
   "cell_type": "code",
   "execution_count": 34,
   "id": "80099307",
   "metadata": {},
   "outputs": [
    {
     "name": "stdout",
     "output_type": "stream",
     "text": [
      "{1, 2, 3, 4, 5}\n",
      "{True, 3, 3.5, (2+3j), 'hello world'}\n",
      "{(5, 6), 2, 3, 4}\n"
     ]
    }
   ],
   "source": [
    "# create:\n",
    "s1 = {1,2,3,4,5}   # homogenious set\n",
    "s2 = {\"hello world\", 2+3j, 3, True, 3.5}    # hetrogenious set.\n",
    "\n",
    "# we can't built 2d, 3d sets\n",
    "# s3 = {1,3,4,{5,6}}  # we can't use mutable data-type in sets.\n",
    "\n",
    "s4 = {2,3,4,(5,6)}  # tuple is im-mutable. so it works.\n",
    "\n",
    "print(s1)\n",
    "print(s2)\n",
    "print(s4)    # it print \"(5,6)\" due to hashing. sets don't 've indexing."
   ]
  },
  {
   "cell_type": "code",
   "execution_count": 10,
   "id": "33b9b6f7",
   "metadata": {},
   "outputs": [
    {
     "name": "stdout",
     "output_type": "stream",
     "text": [
      "{1, 2, 3, 4, 5}\n"
     ]
    },
    {
     "ename": "TypeError",
     "evalue": "'set' object does not support indexing",
     "output_type": "error",
     "traceback": [
      "\u001b[1;31m---------------------------------------------------------------------------\u001b[0m",
      "\u001b[1;31mTypeError\u001b[0m                                 Traceback (most recent call last)",
      "\u001b[1;32mC:\\Users\\hp\\AppData\\Local\\Temp\\ipykernel_13020\\671072536.py\u001b[0m in \u001b[0;36m<module>\u001b[1;34m\u001b[0m\n\u001b[0;32m      1\u001b[0m \u001b[1;31m# access.\u001b[0m\u001b[1;33m\u001b[0m\u001b[1;33m\u001b[0m\u001b[1;33m\u001b[0m\u001b[0m\n\u001b[0;32m      2\u001b[0m \u001b[0mprint\u001b[0m\u001b[1;33m(\u001b[0m\u001b[0ms1\u001b[0m\u001b[1;33m)\u001b[0m\u001b[1;33m\u001b[0m\u001b[1;33m\u001b[0m\u001b[0m\n\u001b[1;32m----> 3\u001b[1;33m \u001b[0mprint\u001b[0m\u001b[1;33m(\u001b[0m\u001b[0ms1\u001b[0m\u001b[1;33m[\u001b[0m\u001b[1;36m0\u001b[0m\u001b[1;33m]\u001b[0m\u001b[1;33m)\u001b[0m  \u001b[1;31m# we can't use indexing.\u001b[0m\u001b[1;33m\u001b[0m\u001b[1;33m\u001b[0m\u001b[0m\n\u001b[0m\u001b[0;32m      4\u001b[0m \u001b[0mprint\u001b[0m\u001b[1;33m(\u001b[0m\u001b[0ms1\u001b[0m\u001b[1;33m[\u001b[0m\u001b[1;36m0\u001b[0m\u001b[1;33m:\u001b[0m\u001b[1;36m4\u001b[0m\u001b[1;33m]\u001b[0m\u001b[1;33m)\u001b[0m\u001b[1;33m\u001b[0m\u001b[1;33m\u001b[0m\u001b[0m\n",
      "\u001b[1;31mTypeError\u001b[0m: 'set' object does not support indexing"
     ]
    }
   ],
   "source": [
    "# access.\n",
    "print(s1)\n",
    "print(s1[0])  # we can't use indexing.\n",
    "print(s1[0:4])  # we also can't use slicing."
   ]
  },
  {
   "cell_type": "code",
   "execution_count": 12,
   "id": "5a8ed6a5",
   "metadata": {},
   "outputs": [
    {
     "name": "stdout",
     "output_type": "stream",
     "text": [
      "{1, 2, 3, 4, 5}\n"
     ]
    },
    {
     "ename": "TypeError",
     "evalue": "'set' object does not support item assignment",
     "output_type": "error",
     "traceback": [
      "\u001b[1;31m---------------------------------------------------------------------------\u001b[0m",
      "\u001b[1;31mTypeError\u001b[0m                                 Traceback (most recent call last)",
      "\u001b[1;32mC:\\Users\\hp\\AppData\\Local\\Temp\\ipykernel_13020\\1986639963.py\u001b[0m in \u001b[0;36m<module>\u001b[1;34m\u001b[0m\n\u001b[0;32m      1\u001b[0m \u001b[1;31m# edit.\u001b[0m\u001b[1;33m\u001b[0m\u001b[1;33m\u001b[0m\u001b[1;33m\u001b[0m\u001b[0m\n\u001b[0;32m      2\u001b[0m \u001b[0mprint\u001b[0m\u001b[1;33m(\u001b[0m\u001b[0ms1\u001b[0m\u001b[1;33m)\u001b[0m\u001b[1;33m\u001b[0m\u001b[1;33m\u001b[0m\u001b[0m\n\u001b[1;32m----> 3\u001b[1;33m \u001b[0ms1\u001b[0m\u001b[1;33m[\u001b[0m\u001b[1;36m0\u001b[0m\u001b[1;33m]\u001b[0m \u001b[1;33m=\u001b[0m \u001b[1;36m100\u001b[0m\u001b[1;33m\u001b[0m\u001b[1;33m\u001b[0m\u001b[0m\n\u001b[0m\u001b[0;32m      4\u001b[0m \u001b[0mprint\u001b[0m\u001b[1;33m(\u001b[0m\u001b[0ms1\u001b[0m\u001b[1;33m)\u001b[0m\u001b[1;33m\u001b[0m\u001b[1;33m\u001b[0m\u001b[0m\n",
      "\u001b[1;31mTypeError\u001b[0m: 'set' object does not support item assignment"
     ]
    }
   ],
   "source": [
    "# edit.\n",
    "print(s1)\n",
    "s1[0] = 100   # we can't edit coz it doesn't 've indexing.\n",
    "print(s1)"
   ]
  },
  {
   "cell_type": "code",
   "execution_count": 35,
   "id": "4cfd8382",
   "metadata": {},
   "outputs": [
    {
     "name": "stdout",
     "output_type": "stream",
     "text": [
      "{1, 2, 3, 4, 5, '100'}\n"
     ]
    }
   ],
   "source": [
    "# add.\n",
    "\n",
    "s1.add(\"100\")\n",
    "print(s1)"
   ]
  },
  {
   "cell_type": "code",
   "execution_count": 36,
   "id": "8fa68d75",
   "metadata": {},
   "outputs": [
    {
     "name": "stdout",
     "output_type": "stream",
     "text": [
      "{1, 2, 3, 4, 5, '100'}\n",
      "{1, 2, 3, 4, 5}\n"
     ]
    }
   ],
   "source": [
    "# delete.\n",
    "print(s1)\n",
    "\n",
    "# remove.\n",
    "s1.remove(\"100\")  \n",
    "print(s1)"
   ]
  },
  {
   "cell_type": "code",
   "execution_count": 37,
   "id": "c3629701",
   "metadata": {},
   "outputs": [
    {
     "name": "stdout",
     "output_type": "stream",
     "text": [
      "{1, 2, 3, 4, 5}\n",
      "{2, 3, 4, 5}\n"
     ]
    }
   ],
   "source": [
    "# pop.\n",
    "print(s1)\n",
    "s1.pop()  \n",
    "print(s1)  # due to hashing."
   ]
  },
  {
   "cell_type": "code",
   "execution_count": 38,
   "id": "faef482d",
   "metadata": {},
   "outputs": [
    {
     "ename": "NameError",
     "evalue": "name 's1' is not defined",
     "output_type": "error",
     "traceback": [
      "\u001b[1;31m---------------------------------------------------------------------------\u001b[0m",
      "\u001b[1;31mNameError\u001b[0m                                 Traceback (most recent call last)",
      "\u001b[1;32mC:\\Users\\hp\\AppData\\Local\\Temp\\ipykernel_13020\\1250430435.py\u001b[0m in \u001b[0;36m<module>\u001b[1;34m\u001b[0m\n\u001b[0;32m      1\u001b[0m \u001b[1;32mdel\u001b[0m\u001b[1;33m(\u001b[0m\u001b[0ms1\u001b[0m\u001b[1;33m)\u001b[0m   \u001b[1;31m# it deletes set completely.\u001b[0m\u001b[1;33m\u001b[0m\u001b[1;33m\u001b[0m\u001b[0m\n\u001b[1;32m----> 2\u001b[1;33m \u001b[0mprint\u001b[0m\u001b[1;33m(\u001b[0m\u001b[0ms1\u001b[0m\u001b[1;33m)\u001b[0m\u001b[1;33m\u001b[0m\u001b[1;33m\u001b[0m\u001b[0m\n\u001b[0m",
      "\u001b[1;31mNameError\u001b[0m: name 's1' is not defined"
     ]
    }
   ],
   "source": [
    "# del.\n",
    "del(s1)   # it deletes set completely.\n",
    "print(s1)"
   ]
  },
  {
   "cell_type": "code",
   "execution_count": 52,
   "id": "c64e8d2b",
   "metadata": {},
   "outputs": [
    {
     "name": "stdout",
     "output_type": "stream",
     "text": [
      "2\n",
      "3\n",
      "4\n",
      "True\n",
      "False\n"
     ]
    }
   ],
   "source": [
    "# Operation\n",
    "\n",
    "s3 = {1,2,3,5,6}\n",
    "s4 = {2,3,4}\n",
    "\n",
    "# print(s3+s4)  we can't concatinate sets.\n",
    "# print(s3*2)  we can't multiply sets.\n",
    "\n",
    "# loop\n",
    "for i in s4:\n",
    "    print(i)\n",
    "\n",
    "# membership.\n",
    "print (4 in s4)\n",
    "print (4 in s3)"
   ]
  },
  {
   "cell_type": "code",
   "execution_count": 55,
   "id": "389c5685",
   "metadata": {},
   "outputs": [
    {
     "name": "stdout",
     "output_type": "stream",
     "text": [
      "{1, 2, 3, 5, 6}\n",
      "5\n",
      "6\n",
      "1\n",
      "[1, 2, 3, 5, 6]\n",
      "[6, 5, 3, 2, 1]\n"
     ]
    }
   ],
   "source": [
    "# functions.\n",
    "print(s3)\n",
    "print(len(s3))\n",
    "print(max(s3))\n",
    "print(min(s3))\n",
    "print(sorted(s3))\n",
    "print(sorted(s3, reverse = True))"
   ]
  },
  {
   "cell_type": "markdown",
   "id": "4870c84e",
   "metadata": {},
   "source": [
    "#### some other imp functions, that are present in sets\n",
    "- union, intersection, difference, symetric_difference, isdisjoint, issubset, issuperset"
   ]
  },
  {
   "cell_type": "markdown",
   "id": "fecc5ddd",
   "metadata": {},
   "source": [
    "# Dictonary\n",
    "#### it's mutable, it has keys : values, key are im-mutable and values are mutable. it doesn't 've indexing.\n",
    "- create, access, edit, add, delete, operations, functions.\n"
   ]
  },
  {
   "cell_type": "code",
   "execution_count": 38,
   "id": "42188e51",
   "metadata": {},
   "outputs": [
    {
     "name": "stdout",
     "output_type": "stream",
     "text": [
      "{'name': 'ahmed', 'gender': 'male', 'age': 21}\n",
      "{(1, 2, 3): 'paksitan'}\n",
      "{'name': 'ahmed', 'profession': 'student', 'marks': {'math': 21, 'eng': 12, 'urd': 21}}\n"
     ]
    }
   ],
   "source": [
    "# create\n",
    "d1 = {\"name\":\"ahmed\", \"gender\":\"male\", \"age\":21}\n",
    "print(d1)\n",
    "\n",
    "d2 = {(1,2,3):\"paksitan\"}  # key is tuple, nd it's im-mutable.\n",
    "print(d2)\n",
    "\n",
    "d3 = {\"name\":\"ahmed\", \"profession\":\"student\",\"marks\":{\"math\":21,\"eng\":12,\"urd\":21}}   # 2D dictonary.\n",
    "print(d3)"
   ]
  },
  {
   "cell_type": "code",
   "execution_count": 18,
   "id": "dc825cbd",
   "metadata": {},
   "outputs": [
    {
     "name": "stdout",
     "output_type": "stream",
     "text": [
      "{'name': 'ahmed', 'profession': 'student', 'marks': {'math': 21, 'eng': 12, 'urd': 21}}\n",
      "ahmed\n",
      "21\n"
     ]
    }
   ],
   "source": [
    "# access.\n",
    "print(d3)\n",
    "print(d3['name'])\n",
    "print(d3[\"marks\"][\"urd\"])"
   ]
  },
  {
   "cell_type": "code",
   "execution_count": 6,
   "id": "d387e473",
   "metadata": {},
   "outputs": [
    {
     "name": "stdout",
     "output_type": "stream",
     "text": [
      "{'name': 'usman', 'profession': 'student', 'marks': {'math': 21, 'eng': 25, 'urd': 21}}\n"
     ]
    }
   ],
   "source": [
    "# edit.\n",
    "\n",
    "d3[\"name\"] = \"usman\"\n",
    "\n",
    "d3[\"marks\"][\"eng\"] = 25\n",
    "\n",
    "print(d3)"
   ]
  },
  {
   "cell_type": "code",
   "execution_count": 39,
   "id": "c3c68fd6",
   "metadata": {},
   "outputs": [
    {
     "name": "stdout",
     "output_type": "stream",
     "text": [
      "{'name': 'ahmed', 'profession': 'student', 'marks': {'math': 21, 'eng': 12, 'urd': 21}}\n",
      "{'name': 'ahmed', 'profession': 'student', 'marks': {'math': 21, 'eng': 12, 'urd': 21, 'isl': 25}, 'age': 21}\n"
     ]
    }
   ],
   "source": [
    "# add.\n",
    "print(d3)\n",
    "d3[\"age\"]= 21\n",
    "d3[\"marks\"][\"isl\"]=25\n",
    "print(d3)"
   ]
  },
  {
   "cell_type": "code",
   "execution_count": 41,
   "id": "965dfd91",
   "metadata": {},
   "outputs": [
    {
     "name": "stdout",
     "output_type": "stream",
     "text": [
      "{'name': 'ahmed', 'profession': 'student', 'marks': {'math': 21, 'eng': 12, 'urd': 21, 'isl': 25}, 'age': 21}\n",
      "{'name': 'ahmed', 'profession': 'student', 'marks': {'math': 21, 'eng': 12, 'urd': 21}}\n"
     ]
    }
   ],
   "source": [
    "# Delete.  (del, clear)\n",
    "\n",
    "print(d3)\n",
    "del d3[\"age\"]\n",
    "del d3[\"marks\"][\"isl\"]   # del specific key and value.\n",
    "print(d3)"
   ]
  },
  {
   "cell_type": "code",
   "execution_count": 43,
   "id": "656336e4",
   "metadata": {},
   "outputs": [
    {
     "name": "stdout",
     "output_type": "stream",
     "text": [
      "{'name': 'ahmed', 'profession': 'student', 'marks': {'math': 21, 'eng': 12, 'urd': 21}}\n",
      "{}\n"
     ]
    }
   ],
   "source": [
    "# clear.\n",
    "print(d3)\n",
    "d3.clear()  # clear all.\n",
    "print(d3)"
   ]
  },
  {
   "cell_type": "code",
   "execution_count": 65,
   "id": "7ed5e926",
   "metadata": {},
   "outputs": [
    {
     "name": "stdout",
     "output_type": "stream",
     "text": [
      "{'name': 'ahmed', 'gender': 'male', 'age': 21}\n",
      "{(1, 2, 3): 'paksitan'}\n",
      "name\n",
      "gender\n",
      "age\n",
      " \n",
      "name ahmed\n",
      "gender male\n",
      "age 21\n",
      "True\n",
      "False\n"
     ]
    }
   ],
   "source": [
    "# Operations.\n",
    "print(d1)\n",
    "print(d2)\n",
    "\n",
    "# print(d1+d2)  # won't concatinate.\n",
    "# print(d1*2)   # won't multiply.\n",
    "\n",
    "for i in d1:   # loop.\n",
    "    print(i)   # this returns key only.\n",
    "\n",
    "print(\" \")\n",
    "\n",
    "for i in d1:\n",
    "    print(i,d1[i])   # this returns key and values both. \n",
    "    \n",
    "# membership.\n",
    "print(\"age\" in d1)  # this checks keys only, not values.\n",
    "print(21 in d1)\n"
   ]
  },
  {
   "cell_type": "code",
   "execution_count": 72,
   "id": "e43b4293",
   "metadata": {},
   "outputs": [
    {
     "name": "stdout",
     "output_type": "stream",
     "text": [
      "{'name': 'ahmed', 'gender': 'male', 'age': 21}\n",
      "3\n",
      "name\n",
      "age\n",
      "['age', 'gender', 'name']\n",
      "['name', 'gender', 'age']\n",
      "dict_keys(['name', 'gender', 'age'])\n",
      "dict_values(['ahmed', 'male', 21])\n"
     ]
    }
   ],
   "source": [
    "# functions.\n",
    "print(d1)\n",
    "print(len(d1))\n",
    "print(max(d1))    # gives max as per ascii.\n",
    "print(min(d1))    # gives min as per ascii.\n",
    "print(sorted(d1))\n",
    "print(sorted(d1, reverse = True))\n",
    "\n",
    "# functions specific to dictonary.\n",
    "print(d1.keys())\n",
    "print(d1.values())"
   ]
  },
  {
   "cell_type": "markdown",
   "id": "ce430188",
   "metadata": {},
   "source": [
    "# Functions"
   ]
  },
  {
   "cell_type": "markdown",
   "id": "8b548f31",
   "metadata": {},
   "source": [
    "- if local variable is present, action will be preforme on it.\n",
    "- we can only change global varialbe using \"global\" keyword\n",
    "- global variable can be use by any function."
   ]
  },
  {
   "cell_type": "code",
   "execution_count": 35,
   "id": "6eaf2b75",
   "metadata": {},
   "outputs": [
    {
     "name": "stdout",
     "output_type": "stream",
     "text": [
      "odd\n",
      "even\n",
      "odd\n",
      "even\n",
      "odd\n",
      "even\n",
      "odd\n",
      "even\n",
      "odd\n",
      "even\n",
      "\n",
      "Input : integer             \n",
      "Output : even or odd\n",
      "check number is even or odd\n",
      "last change : 18,Apr,24\n",
      "\n"
     ]
    }
   ],
   "source": [
    "def is_even(num):\n",
    "    \n",
    "# function documentation. func is written in this format.\n",
    "    \"\"\"\n",
    "Input : integer             \n",
    "Output : even or odd\n",
    "check number is even or odd\n",
    "last change : 18,Apr,24\n",
    "\"\"\"\n",
    "    \n",
    "    if num % 2 == 0:\n",
    "        return \"even\"\n",
    "    else:\n",
    "        return \"odd\"\n",
    "\n",
    "# loop\n",
    "for i in range(1,11):\n",
    "    print(is_even(i))\n",
    "\n",
    "print(is_even.__doc__)   # prints function documentation."
   ]
  },
  {
   "cell_type": "code",
   "execution_count": 129,
   "id": "fa8a82b2",
   "metadata": {},
   "outputs": [
    {
     "name": "stdout",
     "output_type": "stream",
     "text": [
      "25\n",
      "25\n"
     ]
    }
   ],
   "source": [
    "def power(a=0,b=0):\n",
    "    print(a**b)\n",
    "\n",
    "# positional argument.\n",
    "power(5,2)\n",
    "\n",
    "# keyword argument.\n",
    "power(b=2,a=5)"
   ]
  },
  {
   "cell_type": "code",
   "execution_count": 42,
   "id": "d01c8577",
   "metadata": {},
   "outputs": [
    {
     "name": "stdout",
     "output_type": "stream",
     "text": [
      "120\n"
     ]
    }
   ],
   "source": [
    "# arbitrary argument.\n",
    "\n",
    "# input: 1*2*3 = 6 : output.\n",
    "\n",
    "def func(*number):    # * used to convert number into tuple.\n",
    "    product = 1\n",
    "    for i in number:\n",
    "        product = product * i\n",
    "    print(product)\n",
    "    \n",
    "func(1,2,3,4,5)"
   ]
  },
  {
   "cell_type": "markdown",
   "id": "c2070a5b",
   "metadata": {},
   "source": [
    "### Function Problems:"
   ]
  },
  {
   "cell_type": "code",
   "execution_count": 52,
   "id": "e183f76f",
   "metadata": {},
   "outputs": [
    {
     "name": "stdout",
     "output_type": "stream",
     "text": [
      "local z :  7\n",
      "global z :  5\n"
     ]
    }
   ],
   "source": [
    "def func(x):\n",
    "    z = 5    # local variable.\n",
    "    z+=2\n",
    "    print(\"local z : \",z)   # func can't change global variable.\n",
    "    \n",
    "z = 5     # global variable.\n",
    "func(z)\n",
    "print(\"global z : \",z)  "
   ]
  },
  {
   "cell_type": "code",
   "execution_count": 54,
   "id": "f0a6aa10",
   "metadata": {},
   "outputs": [
    {
     "name": "stdout",
     "output_type": "stream",
     "text": [
      "inital a :  5\n",
      "local a :  7\n",
      "global a :  7\n"
     ]
    }
   ],
   "source": [
    "def func(z):\n",
    "    global a   # we can do changes in global variable, using this.\n",
    "    a = 5\n",
    "    a+=2\n",
    "    print(\"local a : \",a)  # after global operation.\n",
    "\n",
    "a = 5\n",
    "print(\"inital a : \",a)   # before global operation, a is 5\n",
    "func(a)\n",
    "print(\"global a : \",a)   # a change permenantly."
   ]
  },
  {
   "cell_type": "code",
   "execution_count": 81,
   "id": "3babdd0b",
   "metadata": {},
   "outputs": [
    {
     "name": "stdout",
     "output_type": "stream",
     "text": [
      "inside func 1:  12\n",
      "inside func 2:  15\n",
      "return value :  15\n"
     ]
    }
   ],
   "source": [
    "# nested function.\n",
    "def func_1(a):\n",
    "    \n",
    "    def func_2(a):       \n",
    "        a = a + 3\n",
    "        print(\"inside func 2: \",a)\n",
    "        return a\n",
    "    \n",
    "    a = a + 5\n",
    "    print(\"inside func 1: \",a)\n",
    "    a = func_2(a)               # return value stores in a.\n",
    "    return a\n",
    "\n",
    "a = 7\n",
    "b = func_1   # alliasing.\n",
    "c = b(a)\n",
    "print(\"return value : \",c)\n"
   ]
  },
  {
   "cell_type": "code",
   "execution_count": 87,
   "id": "fc226692",
   "metadata": {},
   "outputs": [
    {
     "name": "stdout",
     "output_type": "stream",
     "text": [
      "inside func 1:  10\n",
      "inside func 2:  13\n",
      "return value :  13\n"
     ]
    }
   ],
   "source": [
    "\n",
    "# del(func_1)     # deleting func_1\n",
    "# func_1(5)     # error coz func is deleted\n",
    "\n",
    "d = b(5)   # it works due to alliasing.\n",
    "print(\"return value : \",d)"
   ]
  },
  {
   "cell_type": "code",
   "execution_count": 98,
   "id": "69204f33",
   "metadata": {},
   "outputs": [
    {
     "name": "stdout",
     "output_type": "stream",
     "text": [
      "[1, 2, 3, 4, 13]\n"
     ]
    }
   ],
   "source": [
    "# we can store function in list.\n",
    "\n",
    "L = [1,2,3,4,d]   # d = 13 above.\n",
    "print(L)"
   ]
  },
  {
   "cell_type": "code",
   "execution_count": 123,
   "id": "5ba80293",
   "metadata": {},
   "outputs": [
    {
     "name": "stdout",
     "output_type": "stream",
     "text": [
      "function 2\n",
      "function 1\n"
     ]
    }
   ],
   "source": [
    "# we can give function as input to another function.\n",
    "\n",
    "def func_1():\n",
    "    print(\"function 1\")\n",
    "    \n",
    "def func_2(z):\n",
    "    print(\"function 2\")\n",
    "    return func_1()\n",
    "\n",
    "func_2(func_1)"
   ]
  },
  {
   "cell_type": "code",
   "execution_count": 128,
   "id": "e8f672cc",
   "metadata": {},
   "outputs": [
    {
     "data": {
      "text/plain": [
       "6"
      ]
     },
     "execution_count": 128,
     "metadata": {},
     "output_type": "execute_result"
    }
   ],
   "source": [
    "# we can return funcion\n",
    "def fun_1():\n",
    "    def func_2(x,y):\n",
    "        z = x * y\n",
    "        return z\n",
    "    return func_2\n",
    "\n",
    "fun_1()(2,3)"
   ]
  },
  {
   "cell_type": "markdown",
   "id": "8e709477",
   "metadata": {},
   "source": [
    "# Lambda function"
   ]
  },
  {
   "cell_type": "markdown",
   "id": "33415aaa",
   "metadata": {},
   "source": [
    "- No return value\n",
    "- Not for code reuseabality\n",
    "- One line, No name\n",
    "- Use with higer order functions."
   ]
  },
  {
   "cell_type": "markdown",
   "id": "49fa5108",
   "metadata": {},
   "source": [
    "### Types\n",
    "- map\n",
    "- filter\n",
    "- reduce"
   ]
  },
  {
   "cell_type": "code",
   "execution_count": 5,
   "id": "e60a81c2",
   "metadata": {},
   "outputs": [
    {
     "name": "stdout",
     "output_type": "stream",
     "text": [
      "8\n"
     ]
    }
   ],
   "source": [
    "x = lambda a,b: a*b\n",
    "print(x(2,4))"
   ]
  },
  {
   "cell_type": "code",
   "execution_count": 8,
   "id": "c33d1137",
   "metadata": {},
   "outputs": [
    {
     "name": "stdout",
     "output_type": "stream",
     "text": [
      "True\n"
     ]
    }
   ],
   "source": [
    "x = lambda a: True if a%2 == 0 else False\n",
    "print(x(12))"
   ]
  },
  {
   "cell_type": "code",
   "execution_count": 10,
   "id": "b0e43a0a",
   "metadata": {},
   "outputs": [
    {
     "name": "stdout",
     "output_type": "stream",
     "text": [
      "False\n",
      "True\n"
     ]
    }
   ],
   "source": [
    "x = lambda a: a[0] == \"b\"\n",
    "print(x(\"apple\"))\n",
    "print(x(\"banana\"))"
   ]
  },
  {
   "cell_type": "code",
   "execution_count": 17,
   "id": "1cfb5d2b",
   "metadata": {},
   "outputs": [
    {
     "name": "stdout",
     "output_type": "stream",
     "text": [
      "number divisable by 2 : 66\n",
      "number not divisable by 2 :  99\n",
      "number divisable by 3 :  33\n"
     ]
    }
   ],
   "source": [
    "def func(func_1, L):\n",
    "    result = 0\n",
    "    for i in L:\n",
    "        if func_1(i):\n",
    "            result = result + i\n",
    "    return result\n",
    "L = [11,33,22,44,55]\n",
    "\n",
    "x = lambda x: x%2 == 0\n",
    "y = lambda y: y%2 != 0\n",
    "z = lambda z: z%3 == 0\n",
    "\n",
    "print(\"number divisable by 2 :\", func(x,L))\n",
    "print(\"number not divisable by 2 : \",func(y,L))\n",
    "print(\"number divisable by 3 : \",func(z,L))"
   ]
  },
  {
   "cell_type": "code",
   "execution_count": 24,
   "id": "d3148f21",
   "metadata": {},
   "outputs": [
    {
     "data": {
      "text/plain": [
       "[False, True, False, True, False]"
      ]
     },
     "execution_count": 24,
     "metadata": {},
     "output_type": "execute_result"
    }
   ],
   "source": [
    "# map\n",
    "L = [1,2,3,4,5]\n",
    "list(map(lambda x: x%2 ==0, L))   # first convert into map than into list ."
   ]
  },
  {
   "cell_type": "code",
   "execution_count": 37,
   "id": "b7ae9703",
   "metadata": {},
   "outputs": [
    {
     "data": {
      "text/plain": [
       "['Jacob Martin', 'Angela Stevens', 'Ricky Smart']"
      ]
     },
     "execution_count": 37,
     "metadata": {},
     "output_type": "execute_result"
    }
   ],
   "source": [
    "# data in dictonary form.\n",
    "students = [\n",
    "{\n",
    "\"name\": \"Jacob Martin\",\n",
    "\"father name\" : \"Ros Martin\",\n",
    "\"Address\": \"123 Hill Street\",\n",
    "}, {\n",
    "\"name\": \"Angela Stevens\",\n",
    "\"father name\" : \"Robert Stevens\",\n",
    "\"Address\": \"3 Upper Street London\",\n",
    "}, {\n",
    "\"name\": \"Ricky Smart\",\n",
    "\"father name\" : \"William Smart\",\n",
    "\"Address\": \"Unknown\",\n",
    "}\n",
    "]\n",
    "\n",
    "list(map(lambda a: a[\"name\"], students))\n"
   ]
  },
  {
   "cell_type": "code",
   "execution_count": 38,
   "id": "9acf34f5",
   "metadata": {},
   "outputs": [
    {
     "data": {
      "text/plain": [
       "[4, 5]"
      ]
     },
     "execution_count": 38,
     "metadata": {},
     "output_type": "execute_result"
    }
   ],
   "source": [
    "# filter\n",
    "L = [1,2,3,4,5]\n",
    "list(filter(lambda x: x >3, L))    # first convert it into filter then list."
   ]
  },
  {
   "cell_type": "code",
   "execution_count": 48,
   "id": "2e0ef3cb",
   "metadata": {},
   "outputs": [
    {
     "data": {
      "text/plain": [
       "['orange', 'mango']"
      ]
     },
     "execution_count": 48,
     "metadata": {},
     "output_type": "execute_result"
    }
   ],
   "source": [
    "F = ['apple','banana','orange','mango']\n",
    "list(filter(lambda z: \"g\"  in z, F))"
   ]
  },
  {
   "cell_type": "code",
   "execution_count": 50,
   "id": "635223a4",
   "metadata": {},
   "outputs": [
    {
     "data": {
      "text/plain": [
       "15"
      ]
     },
     "execution_count": 50,
     "metadata": {},
     "output_type": "execute_result"
    }
   ],
   "source": [
    "# reduce\n",
    "import functools\n",
    "L = [1,2,3,4,5]\n",
    "functools.reduce(lambda x,y : x+y, L)"
   ]
  },
  {
   "cell_type": "code",
   "execution_count": 54,
   "id": "3b3da797",
   "metadata": {},
   "outputs": [
    {
     "data": {
      "text/plain": [
       "55"
      ]
     },
     "execution_count": 54,
     "metadata": {},
     "output_type": "execute_result"
    }
   ],
   "source": [
    "L = [11,22,55,33,6,44]\n",
    "functools.reduce(lambda x,y: x if x>y else y, L)"
   ]
  },
  {
   "cell_type": "markdown",
   "id": "ddc69cff",
   "metadata": {},
   "source": [
    "# List comprehension"
   ]
  },
  {
   "cell_type": "code",
   "execution_count": 63,
   "id": "363e0145",
   "metadata": {},
   "outputs": [
    {
     "name": "stdout",
     "output_type": "stream",
     "text": [
      "[2, 4, 6, 8, 10]\n",
      "[4, 16]\n",
      "[16, 25]\n"
     ]
    }
   ],
   "source": [
    "L = [1,2,3,4,5]\n",
    "print([i * 2 for i in L])\n",
    "print([i**2 for i in L if i%2 == 0])\n",
    "print([i ** 2 for i in L if i>3])\n"
   ]
  },
  {
   "cell_type": "markdown",
   "id": "8e0e5dc3",
   "metadata": {},
   "source": [
    "# Dictonary comprehension"
   ]
  },
  {
   "cell_type": "code",
   "execution_count": 81,
   "id": "1bc22005",
   "metadata": {},
   "outputs": [
    {
     "data": {
      "text/plain": [
       "dict_items([('name', 'ahmed'), ('age', 21), ('gender', 'male')])"
      ]
     },
     "execution_count": 81,
     "metadata": {},
     "output_type": "execute_result"
    }
   ],
   "source": [
    "D = {'name': 'ahmed','age':21,'gender':'male'}\n",
    "D.items()"
   ]
  },
  {
   "cell_type": "code",
   "execution_count": 86,
   "id": "43d64aa2",
   "metadata": {},
   "outputs": [
    {
     "data": {
      "text/plain": [
       "{'name': 'ahmed', 'gender': 'male'}"
      ]
     },
     "execution_count": 86,
     "metadata": {},
     "output_type": "execute_result"
    }
   ],
   "source": [
    "{key:value for key,value in D.items() if len(key)> 3}"
   ]
  },
  {
   "cell_type": "code",
   "execution_count": 87,
   "id": "94754b71",
   "metadata": {},
   "outputs": [
    {
     "data": {
      "text/plain": [
       "{11: 121, 22: 484, 33: 1089, 44: 1936}"
      ]
     },
     "execution_count": 87,
     "metadata": {},
     "output_type": "execute_result"
    }
   ],
   "source": [
    "L = [11,22,33,44]\n",
    "{item: item**2 for item in L}"
   ]
  },
  {
   "cell_type": "code",
   "execution_count": 88,
   "id": "eb78ac94",
   "metadata": {},
   "outputs": [
    {
     "data": {
      "text/plain": [
       "{22: 484, 44: 1936}"
      ]
     },
     "execution_count": 88,
     "metadata": {},
     "output_type": "execute_result"
    }
   ],
   "source": [
    "{item: item **2 for item in L if item %2 ==0}"
   ]
  },
  {
   "cell_type": "markdown",
   "id": "a9c113c7",
   "metadata": {},
   "source": [
    "# OOP"
   ]
  },
  {
   "cell_type": "code",
   "execution_count": 60,
   "id": "ce6e5a3c",
   "metadata": {},
   "outputs": [
    {
     "name": "stdout",
     "output_type": "stream",
     "text": [
      "Enter the PIN: 123\n",
      "PIN Set Sucessful.\n",
      "Enter the PIN: 321\n",
      "Incorrect PIN.\n",
      "Enter the PIN: 123\n",
      "\n",
      "         \n",
      "        1. press 1 to Deposit Balance: \n",
      "        2. press 2 to Withdraw Balance: \n",
      "        3. press 3 to Check Balance: \n",
      "        4. press 4 to Exit: \n",
      "        1\n",
      "Enter the Deposit Amount: 111\n",
      "Amount Deposit Successful.\n",
      "\n",
      "         \n",
      "        1. press 1 to Deposit Balance: \n",
      "        2. press 2 to Withdraw Balance: \n",
      "        3. press 3 to Check Balance: \n",
      "        4. press 4 to Exit: \n",
      "        2\n",
      "Enter the WithDrawl Amount: 111\n",
      "Amount Withdraw Successful.\n",
      "\n",
      "         \n",
      "        1. press 1 to Deposit Balance: \n",
      "        2. press 2 to Withdraw Balance: \n",
      "        3. press 3 to Check Balance: \n",
      "        4. press 4 to Exit: \n",
      "        3\n",
      "Total Balance:  0\n",
      "\n",
      "         \n",
      "        1. press 1 to Deposit Balance: \n",
      "        2. press 2 to Withdraw Balance: \n",
      "        3. press 3 to Check Balance: \n",
      "        4. press 4 to Exit: \n",
      "        4\n",
      "Thank You For Visiting Us\n"
     ]
    }
   ],
   "source": [
    "# ATM Code.\n",
    "class Atm:\n",
    "    def __init__(self):\n",
    "        self.pin = \"\"\n",
    "        self.balance = 0\n",
    "        return self.create_pin()\n",
    "    \n",
    "    def manu(self):\n",
    "        user_input = int(input(\"\"\"\n",
    "         \n",
    "        1. press 1 to Deposit Balance: \n",
    "        2. press 2 to Withdraw Balance: \n",
    "        3. press 3 to Check Balance: \n",
    "        4. press 4 to Exit: \n",
    "        \"\"\"))\n",
    "        \n",
    "        if user_input == 1:\n",
    "            self.deposit_balance()\n",
    "        elif user_input == 2:\n",
    "            self.with_draw()\n",
    "        elif user_input == 3:\n",
    "            self.check_balance()\n",
    "        else:\n",
    "            print(\"Thank You For Visiting Us\")\n",
    "            \n",
    "    def create_pin(self):\n",
    "        self.pin = input(\"Enter the PIN: \")\n",
    "        print(\"PIN Set Sucessful.\")\n",
    "        return self.check_pin()\n",
    "    \n",
    "    def check_pin(self):\n",
    "        check_pin = input(\"Enter the PIN: \")\n",
    "        if check_pin == self.pin:\n",
    "            return self.manu()\n",
    "        else:\n",
    "            print(\"Incorrect PIN.\")\n",
    "            return self.check_pin()\n",
    "    \n",
    "    def deposit_balance(self):\n",
    "        deposit = int(input(\"Enter the Deposit Amount: \"))\n",
    "        self.balance = deposit + self.balance\n",
    "        print(\"Amount Deposit Successful.\")\n",
    "        return self.manu()\n",
    "        \n",
    "    def with_draw(self):\n",
    "        with_draw = int(input(\"Enter the WithDrawl Amount: \"))\n",
    "        if self.balance >= with_draw:\n",
    "            self.balance = self.balance - with_draw\n",
    "            print(\"Amount Withdraw Successful.\")\n",
    "        else:\n",
    "            print(\"Insufficient Balance.\")\n",
    "        return self.manu()\n",
    "        \n",
    "    \n",
    "    def check_balance(self):\n",
    "        print(\"Total Balance: \", self.balance)\n",
    "        return self.manu()\n",
    "        \n",
    "            \n",
    "customer_1 = Atm()"
   ]
  },
  {
   "cell_type": "code",
   "execution_count": 74,
   "id": "a5a136cf",
   "metadata": {},
   "outputs": [
    {
     "name": "stdout",
     "output_type": "stream",
     "text": [
      "12/6\n",
      "38/6\n"
     ]
    }
   ],
   "source": [
    "# Fraction Formatng.\n",
    "\n",
    "class Demo:\n",
    "    \n",
    "    def __init__(self, nom, denom):\n",
    "        self.nom = nom\n",
    "        self.denom = denom\n",
    "    \n",
    "    def __str__(self):\n",
    "        return \"{}/{}\".format(self.nom, self.denom)\n",
    "    \n",
    "    def __truediv__(self,other):\n",
    "        nominator = self.nom * other.nom\n",
    "        denominator = self.denom * other.denom\n",
    "        return \"{}/{}\".format(nominator, denominator)\n",
    "    \n",
    "    def __mul__(self, other):\n",
    "        nominator = self.nom * other.denom + self.denom * other.nom\n",
    "        denominator = self.denom * other.denom\n",
    "        return\"{}/{}\".format(nominator, denominator)\n",
    "           \n",
    "obj_1 = Demo(2,6)\n",
    "obj_2 = Demo(6,1)\n",
    "\n",
    "print(obj_1 / obj_2)\n",
    "print(obj_1 * obj_2)"
   ]
  },
  {
   "cell_type": "markdown",
   "id": "646edb84",
   "metadata": {},
   "source": [
    "# Encapculation (making data private)\n",
    "- we use __ before data to be private.\n",
    "- nothing is completely private in python.\n",
    "- we can access data using _ class name __method name."
   ]
  },
  {
   "cell_type": "code",
   "execution_count": 39,
   "id": "10626920",
   "metadata": {},
   "outputs": [
    {
     "name": "stdout",
     "output_type": "stream",
     "text": [
      "\n",
      "        1. press 1 to set pin : \n",
      "        2. press 2 to change pin :\n",
      "        3. press 3 to show pin : \n",
      "        4. press 4 to exit :\n",
      "        3\n",
      "Your pin is:  \n",
      "\n",
      "        1. press 1 to set pin : \n",
      "        2. press 2 to change pin :\n",
      "        3. press 3 to show pin : \n",
      "        4. press 4 to exit :\n",
      "        4\n",
      "Thankyou for visiting us.\n"
     ]
    }
   ],
   "source": [
    "class Demo:\n",
    "    def __init__(self):\n",
    "        self.__balance = 0     # private data.\n",
    "        self.__pin = \"\"\n",
    "        self.__manu()\n",
    "    \n",
    "    def __manu(self):\n",
    "        user_input = int(input(\"\"\"\n",
    "        1. press 1 to set pin : \n",
    "        2. press 2 to change pin :\n",
    "        3. press 3 to show pin : \n",
    "        4. press 4 to exit :\n",
    "        \"\"\"))\n",
    "        if user_input == 1:\n",
    "            self.set_pin()\n",
    "        elif user_input == 2:\n",
    "            self.change_pin()\n",
    "        elif user_input == 3:\n",
    "            self.show_pin()\n",
    "        else:\n",
    "            print(\"Thankyou for visiting us.\")\n",
    "        \n",
    "    def set_pin(self):\n",
    "        self.__pin = input(\"enter the pin: \")\n",
    "        return self.__manu()\n",
    "    \n",
    "    def change_pin(self):\n",
    "        self.__pin = input(\"enter new pin: \")\n",
    "        return self.__manu()\n",
    "        \n",
    "    def show_pin(self):\n",
    "        print(\"Your pin is: \",self.__pin)\n",
    "        return self.__manu()\n",
    "        \n",
    "    \n",
    "obj = Demo()"
   ]
  },
  {
   "cell_type": "markdown",
   "id": "fd0c0dab",
   "metadata": {},
   "source": [
    "# Pass by reference \n",
    "## (if we pass mutable datatype, into functions. It will do changes permanently)\n",
    "### Mutable datatypes are:\n",
    "- list\n",
    "- sets\n",
    "- dictonary\n",
    "- class objects are also mutable."
   ]
  },
  {
   "cell_type": "code",
   "execution_count": 49,
   "id": "bd50b4c4",
   "metadata": {},
   "outputs": [
    {
     "name": "stdout",
     "output_type": "stream",
     "text": [
      "Ich bin Ahmed\n",
      "Ich bin Usman.\n"
     ]
    }
   ],
   "source": [
    "# class objects are mutable.\n",
    "class Demo:\n",
    "    def __init__(self, name):\n",
    "        self.name = name\n",
    "        \n",
    "def custom_1(self):\n",
    "    print( self.name)\n",
    "    \n",
    "    self.name = \"Ich bin Usman.\"\n",
    "    print(self.name)\n",
    "\n",
    "obj_1 = Demo(\"Ich bin Ahmed\")\n",
    "obj_2 = custom_1(obj_1)\n"
   ]
  },
  {
   "cell_type": "code",
   "execution_count": 67,
   "id": "3a21d426",
   "metadata": {},
   "outputs": [
    {
     "name": "stdout",
     "output_type": "stream",
     "text": [
      "list :  [1, 2, 3]\n",
      "outside the function:  [1, 2, 3, 4, 5]\n"
     ]
    }
   ],
   "source": [
    "# List is mutable.\n",
    "\n",
    "def change_list(L):\n",
    "    L.append(4)\n",
    "    L.append(5)\n",
    "    \n",
    "L = [1,2,3]\n",
    "print(\"list : \",L)\n",
    "\n",
    "change_list(L)\n",
    "print(\"outside the function: \",L)   # list has been changed permanently."
   ]
  },
  {
   "cell_type": "code",
   "execution_count": 70,
   "id": "b76ff666",
   "metadata": {},
   "outputs": [
    {
     "name": "stdout",
     "output_type": "stream",
     "text": [
      "tuple :  (1, 2, 3)\n",
      "inside the funtion:  (1, 2, 3, 4, 5)\n",
      "outside the function :  (1, 2, 3)\n"
     ]
    }
   ],
   "source": [
    "# tuple is im-mutable.\n",
    "def func(tup):\n",
    "    t_1 = tup + (4,5)\n",
    "    print(\"inside the funtion: \", t_1)\n",
    "\n",
    "t = (1,2,3)\n",
    "print(\"tuple : \",t)\n",
    "func(t)\n",
    "print(\"outside the function : \", t)"
   ]
  },
  {
   "cell_type": "code",
   "execution_count": 83,
   "id": "51d11922",
   "metadata": {},
   "outputs": [
    {
     "name": "stdout",
     "output_type": "stream",
     "text": [
      "Iam Ahmed and my age is 21\n",
      "Iam Usman and my age is 22\n",
      "Iam Khan and my age is 23\n"
     ]
    }
   ],
   "source": [
    "# we can pass class object in form of list, tuple and dict.\n",
    "class Demo:\n",
    "    def __init__(self, name, age):\n",
    "        self.name = name\n",
    "        self.age = age\n",
    "    \n",
    "    def func(self):\n",
    "        print(\"Iam\",self.name,\"and my age is\", self.age)\n",
    "\n",
    "obj_1 = Demo(\"Ahmed\",21)\n",
    "# obj_1.func()\n",
    "obj_2 = Demo(\"Usman\",22)\n",
    "obj_3 = Demo(\"Khan\",23)\n",
    "\n",
    "L = (obj_1, obj_2, obj_3)\n",
    "for i in L:\n",
    "    i.func()\n",
    "    "
   ]
  },
  {
   "cell_type": "markdown",
   "id": "af23bc46",
   "metadata": {},
   "source": [
    "### 2 Types of Variables\n",
    "- static or class (value is same for different class-objects) e.g: bank branch code.\n",
    "- instant variable (value is different for different class-objects) e.g: serial number.\n"
   ]
  },
  {
   "cell_type": "code",
   "execution_count": 25,
   "id": "d056a75d",
   "metadata": {},
   "outputs": [
    {
     "name": "stdout",
     "output_type": "stream",
     "text": [
      "1\n",
      "2\n",
      "3\n",
      "('serial no :', 4)\n",
      "enter serial no: 10\n",
      "('serial no :', '10')\n"
     ]
    }
   ],
   "source": [
    "# adding serial no in atm.\n",
    "class Atm:\n",
    "    # instant variable.\n",
    "    __counter = 1\n",
    "    \n",
    "    def __init__(self):\n",
    "        \n",
    "        # static variable.\n",
    "        self.__pin = \" \"\n",
    "        self.__balance = 0\n",
    "        \n",
    "        # accessing instant variable.(class name dot instant variable.)\n",
    "        self.sno = Atm.__counter\n",
    "        Atm.__counter+=1\n",
    "            \n",
    "    def create_pin(self):\n",
    "        self.__pin = input(\"enter new pin: \")\n",
    "        \n",
    "    def show_pin(self):\n",
    "        print(\"you pin is \", self.__pin)\n",
    "        \n",
    "    \n",
    "    @staticmethod\n",
    "    def show_sno():\n",
    "        return 'serial no :',Atm.__counter\n",
    "        \n",
    "    @staticmethod\n",
    "    def edit_sno():\n",
    "        Atm.__counter = input(\"enter serial no: \")\n",
    "        \n",
    "        \n",
    "        \n",
    "    \n",
    "obj_1 = Atm()  \n",
    "obj_2 = Atm()\n",
    "obj_3 = Atm()\n",
    "\n",
    "print(obj_1.sno)\n",
    "print(obj_2.sno)\n",
    "print(obj_3.sno)\n",
    "\n",
    "print(Atm.show_sno())\n",
    "\n",
    "Atm.edit_sno()\n",
    "print(Atm.show_sno())"
   ]
  },
  {
   "cell_type": "code",
   "execution_count": 59,
   "id": "ac9e9753",
   "metadata": {},
   "outputs": [
    {
     "name": "stdout",
     "output_type": "stream",
     "text": [
      "Ahmed Kohat\n",
      "usman Lahore\n"
     ]
    }
   ],
   "source": [
    "# aggregation\n",
    "\n",
    "class Intro:\n",
    "    def __init__(self, name , age, gender, address):\n",
    "        self.name = name\n",
    "        self.age = age\n",
    "        self.gender = gender\n",
    "        self.address = address\n",
    "    \n",
    "    def edit_profile(self, new_name, new_age, new_gender, new_city, new_postal_code, new_province):\n",
    "        self.name = new_name\n",
    "        self.age = new_age\n",
    "        self.gender = new_gender\n",
    "        self.address.edit_address(new_city, new_postal_code, new_province)\n",
    "        \n",
    "    \n",
    "    \n",
    "class Adress:\n",
    "    def __init__(self, city, postal_code, province):\n",
    "        self.city = city\n",
    "        self.postal_code = postal_code\n",
    "        self.province = province\n",
    "        \n",
    "    def edit_address(self, new_city, new_postal_code, new_province):\n",
    "        self.city = new_city\n",
    "        self.postal_code = new_postal_code\n",
    "        self.province = new_province\n",
    "\n",
    "obj_1 = Adress(\"Kohat\", 26000, \"KPK\")\n",
    "obj_2 = Intro(\"Ahmed\", 21, \"Male\", obj_1)\n",
    "\n",
    "print(obj_2.name, obj_2.address.city)\n",
    "\n",
    "obj_2.edit_profile(\"usman\", 22, \"male\", \"Lahore\", 1111, \"punjab\")\n",
    "print(obj_2.name, obj_2.address.city)\n",
    "\n"
   ]
  },
  {
   "cell_type": "markdown",
   "id": "ffb3b576",
   "metadata": {},
   "source": [
    "# Inheritance\n",
    "- we can access class from \"child to parent\" but not \"parent to child\"."
   ]
  },
  {
   "cell_type": "code",
   "execution_count": 74,
   "id": "69500446",
   "metadata": {},
   "outputs": [
    {
     "name": "stdout",
     "output_type": "stream",
     "text": [
      "registering course...\n",
      "sign up\n",
      "********************\n",
      "adding course.\n",
      "login\n"
     ]
    }
   ],
   "source": [
    "class Demo:\n",
    "    def sign_up(self):\n",
    "        print(\"sign up\")\n",
    "    def login(self):\n",
    "        print(\"login\")\n",
    "        \n",
    "class Instructor(Demo):\n",
    "    def add_course(self):\n",
    "        print(\"adding course.\")\n",
    "    def check_reviews(self):\n",
    "        print(\"checking reviews...\")\n",
    "        \n",
    "class Student(Demo):\n",
    "    def reg_course(self):\n",
    "        print(\"registering course...\")\n",
    "    def add_review(self):\n",
    "        print(\"enter review..\")\n",
    "        \n",
    "obj_1 = Student()\n",
    "obj_1.reg_course()\n",
    "obj_1.sign_up()\n",
    "\n",
    "print(\"*\" * 20)\n",
    "obj_2 = Instructor()\n",
    "obj_2.add_course()\n",
    "obj_2.login()\n",
    "        "
   ]
  },
  {
   "cell_type": "markdown",
   "id": "d995ed5a",
   "metadata": {},
   "source": [
    "# Polymorphism\n",
    "- method overriding  (creating same method in both classes)\n",
    "- method overloading (creating same method, but different inputs)\n",
    "- operator overloading  "
   ]
  },
  {
   "cell_type": "markdown",
   "id": "8903d02b",
   "metadata": {},
   "source": [
    "### Method overriding."
   ]
  },
  {
   "cell_type": "code",
   "execution_count": 79,
   "id": "c7998dc8",
   "metadata": {},
   "outputs": [
    {
     "name": "stdout",
     "output_type": "stream",
     "text": [
      "buying a smart phone.\n",
      "buying a phone.\n"
     ]
    }
   ],
   "source": [
    "class Parent:\n",
    "    def __init__(self, brand, price):\n",
    "        self.brand = brand\n",
    "        self.price = price\n",
    "    def phone(self):\n",
    "        print(\"buying a phone.\")\n",
    "        \n",
    "class Child(Parent):\n",
    "    def phone(self):\n",
    "        print(\"buying a smart phone.\")\n",
    "        super().phone()    # super() dot parent class method. use to access method of parent class.\n",
    "                            # it should be first statment, and only works inside child class.\n",
    "                             # we can access parent's constructor, method but not attributes(data)\n",
    "        \n",
    "obj = Child(\"smasung\", 2500)\n",
    "obj.phone()\n",
    "\n",
    "    "
   ]
  },
  {
   "cell_type": "code",
   "execution_count": 84,
   "id": "d44aa805",
   "metadata": {},
   "outputs": [
    {
     "name": "stdout",
     "output_type": "stream",
     "text": [
      "samsung 3000\n",
      "8 512\n"
     ]
    }
   ],
   "source": [
    "# (brand,price,ram,rom)\n",
    "\n",
    "class Parent:\n",
    "    def __init__(self, brand, price):\n",
    "        self.brand = brand\n",
    "        self.price = price\n",
    "        \n",
    "class Child(Parent):\n",
    "    def __init__(self, brand, price, ram, rom):\n",
    "        super().__init__(brand, price)\n",
    "        self.ram = ram \n",
    "        self.rom = rom\n",
    "        \n",
    "obj = Child(\"samsung\",3000, 8, 512)\n",
    "\n",
    "print(obj.brand, obj.price)\n",
    "print(obj.ram, obj.rom)"
   ]
  },
  {
   "cell_type": "code",
   "execution_count": 3,
   "id": "543040b2",
   "metadata": {},
   "outputs": [
    {
     "name": "stdout",
     "output_type": "stream",
     "text": [
      "100\n",
      "50\n"
     ]
    }
   ],
   "source": [
    "class Parent:\n",
    "    def __init__(self):\n",
    "        self.var = 50\n",
    "        \n",
    "class Child(Parent):\n",
    "    def __init__(self):\n",
    "        super().__init__()\n",
    "        self.num = 100\n",
    "        \n",
    "    def varnum(self):\n",
    "        print(self.num)\n",
    "        print(self.var)\n",
    "obj = Child()\n",
    "obj.varnum()"
   ]
  },
  {
   "cell_type": "markdown",
   "id": "22f0b935",
   "metadata": {},
   "source": [
    "### Method overloading. (doesn't works in python)\n",
    "- the same method behaves differently by changing it's inputs."
   ]
  },
  {
   "cell_type": "code",
   "execution_count": 20,
   "id": "d3c2a36c",
   "metadata": {},
   "outputs": [
    {
     "name": "stdout",
     "output_type": "stream",
     "text": [
      "8\n",
      "39.4384\n"
     ]
    }
   ],
   "source": [
    "class Geo:\n",
    "    def circle_area(l):\n",
    "        return 3.14 * 3.14 * l\n",
    "        \n",
    "    def rec_area(l,w):\n",
    "        return l * w\n",
    "\n",
    "obj = Geo\n",
    "print(obj.rec_area(2,4))\n",
    "print(obj.circle_area(4))  # if we give 2 inputs, it won't work.\n"
   ]
  },
  {
   "cell_type": "code",
   "execution_count": 43,
   "id": "bb9a6949",
   "metadata": {},
   "outputs": [
    {
     "name": "stdout",
     "output_type": "stream",
     "text": [
      "are of circle:  39.4384\n",
      "area of rectangle:  8\n"
     ]
    }
   ],
   "source": [
    "# write logic for the above code.\n",
    "class Geo:\n",
    "    def area(self, l, w=0):\n",
    "        if w == 0:\n",
    "            print(\"are of circle: \", 3.14 * 3.14 * l)\n",
    "        else:\n",
    "            print(\"area of rectangle: \", l * w)\n",
    "    \n",
    "obj = Geo()\n",
    "obj.area(4)\n",
    "obj.area(2,4)\n"
   ]
  },
  {
   "cell_type": "markdown",
   "id": "f0da8207",
   "metadata": {},
   "source": [
    "### Operation overloading\n",
    "- if we use \"+\" and it won't work properly, then it's operation overloading.\n",
    "- '5' + '5' = 55."
   ]
  },
  {
   "cell_type": "code",
   "execution_count": 44,
   "id": "97d979ce",
   "metadata": {},
   "outputs": [
    {
     "data": {
      "text/plain": [
       "'55'"
      ]
     },
     "execution_count": 44,
     "metadata": {},
     "output_type": "execute_result"
    }
   ],
   "source": [
    "\"5\"+\"5\""
   ]
  },
  {
   "cell_type": "code",
   "execution_count": 51,
   "id": "b74e59d1",
   "metadata": {},
   "outputs": [
    {
     "name": "stdout",
     "output_type": "stream",
     "text": [
      "4/4\n",
      "1.0\n"
     ]
    }
   ],
   "source": [
    "class Fract:\n",
    "    def __init__(self, nom, denom):\n",
    "        self.nom = nom\n",
    "        self.denom = denom\n",
    "    def __str__(self):\n",
    "        return \"{}/{}\".format(self.nom, self.denom)\n",
    "    \n",
    "    def __truediv__(self, other):\n",
    "        nominator = self.nom *  other.nom\n",
    "        denominator = self.denom * other.denom\n",
    "        return \"{}/{}\".format(nominator,denominator)\n",
    "\n",
    "obj_1 = Fract(2,2)\n",
    "obj_2 = Fract(2,2)\n",
    "print(obj_1 / obj_2)   # its also operation overloading, coz division operation is n't working properly.\n",
    "\n",
    "print(4/4)    # this operation shows proper answer."
   ]
  },
  {
   "cell_type": "code",
   "execution_count": null,
   "id": "aafd8ea1",
   "metadata": {},
   "outputs": [],
   "source": []
  }
 ],
 "metadata": {
  "kernelspec": {
   "display_name": "Python 3 (ipykernel)",
   "language": "python",
   "name": "python3"
  },
  "language_info": {
   "codemirror_mode": {
    "name": "ipython",
    "version": 3
   },
   "file_extension": ".py",
   "mimetype": "text/x-python",
   "name": "python",
   "nbconvert_exporter": "python",
   "pygments_lexer": "ipython3",
   "version": "3.7.2"
  }
 },
 "nbformat": 4,
 "nbformat_minor": 5
}
